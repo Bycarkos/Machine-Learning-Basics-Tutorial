{
 "cells": [
  {
   "cell_type": "markdown",
   "metadata": {},
   "source": [
    "# Pràctica 6: Naive Bayes\n"
   ]
  },
  {
   "cell_type": "markdown",
   "metadata": {},
   "source": [
    "## Avaluació i entregues\n",
    "\n",
    "### Entregues\n",
    "Les pràctiques es realitzarán els divendres de 15:00 a 17:00. Cada setmana presentarem nous mètodes i algorismes vistos a la classe de teoria.\n",
    "\n",
    "L'entrega, es realitzarà el següent **dijous abans de les 23:59**, és a dir, quasibé tota una setmana per a realitzar les tasques. Es pujará un .ipynb ja executat, **sense ZIP**, on no només hi hagi codi sinó també text explicatiu de gràfiques, resultats, i analisis. Tingueu en compte que no es valora tant la quantitat, sino la qualitat del que s'hi explica. Hem d'aprendre a extreure el gra de la palla i presentar-ho de forma correcta i concisa.\n",
    "\n",
    "\n",
    "### Avaluació\n",
    "Aquesta pràctica tractará els següents temes:\n",
    "\n",
    "* A. Ús Naive Bayes Sci-kit Learn (60%)\n",
    "* B. Implementació Naive Bayes (40%)\n",
    "\n",
    "Per descomptat, tots els experiments seguiran aplicant els coneixements apresos a les pràctiques anteriors, és a dir, aplicant una metodologia correcta de crosvalidació per tal de poder extreure conclusions vàlides.\n",
    "\n",
    "<a href=\"https://www.flickr.com/photos/mattbuck007/3676624894\"><img src=\"https://3qeqpr26caki16dnhd19sv6by6v-wpengine.netdna-ssl.com/wp-content/uploads/2014/12/naive-bayes-classifier.jpg\" width=500></a>\n"
   ]
  },
  {
   "cell_type": "markdown",
   "metadata": {},
   "source": [
    "## Introducció\n",
    "\n",
    "Els models Naive Bayes són un grup d’algoritmes de classificació extremadament ràpids i senzills que sovint són adequats per a conjunts de dades de molt alta dimensió.\n",
    "\n",
    "Com que són tan ràpids i tenen tan pocs paràmetres, acaben sent molt útils com a ràpid baseline per a un problemes de classificació senzills.\n",
    "\n",
    "Aquesta secció se centrarà en una explicació intuïtiva de com funcionen els classificadors ingenus de Bayes.\n"
   ]
  },
  {
   "cell_type": "markdown",
   "metadata": {},
   "source": [
    "### Classificació bayesiana\n",
    "\n",
    "Els classificadors de Bayes ingenus es basen en el teorema de Bayes, que és una equació que descriu la relació de probabilitats condicionals de quantitats estadístiques.\n",
    "\n",
    "A la classificació bayesiana, ens interessa trobar la probabilitat d'una etiqueta donades algunes característiques observades, que podem escriure com $ P (y ~|~ X) $.\n",
    "\n",
    "El teorema de Bayes ens explica com expressar-ho en termes de quantitats que podem calcular més directament:\n",
    "\n",
    "$$\n",
    "P(y \\mid x_1, \\dots, x_n) = \\frac{P(y) P(x_1, \\dots, x_n \\mid y)}\n",
    "                                 {P(x_1, \\dots, x_n)}\n",
    "$$\n",
    "\n",
    "Utilitzant l'assumpció ingenua d'independencia condicional, podem simplificar la relació per tot $i$.\n",
    "\n",
    "$$\n",
    "P(y \\mid x_1, \\dots, x_n) = \\frac{P(y) \\prod_{i=1}^{n} P(x_i \\mid y)}\n",
    "                                 {P(x_1, \\dots, x_n)}\n",
    "$$\n",
    "\n",
    "Ja que $P(x_1, \\dots, x_n)$ és constant donada una entrada, es pot utilitzar la següent simplificació, que será donarà un resultat proporcional al real, per tant, tindrem la mateixa sortida.\n",
    "\n",
    "$$ P(y \\mid x_1, \\dots, x_n) \\propto P(y) \\prod_{i=1}^{n} P(x_i \\mid y) $$\n",
    "\n",
    "La classificació final s'obtindrà:\n",
    "\n",
    "$$ \\hat{y} = \\arg\\max_y P(y) \\prod_{i=1}^{n} P(x_i \\mid y) $$\n"
   ]
  },
  {
   "cell_type": "markdown",
   "metadata": {},
   "source": [
    "Tingueu en compte que $P (y)$ també s’anomena **probabilitat de classe** i $P (x_i | y)$ s’anomena **probabilitat condicional**. \n",
    "\n",
    "Els diferents classificadors ingenus de Bayes es diferencien principalment pels supòsits que fan sobre la distribució de $P (x_i | y)$. \n",
    "\n",
    "Intentem aplicar la fórmula anterior manualment al nostre conjunt de dades meteorològiques. \n",
    "    "
   ]
  },
  {
   "cell_type": "markdown",
   "metadata": {},
   "source": [
    "### Exemple:\n",
    "\n",
    "Anem a veure un exemple [(extret d'aquesta web)](https://www.geeksforgeeks.org/naive-bayes-classifiers/). Considereu aquestes dades meteorològiques:"
   ]
  },
  {
   "cell_type": "code",
   "execution_count": 1,
   "metadata": {},
   "outputs": [
    {
     "data": {
      "text/html": [
       "<div>\n",
       "<style scoped>\n",
       "    .dataframe tbody tr th:only-of-type {\n",
       "        vertical-align: middle;\n",
       "    }\n",
       "\n",
       "    .dataframe tbody tr th {\n",
       "        vertical-align: top;\n",
       "    }\n",
       "\n",
       "    .dataframe thead th {\n",
       "        text-align: right;\n",
       "    }\n",
       "</style>\n",
       "<table border=\"1\" class=\"dataframe\">\n",
       "  <thead>\n",
       "    <tr style=\"text-align: right;\">\n",
       "      <th></th>\n",
       "      <th>Outlook</th>\n",
       "      <th>Temperature</th>\n",
       "      <th>Humidity</th>\n",
       "      <th>Windy</th>\n",
       "      <th>PlayGolf</th>\n",
       "    </tr>\n",
       "  </thead>\n",
       "  <tbody>\n",
       "    <tr>\n",
       "      <th>0</th>\n",
       "      <td>Rainy</td>\n",
       "      <td>Hot</td>\n",
       "      <td>High</td>\n",
       "      <td>False</td>\n",
       "      <td>No</td>\n",
       "    </tr>\n",
       "    <tr>\n",
       "      <th>1</th>\n",
       "      <td>Rainy</td>\n",
       "      <td>Hot</td>\n",
       "      <td>High</td>\n",
       "      <td>True</td>\n",
       "      <td>No</td>\n",
       "    </tr>\n",
       "    <tr>\n",
       "      <th>2</th>\n",
       "      <td>Overcast</td>\n",
       "      <td>Hot</td>\n",
       "      <td>High</td>\n",
       "      <td>False</td>\n",
       "      <td>Yes</td>\n",
       "    </tr>\n",
       "    <tr>\n",
       "      <th>3</th>\n",
       "      <td>Sunny</td>\n",
       "      <td>Mild</td>\n",
       "      <td>High</td>\n",
       "      <td>False</td>\n",
       "      <td>Yes</td>\n",
       "    </tr>\n",
       "    <tr>\n",
       "      <th>4</th>\n",
       "      <td>Sunny</td>\n",
       "      <td>Cool</td>\n",
       "      <td>Normal</td>\n",
       "      <td>False</td>\n",
       "      <td>Yes</td>\n",
       "    </tr>\n",
       "    <tr>\n",
       "      <th>5</th>\n",
       "      <td>Sunny</td>\n",
       "      <td>Cool</td>\n",
       "      <td>Normal</td>\n",
       "      <td>True</td>\n",
       "      <td>No</td>\n",
       "    </tr>\n",
       "    <tr>\n",
       "      <th>6</th>\n",
       "      <td>Overcast</td>\n",
       "      <td>Cool</td>\n",
       "      <td>Normal</td>\n",
       "      <td>True</td>\n",
       "      <td>Yes</td>\n",
       "    </tr>\n",
       "    <tr>\n",
       "      <th>7</th>\n",
       "      <td>Rainy</td>\n",
       "      <td>Mild</td>\n",
       "      <td>High</td>\n",
       "      <td>False</td>\n",
       "      <td>No</td>\n",
       "    </tr>\n",
       "    <tr>\n",
       "      <th>8</th>\n",
       "      <td>Rainy</td>\n",
       "      <td>Cool</td>\n",
       "      <td>Normal</td>\n",
       "      <td>False</td>\n",
       "      <td>Yes</td>\n",
       "    </tr>\n",
       "    <tr>\n",
       "      <th>9</th>\n",
       "      <td>Sunny</td>\n",
       "      <td>Mild</td>\n",
       "      <td>Normal</td>\n",
       "      <td>False</td>\n",
       "      <td>Yes</td>\n",
       "    </tr>\n",
       "    <tr>\n",
       "      <th>10</th>\n",
       "      <td>Rainy</td>\n",
       "      <td>Mild</td>\n",
       "      <td>Normal</td>\n",
       "      <td>True</td>\n",
       "      <td>Yes</td>\n",
       "    </tr>\n",
       "    <tr>\n",
       "      <th>11</th>\n",
       "      <td>Overcast</td>\n",
       "      <td>Mild</td>\n",
       "      <td>High</td>\n",
       "      <td>True</td>\n",
       "      <td>Yes</td>\n",
       "    </tr>\n",
       "    <tr>\n",
       "      <th>12</th>\n",
       "      <td>Overcast</td>\n",
       "      <td>Hot</td>\n",
       "      <td>Normal</td>\n",
       "      <td>False</td>\n",
       "      <td>Yes</td>\n",
       "    </tr>\n",
       "    <tr>\n",
       "      <th>13</th>\n",
       "      <td>Sunny</td>\n",
       "      <td>Mild</td>\n",
       "      <td>High</td>\n",
       "      <td>True</td>\n",
       "      <td>No</td>\n",
       "    </tr>\n",
       "  </tbody>\n",
       "</table>\n",
       "</div>"
      ],
      "text/plain": [
       "     Outlook Temperature Humidity  Windy PlayGolf\n",
       "0      Rainy         Hot     High  False       No\n",
       "1      Rainy         Hot     High   True       No\n",
       "2   Overcast         Hot     High  False      Yes\n",
       "3      Sunny        Mild     High  False      Yes\n",
       "4      Sunny        Cool   Normal  False      Yes\n",
       "5      Sunny        Cool   Normal   True       No\n",
       "6   Overcast        Cool   Normal   True      Yes\n",
       "7      Rainy        Mild     High  False       No\n",
       "8      Rainy        Cool   Normal  False      Yes\n",
       "9      Sunny        Mild   Normal  False      Yes\n",
       "10     Rainy        Mild   Normal   True      Yes\n",
       "11  Overcast        Mild     High   True      Yes\n",
       "12  Overcast         Hot   Normal  False      Yes\n",
       "13     Sunny        Mild     High   True       No"
      ]
     },
     "metadata": {},
     "output_type": "display_data"
    }
   ],
   "source": [
    "import sklearn\n",
    "import pandas as pd\n",
    "\n",
    "dataGolf = pd.read_csv('playgolf.csv', delimiter=';')\n",
    "display(dataGolf)"
   ]
  },
  {
   "cell_type": "markdown",
   "metadata": {},
   "source": [
    "Haurem de fer algunes precomputacions al nostre conjunt de dades. Hem de trobar $P (x_i | y_j)$ per a cada $x_i$ a $X$ i $y_j$ a $y$. Tots aquests càlculs es mostren a les taules següents:\n",
    "\n",
    "\n",
    "<img src=\"https://media.geeksforgeeks.org/wp-content/uploads/naive-bayes-classification.png\" width=500>\n",
    "\n"
   ]
  },
  {
   "cell_type": "markdown",
   "metadata": {},
   "source": [
    "Cada taula ha calculat $P(x_i | y_j)$ per cada $x_i$ en $X$ i $y_j$ en $y$. Per exemple, la probabilitat de jugar a golf donat que la temperatura és fresca, és a dir, $P(temperature = Cool | PlayGolf = Yes) = 3/9$.\n",
    "\n",
    "A més, hem de trobar les probabilitats de classe ($P (y)$). Per exemple, $P (PlayGolf = Yes) = 9/14$.\n",
    "\n",
    "Ja podem fer servir el classificador ingenu de Bayes. Per exemple, si avui tenim aquestes condicions climatològiques, jugarem al golf?"
   ]
  },
  {
   "cell_type": "code",
   "execution_count": 2,
   "metadata": {},
   "outputs": [],
   "source": [
    "today_golf = ['Sunny', 'Hot', 'Normal', False]"
   ]
  },
  {
   "cell_type": "markdown",
   "metadata": {},
   "source": [
    "$P(Yes|today) = \\frac{P(Outlook=Sunny|Yes) P(Temperature=Hot|Yes) P(Humidity=Normal|Yes) P(Wind=False|Yes) P(Yes)}{P(today)}$\n",
    "\n",
    "$P(No|today) = \\frac{P(Outlook=Sunny|No) P(Temperature=Hot|No) P(Humidity=Normal|No) P(Wind=False|No) P(No)}{P(today)}$\n",
    "\n",
    "Ignorem el $P(today)$ per què es comú a les dues probabilitats, i calculem:\n",
    "\n",
    "$$P(Yes|today) \\propto \\frac{2}{9}·\\frac{2}{9}·\\frac{6}{9}·\\frac{6}{9}·\\frac{9}{14} \\simeq 0.0141 $$\n",
    "\n",
    "$$P(No|today) \\propto \\frac{3}{5}·\\frac{2}{5}·\\frac{1}{5}·\\frac{2}{5}·\\frac{5}{14} \\simeq 0.0068 $$\n",
    "\n",
    "Podem normalitzar-ho per sumar 1, \n",
    "$$P(Yes|today) = \\frac{0.0141}{0.0068+0.0141}=0.67$$\n",
    "$$P(No|today) = \\frac{0.0068}{0.0068+0.0141}=0.33$$"
   ]
  },
  {
   "cell_type": "code",
   "execution_count": 3,
   "metadata": {},
   "outputs": [],
   "source": [
    "today_df_golf = pd.DataFrame([today_golf], columns = ['Outlook','Temperature', 'Humidity','Windy'])"
   ]
  },
  {
   "cell_type": "code",
   "execution_count": 4,
   "metadata": {},
   "outputs": [
    {
     "data": {
      "text/plain": [
       "array([[0.22086561, 0.77913439]])"
      ]
     },
     "execution_count": 4,
     "metadata": {},
     "output_type": "execute_result"
    }
   ],
   "source": [
    "from sklearn.preprocessing import OrdinalEncoder\n",
    "from sklearn.naive_bayes import CategoricalNB\n",
    "\n",
    "X_golf = dataGolf.drop(\"PlayGolf\", axis=\"columns\")\n",
    "y_golf = dataGolf[\"PlayGolf\"]\n",
    "\n",
    "enc = OrdinalEncoder()\n",
    "enc.fit(X_golf)\n",
    "X_golf_encoded = enc.transform(X_golf)\n",
    "\n",
    "model_cat = CategoricalNB(alpha=1)\n",
    "model_cat.fit(X_golf_encoded, y_golf)\n",
    "\n",
    "model_cat.predict_proba(enc.transform(today_df_golf))"
   ]
  },
  {
   "cell_type": "markdown",
   "metadata": {},
   "source": [
    "### Tipus de Classificadors Naive Bayes\n",
    "Tot el que necessitem ara és algun model per calcular **$ P(x_i \\mid y) $** per a cada etiqueta, i n'existeixen varis depenent del tipus de dades. \n",
    "\n",
    "Podeu trobar l'explicació més precisa a la documentació, pero a continuació n'explicarem els trets fonamentals (Sabrieu dir quin model hem fet servir en l'exemple anterior?):\n",
    "\n",
    "Tingueu en compte que $\\alpha$ es un prior de suavització, i tenen en compte característiques no vistes durant l'aprenentatge. Impedeixen probabilitats nul·les en altres càlculs. Si $\\alpha = 1$, s’anomena suavització de Laplace, mentre que $\\alpha < 1$ s’anomena suavització de Lidstone.\n"
   ]
  },
  {
   "cell_type": "markdown",
   "metadata": {},
   "source": [
    "#### [Gaussian Naive Bayes](https://scikit-learn.org/stable/modules/naive_bayes.html#gaussian-naive-bayes)\n",
    "Si tenim dades continues, i creiem que asumeixen una distribució normal, les podem modelitzar amb la mitja i la desviació estandar.\n",
    "$$P(x_i \\mid y) = \\frac{1}{\\sqrt{2\\pi\\sigma^2_y}} \\exp\\left(-\\frac{(x_i - \\mu_y)^2}{2\\sigma^2_y}\\right)$$\n",
    "\n",
    "#### [Multinomial Naive Bayes](https://scikit-learn.org/stable/modules/naive_bayes.html#multinomial-naive-bayes)\n",
    "Es fa servir si tenim caracteristiques que compten occurencies. Per exemple, en text, si comptem quantes vegades apareix un terme en el document (una paraula). \n",
    "\n",
    "$$P(x_i \\mid y)\\sim \\hat{\\theta}_{yi} · x_i = \\frac{ N_{yi} + \\alpha}{N_y + \\alpha n} · x_i$$\n",
    "\n",
    "#### [Bernoulli Naive Bayes](https://scikit-learn.org/stable/modules/naive_bayes.html#bernoulli-naive-bayes)\n",
    "Si les dades són binaries, millor utilitzar aquesta problabilitat.\n",
    "\n",
    "$$P(x_i \\mid y) = P(i \\mid y) · x_i + (1 - P(i \\mid y)) · (1 - x_i)$$\n",
    "\n",
    "#### [Categorical Naive Bayes](https://scikit-learn.org/stable/modules/naive_bayes.html#categorical-naive-bayes)\n",
    "Si les dades són categoriques.\n",
    "$$P(x_i = t \\mid y = c ; \\alpha) = \\frac{ N_{tic} + \\alpha}{N_{c} + \\alpha n_i}$$\n",
    "\n"
   ]
  },
  {
   "cell_type": "markdown",
   "metadata": {},
   "source": [
    "### Datasets\n",
    "\n",
    "Es faràn servir varies bases de dades per comparar els mètodes més idonis depenent del tipus de dades:\n",
    "\n",
    "* [**playgolf**](https://medium.com/@hrishavkmr/naive-bayes-in-machine-learning-5c0972340b76) (db: `playgolf.csv`)\n",
    "* [**iris**](https://scikit-learn.org/stable/modules/generated/sklearn.datasets.load_iris.html) (db: `datasets.load_iris`)\n",
    "* [**zoo**](https://www.kaggle.com/uciml/zoo-animal-classification) (db: `zoo_animal.csv`)\n",
    "* [**heart-disease-uci**](https://www.kaggle.com/ronitf/heart-disease-uci) (db: `heart.csv`)\n",
    "* [**20newsgroups**](https://scikit-learn.org/stable/modules/generated/sklearn.datasets.fetch_20newsgroups.html) (db: `datasets.fetch_20newsgroups`) (Al appendix veure-ho com tranformar text en caracteristiques)\n"
   ]
  },
  {
   "cell_type": "markdown",
   "metadata": {},
   "source": [
    "## A. Ús Naive Bayes Sci-kit Learn (60%)\n",
    "\n",
    "En aquest apartat us recomano que feu ús de funcions propies per a llegir una base de dades, aplicar-hi un model, fer crosvalidacio i que retorni els resultats. D'aquesta forma podreu reaprofitar molt de codi.\n",
    "\n",
    "\n",
    "\n"
   ]
  },
  {
   "cell_type": "code",
   "execution_count": 5,
   "metadata": {},
   "outputs": [],
   "source": [
    "import numpy as np\n",
    "from sklearn.datasets import load_iris, fetch_20newsgroups"
   ]
  },
  {
   "cell_type": "code",
   "execution_count": 22,
   "metadata": {},
   "outputs": [],
   "source": [
    "import pandas as pd\n",
    "import numpy as np\n",
    "import sklearn.datasets \n",
    "from sklearn.model_selection import cross_val_score\n",
    "from sklearn.preprocessing import OrdinalEncoder\n",
    "from sklearn.feature_extraction.text import TfidfVectorizer\n",
    "from sklearn.pipeline import make_pipeline\n",
    "\n",
    "\n",
    "def load_dataset(which):\n",
    "    X, y = None, None\n",
    "    # si s'han de netejar o codificar les dades, feu-ho aqui directament\n",
    "    if which == \"iris\":\n",
    "        iris = load_iris()\n",
    "        dataset = pd.DataFrame(data= np.c_[iris['data'], iris['target']], \n",
    "                               columns= iris['feature_names'] + ['target'])\n",
    "        \n",
    "        X = dataset.drop(\"target\", axis=\"columns\")\n",
    "        y = dataset[\"target\"]\n",
    "    \n",
    "    elif which == \"playgolf\":\n",
    "        dataset = pd.read_csv('playgolf.csv', delimiter=';')\n",
    "        X = dataset.drop(\"PlayGolf\", axis=\"columns\")\n",
    "        y = dataset[\"PlayGolf\"]\n",
    "\n",
    "        enc = OrdinalEncoder()\n",
    "        enc.fit(X)\n",
    "        X = enc.transform(X)\n",
    "        \n",
    "    elif which == \"zoo\":\n",
    "        dataset = pd.read_csv('zoo_animal.csv', delimiter=',')\n",
    "        \n",
    "        # Eliminamos la columna \"animal_name\", ya que es un ID de cada instància\n",
    "        dataset = dataset.drop(\"animal_name\", axis=\"columns\")\n",
    "        \n",
    "        X = dataset.drop(\"class_type\", axis=\"columns\")\n",
    "        y = dataset[\"class_type\"]\n",
    "        \n",
    "        enc = OrdinalEncoder()\n",
    "        enc.fit(X)\n",
    "        X = enc.transform(X)\n",
    "    \n",
    "    elif which == \"heart-disease-uci\":\n",
    "        dataset = pd.read_csv('heart.csv', delimiter=',')\n",
    "        \n",
    "        X = dataset.drop(\"target\", axis=\"columns\")\n",
    "        y = dataset[\"target\"]\n",
    "        \n",
    "        enc = OrdinalEncoder()\n",
    "        enc.fit(X)\n",
    "        X = enc.transform(X)\n",
    "    \n",
    "    elif which == \"20newsgroups\":\n",
    "        categories = ['talk.religion.misc', 'soc.religion.christian', 'sci.space', 'comp.graphics']\n",
    "        train = fetch_20newsgroups(subset='train', categories=categories)\n",
    "        \n",
    "        X = train.data\n",
    "        y = train.target\n",
    "        \n",
    "        vectorizer = TfidfVectorizer(min_df=3)\n",
    "        X = vectorizer.fit_transform(X)\n",
    "        \n",
    "        X = X[:3000].toarray()\n",
    "        y = y[:3000]\n",
    "        \n",
    "    else:\n",
    "        raise (\"UNKNOWN DATASET\")\n",
    "    \n",
    "    return X, y\n",
    "\n",
    "def experiment(dataset_name, model, debug=True):\n",
    "    model = model()\n",
    "    \n",
    "    X, y = load_dataset(dataset_name)\n",
    "\n",
    "    if X is None or y is None:\n",
    "        return -1\n",
    "\n",
    "    if debug:\n",
    "        model.fit(X, y)\n",
    "        return model.score(X, y)\n",
    "    else:            \n",
    "        try:\n",
    "            model.fit(X, y)\n",
    "            return model.score(X, y)\n",
    "        except Exception as e:\n",
    "            print('\\033[91m'+\"ERROR {}\".format(e)+'\\x1b[0m')\n",
    "            return -100    \n",
    "    "
   ]
  },
  {
   "cell_type": "code",
   "execution_count": 24,
   "metadata": {},
   "outputs": [
    {
     "name": "stdout",
     "output_type": "stream",
     "text": [
      "iris + <class 'sklearn.naive_bayes.GaussianNB'> = 0.960\n",
      "iris + <class 'sklearn.naive_bayes.MultinomialNB'> = 0.953\n",
      "iris + <class 'sklearn.naive_bayes.BernoulliNB'> = 0.333\n",
      "iris + <class 'sklearn.naive_bayes.CategoricalNB'> = 0.933\n",
      "playgolf + <class 'sklearn.naive_bayes.GaussianNB'> = 0.857\n",
      "playgolf + <class 'sklearn.naive_bayes.MultinomialNB'> = 0.786\n",
      "playgolf + <class 'sklearn.naive_bayes.BernoulliNB'> = 0.857\n",
      "playgolf + <class 'sklearn.naive_bayes.CategoricalNB'> = 0.929\n",
      "zoo + <class 'sklearn.naive_bayes.GaussianNB'> = 1.000\n",
      "zoo + <class 'sklearn.naive_bayes.MultinomialNB'> = 0.960\n",
      "zoo + <class 'sklearn.naive_bayes.BernoulliNB'> = 0.990\n",
      "zoo + <class 'sklearn.naive_bayes.CategoricalNB'> = 1.000\n",
      "heart-disease-uci + <class 'sklearn.naive_bayes.GaussianNB'> = 0.845\n",
      "heart-disease-uci + <class 'sklearn.naive_bayes.MultinomialNB'> = 0.752\n",
      "heart-disease-uci + <class 'sklearn.naive_bayes.BernoulliNB'> = 0.838\n",
      "heart-disease-uci + <class 'sklearn.naive_bayes.CategoricalNB'> = 0.904\n",
      "20newsgroups + <class 'sklearn.naive_bayes.GaussianNB'> = 1.000\n",
      "20newsgroups + <class 'sklearn.naive_bayes.MultinomialNB'> = 0.916\n",
      "20newsgroups + <class 'sklearn.naive_bayes.BernoulliNB'> = 0.892\n",
      "20newsgroups + <class 'sklearn.naive_bayes.CategoricalNB'> = 0.278\n",
      "DONE\n"
     ]
    }
   ],
   "source": [
    "from sklearn.naive_bayes import GaussianNB, MultinomialNB, BernoulliNB, CategoricalNB\n",
    "\n",
    "\n",
    "models = [GaussianNB, MultinomialNB, BernoulliNB, CategoricalNB]\n",
    "str_models = ['GaussianNB', 'MultinomialNB', 'BernoulliNB', 'CategoricalNB']\n",
    "datasets = [\"iris\", \"playgolf\", \"zoo\", \"heart-disease-uci\", \"20newsgroups\"]\n",
    "\n",
    "table = pd.DataFrame(index=str_models, columns=datasets)\n",
    "\n",
    "for d in datasets:\n",
    "    for i, m in enumerate(models):\n",
    "        result = experiment(d, m)\n",
    "        table[d][i] = result\n",
    "        print('{} + {:20} = {:.3f}'.format(d, str(m), result))\n",
    "\n",
    "print(\"DONE\")"
   ]
  },
  {
   "cell_type": "markdown",
   "metadata": {},
   "source": [
    "## Preguntes\n",
    "#### 1. Carrega els diferents datasets i explica quin tipus de classificador de bayes creieu que serà més adient per les dades.\n",
    "\n",
    "\n",
    "El carregat dels datasets el realitza la funció load_dataset(), i s'aplica dins de la funció experiment(). Pots trobar totes dues en les cel·les de codi inmediatament superiors.\n",
    "\n",
    "Amb respecte a quin tipus de classificador serà més adient per a cada tipus de dada...\n",
    "\n",
    "* Els atributs del dataset ***iris*** son continus, i per tant es de suposar que obtindrem els millors resultats amb GaussianNB, ja que es el únic dels proposats que utilitza una distribució de probabilitat contínua.\n",
    "* Els atributs del dataset ***playgof*** son categórics, amb la qual cosa CategoricalNB hauria de donar els millors resultats.\n",
    "* Els atributs del dataset ***zoo*** son categórics, i 15 dels 16 atributs son binaris. En conseqüència, crec que obtindrem els millors resultats amb BernoulliNB.\n",
    "* Els atributs del dataset ***heart-disease-uci*** son una mescla de binaris (3), categórics no-binaris (9) i continus (1). Aquest es el més difícil de predir, però degut a la predominancia d'atributs categórics/binaris aposto per CategoricalNB.\n",
    "* Com el dataset ***20newsgroups*** es de text, crec que els millors resultats s'obtindràn amb MultinomialNB, ja que en essencia el que fem és comptar paraules."
   ]
  },
  {
   "cell_type": "markdown",
   "metadata": {},
   "source": [
    "#### 2. Fés una taula mostrant el accuracy de cada model per cada un dels datasets. \n",
    "\n",
    "La taula la ja s'ha fet en l'anterior cel·la de codi. La mostrem a continuació:"
   ]
  },
  {
   "cell_type": "code",
   "execution_count": 26,
   "metadata": {},
   "outputs": [
    {
     "data": {
      "text/html": [
       "<div>\n",
       "<style scoped>\n",
       "    .dataframe tbody tr th:only-of-type {\n",
       "        vertical-align: middle;\n",
       "    }\n",
       "\n",
       "    .dataframe tbody tr th {\n",
       "        vertical-align: top;\n",
       "    }\n",
       "\n",
       "    .dataframe thead th {\n",
       "        text-align: right;\n",
       "    }\n",
       "</style>\n",
       "<table border=\"1\" class=\"dataframe\">\n",
       "  <thead>\n",
       "    <tr style=\"text-align: right;\">\n",
       "      <th></th>\n",
       "      <th>iris</th>\n",
       "      <th>playgolf</th>\n",
       "      <th>zoo</th>\n",
       "      <th>heart-disease-uci</th>\n",
       "      <th>20newsgroups</th>\n",
       "    </tr>\n",
       "  </thead>\n",
       "  <tbody>\n",
       "    <tr>\n",
       "      <th>GaussianNB</th>\n",
       "      <td>0.96</td>\n",
       "      <td>0.857143</td>\n",
       "      <td>1</td>\n",
       "      <td>0.844884</td>\n",
       "      <td>0.999536</td>\n",
       "    </tr>\n",
       "    <tr>\n",
       "      <th>MultinomialNB</th>\n",
       "      <td>0.953333</td>\n",
       "      <td>0.785714</td>\n",
       "      <td>0.960396</td>\n",
       "      <td>0.752475</td>\n",
       "      <td>0.916396</td>\n",
       "    </tr>\n",
       "    <tr>\n",
       "      <th>BernoulliNB</th>\n",
       "      <td>0.333333</td>\n",
       "      <td>0.857143</td>\n",
       "      <td>0.990099</td>\n",
       "      <td>0.838284</td>\n",
       "      <td>0.892243</td>\n",
       "    </tr>\n",
       "    <tr>\n",
       "      <th>CategoricalNB</th>\n",
       "      <td>0.933333</td>\n",
       "      <td>0.928571</td>\n",
       "      <td>1</td>\n",
       "      <td>0.90429</td>\n",
       "      <td>0.278216</td>\n",
       "    </tr>\n",
       "  </tbody>\n",
       "</table>\n",
       "</div>"
      ],
      "text/plain": [
       "                   iris  playgolf       zoo heart-disease-uci 20newsgroups\n",
       "GaussianNB         0.96  0.857143         1          0.844884     0.999536\n",
       "MultinomialNB  0.953333  0.785714  0.960396          0.752475     0.916396\n",
       "BernoulliNB    0.333333  0.857143  0.990099          0.838284     0.892243\n",
       "CategoricalNB  0.933333  0.928571         1           0.90429     0.278216"
      ]
     },
     "execution_count": 26,
     "metadata": {},
     "output_type": "execute_result"
    }
   ],
   "source": [
    "table"
   ]
  },
  {
   "cell_type": "markdown",
   "metadata": {},
   "source": [
    "#### 3. Mostra els resultats gràficament. Quin tipus de Bayes funciona millor per quin dataset. De mitjana, quin ho fa millor?\n",
    "\n",
    "Com veiem, per al dataset iris el millor bayes es GaussianNB, per al dataset playgolf el millor bayes es 0.928571, per al dataset zoo els millors son GaussianNB i CategoricalNB, per al dataset heart-disease-uci el millor bayes es el CategoricalNB i per a 20newsgroups el millor és GaussianNB.\n",
    "\n",
    "Com veiem, el classificador que obté una millor accuracy mitjana es al GaussianNB, amb una accuracy mitjana de aproximadament 0.932"
   ]
  },
  {
   "cell_type": "code",
   "execution_count": 55,
   "metadata": {},
   "outputs": [
    {
     "name": "stdout",
     "output_type": "stream",
     "text": [
      "La accuracy mitjana pels diferents bayes es:\n",
      " [0.9323125754815547 0.8736629266138081 0.7822204820176797\n",
      " 0.8088823266242755]\n"
     ]
    },
    {
     "data": {
      "image/png": "[encoded data removed]",
      "text/plain": [
       "<Figure size 432x288 with 1 Axes>"
      ]
     },
     "metadata": {
      "needs_background": "light"
     },
     "output_type": "display_data"
    }
   ],
   "source": [
    "import matplotlib.pyplot as plt\n",
    "\n",
    "datas = [\"iris\", \"playgolf\", \"zoo\", \"heart-disease\", \"20newsgroups\"]\n",
    "\n",
    "x = list(range(5))\n",
    "arr_table = table.to_numpy()\n",
    "\n",
    "for i, model in enumerate(str_models):\n",
    "    plt.xticks(x, datas)\n",
    "    plt.plot(x, arr_table[i], label=model)\n",
    "plt.legend()\n",
    "\n",
    "print(\"La accuracy mitjana pels diferents bayes es:\\n\",arr_table.mean(axis = 1))"
   ]
  },
  {
   "cell_type": "markdown",
   "metadata": {},
   "source": [
    "#### 4. Et sorprenen el resultats? Com és possible que certs models funcionin per dades que en principi no haurien de funcionar? Explica els atributs més importants de cada classificador.\n",
    "\n",
    "M'ha sorprès lo bé que funciona el model amb GaussianNB sobre datasets de dades categóriques.\n",
    "\n",
    "Els models GaussianNB i BernoulliNB no son paramètrics, i per tant no tenen \"atributs importants\". El seu ús simplement consisteix en una assumpció sobre la distribució de probabilitat que segueixen les dades condicionades.\n",
    "\n",
    "Els models MultinomialNB i CategoricalNB sí son paramètics. En concret, tenen un atribut $\\alpha$ que es un terme que permet classificar valors de dades que no apareixessin en les dades de training."
   ]
  },
  {
   "cell_type": "markdown",
   "metadata": {},
   "source": [
    "#### 5. Si el nostre dataset conté dades de diferent naturalesa, és a dir, uns atributs categorics, d'altres continus, d'altres binaris, creus que es podrien combinar els diferents classificadors de bayes? Seguint la formula original, com es faria?\n",
    "\n",
    "Per suposat que es podría, i gairebé segur que obtindríem un classificador millor. En essència, l'únic que necessiten els classificadors naive bayes per a funcionar és calcular les probabilitats P(C_i) de cada classe i les probabilitats P(X_i=x_j|C_k). Quant millor aproximem les probabilitats P(X_i=x_j|C_k), millor serà el classificador final.\n",
    "\n",
    "Per tant, si el dataset conté dades de diferent naturalesa, nomès hem de modelar cada distribució de probabilitats P(X_i=x_j|C_k) de cada X_i usant el model (GaussianNB, CategoricalNB, etc...) que millor cuadri amb la naturalesa de les dades X_i. "
   ]
  },
  {
   "cell_type": "markdown",
   "metadata": {},
   "source": [
    "## B. Implementació Naive Bayes (40%)\n",
    "\n",
    "En aquest apartat implementarem un classificador Ingenu de Bayes per cada un dels tipus de dades. Per fer això, i que sigui fàcil de comparar amb els resultats del apartat anterior, feu servir un esquelet similar al següent:\n",
    "        \n"
   ]
  },
  {
   "cell_type": "markdown",
   "metadata": {},
   "source": [
    "### NaiveBayes Base"
   ]
  },
  {
   "cell_type": "code",
   "execution_count": 91,
   "metadata": {},
   "outputs": [],
   "source": [
    "class NaiveBayes(object):\n",
    "    def __init__(self, alpha):\n",
    "        self.alpha = alpha\n",
    "        self.n_samples = 0\n",
    "        self.class_count_ = []  # numero de exemples de cada categoria\n",
    "        self.class_prior_ = []  # prior per cada categoria\n",
    "        self.classes_ = {}     # nom o etiqueta de cada label\n",
    "        \n",
    "\n",
    "    def __str__(self):\n",
    "        # toString()  \n",
    "        return (self.__class__.__name__+\"()\")\n",
    "        \n",
    "    def calcular_conditional(self, X, y):\n",
    "        \"\"\"\n",
    "        Compute the conditional probability for the training data for each feature\n",
    "        \"\"\"\n",
    "        raise(\"TO BE DONE. Ho heu que implementar per cada subclasse\")\n",
    "    \n",
    "    def calcular_likelihood_log(self, X):\n",
    "        \"\"\"\n",
    "        Compute the unnormalized posterior log probability of X\n",
    "        La sma de logprobabilidades [\\sum_i\\logP(X_i=x_i|C_j) for j in range(num_classes)]\n",
    "        \"\"\"\n",
    "        raise(\"TO BE DONE. Ho heu que implementar per cada subclasse\")\n",
    "\n",
    "    def calcular_prior(self, y):\n",
    "        self.n_samples = len(y)\n",
    "        \n",
    "        for target in y:\n",
    "            if target not in self.classes_:\n",
    "                self.classes_[target] = int(len(self.class_count_))\n",
    "                self.class_count_.append(1)\n",
    "            else:\n",
    "                print(\"VAAA\", target)\n",
    "                print(self.classes_)\n",
    "                print(self.classes_[target])\n",
    "                self.class_count_[self.classes_[target]] += 1\n",
    "        \n",
    "        self.class_prior_ = [None]*len(self.class_count_)\n",
    "        for i, class_count in enumerate(self.class_count_):\n",
    "            self.class_prior_[i] = class_count/self.n_samples\n",
    "\n",
    "\n",
    "    def predict(self, X):\n",
    "        probs = self.predict_proba(X)\n",
    "        return self.classes_[np.argmax(probs, axis=1)]\n",
    "    \n",
    "    def predict_proba(self, X):\n",
    "        probs = np.exp(self.predict_log_proba(X))\n",
    "        total_sum = np.sum(probs, axis=1)\n",
    "        for i in range(len(self.classes_)):\n",
    "            probs[:,i] /= total_sum\n",
    "        return probs\n",
    "\n",
    "    def predict_log_proba(self, X):\n",
    "        probs = self.calcular_likelihood_log(X)\n",
    "        for i in range(len(self.classes_)):\n",
    "            probs[:,i] += np.log(self.class_prior_[i])\n",
    "        return probs\n",
    "\n",
    "    \n",
    "    def score(self, X, y):\n",
    "        return np.sum(self.predict(X) == y) / len(y)\n",
    "        \n",
    "    def fit(self, X, y):\n",
    "\n",
    "        self.n_samples = X.shape[0]\n",
    "        self.classes_ = np.unique(y)\n",
    "\n",
    "        # calcular p(y)\n",
    "        self.calcular_prior(y)\n",
    "        \n",
    "        # per cada una de les columnes de x\n",
    "        for i in range(X.shape[1]):\n",
    "            # calcular p(xi | y)\n",
    "            self.calcular_conditional(X, y)\n",
    "        \n"
   ]
  },
  {
   "cell_type": "markdown",
   "metadata": {},
   "source": [
    "### GaussianNaiveBayes"
   ]
  },
  {
   "cell_type": "code",
   "execution_count": 92,
   "metadata": {},
   "outputs": [],
   "source": [
    "class GaussianNaiveBayes(NaiveBayes):\n",
    "    def __init__(self, alpha=1):\n",
    "        super().__init__(alpha)\n",
    "        self.theta_ = None  # mean\n",
    "        self.sigma_ = None  # var\n",
    "        \n",
    "    \n",
    "    def gaussian_density(self, x, theta, sigma):\n",
    "        return np.exp(-(x-theta)**2/(2*sigma**2))/(sigma*np.sqrt(2*np.pi))\n",
    "        \n",
    "\n",
    "    def calcular_conditional(self, X, y):\n",
    "        # todo\n",
    "        # heu de calcular la mitjana i la variança per cada una de les categories y\n",
    "        \n",
    "        #self.theta[c, x] es la theta a usar para calcular P(X=x_i|c)\n",
    "        self.theta_ = np.zeros((len(self.classes_), X.shape[1]))\n",
    "        self.sigma_ = np.zeros((len(self.classes_), X.shape[1]))\n",
    "        \n",
    "        for c in range(len(self._classes)):\n",
    "            for f in X.shape[1]:\n",
    "                valores = []\n",
    "                #Por cada clase y cada feature...\n",
    "                for i, target in enumerate(y):\n",
    "                    if self.classes_[target] == c:\n",
    "                        valores.append(X[i, f])\n",
    "                \n",
    "                self.theta_[c, f] = np.mean(valores) \n",
    "                self.sigma_[c, f] = np.std(valores)\n",
    "        \n",
    "        \n",
    "                                \n",
    "    def calcular_likelihood_log(self, X):\n",
    "        # aplicar la formula de com s'apropa X a les vostres theha i sigma..\n",
    "        # tip: recomenat utilitzar suma de logaritmes enlloc de productes per estabilitat\n",
    "        X = X.to_numpy()\n",
    "        \n",
    "        #self.theta[c, x] es la theta a usar para calcular P(X=x_i|c)\n",
    "        likelihoods = np.zeros(X.shape[0], len(self.clas_count_))\n",
    "        for i in range(likelihoods.shape[0]):\n",
    "            for j in range(likelihoods.shape[1]):\n",
    "                for k in range(X.shape[1]):\n",
    "                    #S_i C_j X_k\n",
    "                    likelihoods[i, j] += np.log(gaussian_density(X[i, k], self.theta_[j, k], self.sigma_[j, k]))\n",
    "        \n",
    "        return likelihoods\n",
    "            \n",
    "              "
   ]
  },
  {
   "cell_type": "markdown",
   "metadata": {},
   "source": [
    "### CategoricalNaiveBayes"
   ]
  },
  {
   "cell_type": "code",
   "execution_count": 93,
   "metadata": {},
   "outputs": [],
   "source": [
    "class CategoricalNaiveBayes(NaiveBayes):\n",
    "    def __init__(self, alpha=1):\n",
    "        super().__init__(alpha)\n",
    "        self.category_count_ = []\n",
    "        self.feature_log_prob_ = []\n",
    "            \n",
    "    def calcular_conditional(self, X, y):\n",
    "        # todo\n",
    "        # contar quants cops apareix cada categoria\n",
    "        \n",
    "        # convertir els counts a probabilitats segons la formula\n",
    "        pass\n",
    "\n",
    "    def calcular_likelihood_log(self, X):\n",
    "        # todo\n",
    "        # sumar el logaritme de les probabilitats segons X  \n",
    "        pass\n"
   ]
  },
  {
   "cell_type": "markdown",
   "metadata": {},
   "source": [
    "### MultinomialNaiveBayes"
   ]
  },
  {
   "cell_type": "code",
   "execution_count": 94,
   "metadata": {},
   "outputs": [
    {
     "ename": "IndentationError",
     "evalue": "expected an indented block (<ipython-input-94-0a6f7abe5aee>, line 11)",
     "output_type": "error",
     "traceback": [
      "\u001b[0;36m  File \u001b[0;32m\"<ipython-input-94-0a6f7abe5aee>\"\u001b[0;36m, line \u001b[0;32m11\u001b[0m\n\u001b[0;31m    def calcular_likelihood_log(self, X):\u001b[0m\n\u001b[0m    ^\u001b[0m\n\u001b[0;31mIndentationError\u001b[0m\u001b[0;31m:\u001b[0m expected an indented block\n"
     ]
    }
   ],
   "source": [
    "class MultinomialNaiveBayes(NaiveBayes):\n",
    "    def __init__(self, alpha=1):\n",
    "        super().__init__(alpha)\n",
    "        self.feature_log_prob_ = []\n",
    "\n",
    "    def calcular_conditional(self, X, y):\n",
    "        # todo\n",
    "        # calcular self.feature_log_prob_ segons la formula corresponent\n",
    "\n",
    "\n",
    "    def calcular_likelihood_log(self, X):\n",
    "        # todo\n",
    "        # dot product entre les features i les vostres probabilitats calculades     \n",
    "        pass"
   ]
  },
  {
   "cell_type": "markdown",
   "metadata": {},
   "source": [
    "#### Preguntes\n",
    "Per aquest apartat, intenteu de fer-ho en python directament, per a poder debugar el codi més fàcilment. Compareu el vostre resultat amb el de sklearn. Feu-ho també per passos intermitjos, i veure que ho esteu fent correctament.\n",
    "\n",
    "1. Implementa $P(x_i|y)$ per dades categoriques (Categorical Naive Bayes)\n",
    "2. Implementa $P(x_i|y)$ per dades continues (Gaussian Naive Bayes)\n",
    "3. Compara els resultats obtinguts amb els de sklearn. S'assemblen?\n",
    "4. (opcional) Implementa $P(x_i|y)$ per dades ordinals (Multinomial Naive Bayes) (+1pts)\n"
   ]
  },
  {
   "cell_type": "code",
   "execution_count": 95,
   "metadata": {},
   "outputs": [
    {
     "name": "stdout",
     "output_type": "stream",
     "text": [
      "VAAA 0.0\n",
      "[0. 1. 2.]\n"
     ]
    },
    {
     "ename": "IndexError",
     "evalue": "only integers, slices (`:`), ellipsis (`...`), numpy.newaxis (`None`) and integer or boolean arrays are valid indices",
     "output_type": "error",
     "traceback": [
      "\u001b[0;31m---------------------------------------------------------------------------\u001b[0m",
      "\u001b[0;31mIndexError\u001b[0m                                Traceback (most recent call last)",
      "\u001b[0;32m<ipython-input-95-8cc1480ffca2>\u001b[0m in \u001b[0;36m<module>\u001b[0;34m\u001b[0m\n\u001b[1;32m      6\u001b[0m \u001b[0;34m\u001b[0m\u001b[0m\n\u001b[1;32m      7\u001b[0m \u001b[0;32mfor\u001b[0m \u001b[0md\u001b[0m \u001b[0;32min\u001b[0m \u001b[0mdatasets\u001b[0m\u001b[0;34m:\u001b[0m\u001b[0;34m\u001b[0m\u001b[0;34m\u001b[0m\u001b[0m\n\u001b[0;32m----> 8\u001b[0;31m     \u001b[0mresult\u001b[0m \u001b[0;34m=\u001b[0m \u001b[0mexperiment\u001b[0m\u001b[0;34m(\u001b[0m\u001b[0md\u001b[0m\u001b[0;34m,\u001b[0m \u001b[0mm\u001b[0m\u001b[0;34m)\u001b[0m\u001b[0;34m\u001b[0m\u001b[0;34m\u001b[0m\u001b[0m\n\u001b[0m\u001b[1;32m      9\u001b[0m     \u001b[0mtable\u001b[0m\u001b[0;34m[\u001b[0m\u001b[0md\u001b[0m\u001b[0;34m]\u001b[0m\u001b[0;34m[\u001b[0m\u001b[0mi\u001b[0m\u001b[0;34m]\u001b[0m \u001b[0;34m=\u001b[0m \u001b[0mresult\u001b[0m\u001b[0;34m\u001b[0m\u001b[0;34m\u001b[0m\u001b[0m\n\u001b[1;32m     10\u001b[0m     \u001b[0mprint\u001b[0m\u001b[0;34m(\u001b[0m\u001b[0;34m'{} + {:20} = {:.3f}'\u001b[0m\u001b[0;34m.\u001b[0m\u001b[0mformat\u001b[0m\u001b[0;34m(\u001b[0m\u001b[0md\u001b[0m\u001b[0;34m,\u001b[0m \u001b[0mstr\u001b[0m\u001b[0;34m(\u001b[0m\u001b[0mm\u001b[0m\u001b[0;34m)\u001b[0m\u001b[0;34m,\u001b[0m \u001b[0mresult\u001b[0m\u001b[0;34m)\u001b[0m\u001b[0;34m)\u001b[0m\u001b[0;34m\u001b[0m\u001b[0;34m\u001b[0m\u001b[0m\n",
      "\u001b[0;32m<ipython-input-22-9b9344b9f524>\u001b[0m in \u001b[0;36mexperiment\u001b[0;34m(dataset_name, model, debug)\u001b[0m\n\u001b[1;32m     78\u001b[0m \u001b[0;34m\u001b[0m\u001b[0m\n\u001b[1;32m     79\u001b[0m     \u001b[0;32mif\u001b[0m \u001b[0mdebug\u001b[0m\u001b[0;34m:\u001b[0m\u001b[0;34m\u001b[0m\u001b[0;34m\u001b[0m\u001b[0m\n\u001b[0;32m---> 80\u001b[0;31m         \u001b[0mmodel\u001b[0m\u001b[0;34m.\u001b[0m\u001b[0mfit\u001b[0m\u001b[0;34m(\u001b[0m\u001b[0mX\u001b[0m\u001b[0;34m,\u001b[0m \u001b[0my\u001b[0m\u001b[0;34m)\u001b[0m\u001b[0;34m\u001b[0m\u001b[0;34m\u001b[0m\u001b[0m\n\u001b[0m\u001b[1;32m     81\u001b[0m         \u001b[0;32mreturn\u001b[0m \u001b[0mmodel\u001b[0m\u001b[0;34m.\u001b[0m\u001b[0mscore\u001b[0m\u001b[0;34m(\u001b[0m\u001b[0mX\u001b[0m\u001b[0;34m,\u001b[0m \u001b[0my\u001b[0m\u001b[0;34m)\u001b[0m\u001b[0;34m\u001b[0m\u001b[0;34m\u001b[0m\u001b[0m\n\u001b[1;32m     82\u001b[0m     \u001b[0;32melse\u001b[0m\u001b[0;34m:\u001b[0m\u001b[0;34m\u001b[0m\u001b[0;34m\u001b[0m\u001b[0m\n",
      "\u001b[0;32m<ipython-input-91-04991b64aa02>\u001b[0m in \u001b[0;36mfit\u001b[0;34m(self, X, y)\u001b[0m\n\u001b[1;32m     70\u001b[0m \u001b[0;34m\u001b[0m\u001b[0m\n\u001b[1;32m     71\u001b[0m         \u001b[0;31m# calcular p(y)\u001b[0m\u001b[0;34m\u001b[0m\u001b[0;34m\u001b[0m\u001b[0;34m\u001b[0m\u001b[0m\n\u001b[0;32m---> 72\u001b[0;31m         \u001b[0mself\u001b[0m\u001b[0;34m.\u001b[0m\u001b[0mcalcular_prior\u001b[0m\u001b[0;34m(\u001b[0m\u001b[0my\u001b[0m\u001b[0;34m)\u001b[0m\u001b[0;34m\u001b[0m\u001b[0;34m\u001b[0m\u001b[0m\n\u001b[0m\u001b[1;32m     73\u001b[0m \u001b[0;34m\u001b[0m\u001b[0m\n\u001b[1;32m     74\u001b[0m         \u001b[0;31m# per cada una de les columnes de x\u001b[0m\u001b[0;34m\u001b[0m\u001b[0;34m\u001b[0m\u001b[0;34m\u001b[0m\u001b[0m\n",
      "\u001b[0;32m<ipython-input-91-04991b64aa02>\u001b[0m in \u001b[0;36mcalcular_prior\u001b[0;34m(self, y)\u001b[0m\n\u001b[1;32m     35\u001b[0m                 \u001b[0mprint\u001b[0m\u001b[0;34m(\u001b[0m\u001b[0;34m\"VAAA\"\u001b[0m\u001b[0;34m,\u001b[0m \u001b[0mtarget\u001b[0m\u001b[0;34m)\u001b[0m\u001b[0;34m\u001b[0m\u001b[0;34m\u001b[0m\u001b[0m\n\u001b[1;32m     36\u001b[0m                 \u001b[0mprint\u001b[0m\u001b[0;34m(\u001b[0m\u001b[0mself\u001b[0m\u001b[0;34m.\u001b[0m\u001b[0mclasses_\u001b[0m\u001b[0;34m)\u001b[0m\u001b[0;34m\u001b[0m\u001b[0;34m\u001b[0m\u001b[0m\n\u001b[0;32m---> 37\u001b[0;31m                 \u001b[0mprint\u001b[0m\u001b[0;34m(\u001b[0m\u001b[0mself\u001b[0m\u001b[0;34m.\u001b[0m\u001b[0mclasses_\u001b[0m\u001b[0;34m[\u001b[0m\u001b[0mtarget\u001b[0m\u001b[0;34m]\u001b[0m\u001b[0;34m)\u001b[0m\u001b[0;34m\u001b[0m\u001b[0;34m\u001b[0m\u001b[0m\n\u001b[0m\u001b[1;32m     38\u001b[0m                 \u001b[0mself\u001b[0m\u001b[0;34m.\u001b[0m\u001b[0mclass_count_\u001b[0m\u001b[0;34m[\u001b[0m\u001b[0mself\u001b[0m\u001b[0;34m.\u001b[0m\u001b[0mclasses_\u001b[0m\u001b[0;34m[\u001b[0m\u001b[0mtarget\u001b[0m\u001b[0;34m]\u001b[0m\u001b[0;34m]\u001b[0m \u001b[0;34m+=\u001b[0m \u001b[0;36m1\u001b[0m\u001b[0;34m\u001b[0m\u001b[0;34m\u001b[0m\u001b[0m\n\u001b[1;32m     39\u001b[0m \u001b[0;34m\u001b[0m\u001b[0m\n",
      "\u001b[0;31mIndexError\u001b[0m: only integers, slices (`:`), ellipsis (`...`), numpy.newaxis (`None`) and integer or boolean arrays are valid indices"
     ]
    }
   ],
   "source": [
    "datasets = [\"iris\", \"playgolf\", \"zoo\", \"heart-disease-uci\", \"20newsgroups\"]\n",
    "\n",
    "table = pd.DataFrame(columns=datasets)\n",
    "\n",
    "m = GaussianNaiveBayes\n",
    "\n",
    "for d in datasets:\n",
    "    result = experiment(d, m)\n",
    "    table[d][i] = result\n",
    "    print('{} + {:20} = {:.3f}'.format(d, str(m), result))"
   ]
  },
  {
   "cell_type": "markdown",
   "metadata": {},
   "source": [
    "## Appendix \n",
    "#### (no s'hi ha de fer res, tan sols es per si us ajuda a entendre-ho tot millor)"
   ]
  },
  {
   "cell_type": "markdown",
   "metadata": {},
   "source": [
    "<!--BOOK_INFORMATION-->\n",
    "<img align=\"left\" style=\"padding-right:10px;\" src=\"https://github.com/jakevdp/PythonDataScienceHandbook/blob/master/notebooks/figures/PDSH-cover-small.png?raw=1\">\n",
    "\n",
    "*Aquesta subsecció conté parts extretes de [Python Data Science Handbook](http://shop.oreilly.com/product/0636920034919.do) by Jake VanderPlas; i està disponible a [GitHub](https://github.com/jakevdp/PythonDataScienceHandbook).*\n",
    "\n",
    "\n",
    "\n",
    "Naive Bayes models are a group of extremely fast and simple classification algorithms that are often suitable for very high-dimensional datasets.\n",
    "\n",
    "Because they are so fast and have so few tunable parameters, they end up being very useful as a quick-and-dirty baseline for a classification problem.\n",
    "\n",
    "This section will focus on an intuitive explanation of how naive Bayes classifiers work, followed by a couple examples of them in action on some datasets."
   ]
  },
  {
   "cell_type": "markdown",
   "metadata": {},
   "source": [
    "### Bayesian Classification\n",
    "\n",
    "Naive Bayes classifiers are built on Bayesian classification methods.\n",
    "\n",
    "These rely on Bayes's theorem, which is an equation describing the relationship of conditional probabilities of statistical quantities.\n",
    "\n",
    "In Bayesian classification, we're interested in finding the probability of a label given some observed features, which we can write as $P(L~|~{\\rm features})$.\n",
    "\n",
    "Bayes's theorem tells us how to express this in terms of quantities we can compute more directly:\n",
    "\n",
    "$$\n",
    "P(L~|~{\\rm features}) = \\frac{P({\\rm features}~|~L)P(L)}{P({\\rm features})}\n",
    "$$\n",
    "\n",
    "If we are trying to decide between two labels—let's call them $L_1$ and $L_2$—then one way to make this decision is to compute the ratio of the posterior probabilities for each label:\n",
    "\n",
    "$$\n",
    "\\frac{P(L_1~|~{\\rm features})}{P(L_2~|~{\\rm features})} = \\frac{P({\\rm features}~|~L_1)}{P({\\rm features}~|~L_2)}\\frac{P(L_1)}{P(L_2)}\n",
    "$$\n",
    "\n",
    "All we need now is some model by which we can compute $P({\\rm features}~|~L_i)$ for each label.\n",
    "\n",
    "Such a model is called a *generative model* because it specifies the hypothetical random process that generates the data.\n",
    "\n",
    "Specifying this generative model for each label is the main piece of the training of such a Bayesian classifier.\n",
    "\n",
    "The general version of such a training step is a very difficult task, but we can make it simpler through the use of some simplifying assumptions about the form of this model.\n",
    "\n",
    "This is where the \"naive\" in \"naive Bayes\" comes in: if we make very naive assumptions about the generative model for each label, we can find a rough approximation of the generative model for each class, and then proceed with the Bayesian classification.\n",
    "\n",
    "Different types of naive Bayes classifiers rest on different naive assumptions about the data, and we will examine a few of these in the following sections.\n",
    "\n",
    "We begin with the standard imports:"
   ]
  },
  {
   "cell_type": "code",
   "execution_count": 48,
   "metadata": {
    "pycharm": {
     "name": "#%%\n"
    }
   },
   "outputs": [],
   "source": [
    "%matplotlib inline\n",
    "import numpy as np\n",
    "import matplotlib.pyplot as plt\n",
    "import seaborn as sns"
   ]
  },
  {
   "cell_type": "markdown",
   "metadata": {},
   "source": [
    "### Gaussian Naive Bayes\n",
    "\n",
    "Perhaps the easiest naive Bayes classifier to understand is Gaussian naive Bayes.\n",
    "In this classifier, the assumption is that *data from each label is drawn from a simple Gaussian distribution*.\n",
    "Imagine that you have the following data:"
   ]
  },
  {
   "cell_type": "code",
   "execution_count": 49,
   "metadata": {
    "pycharm": {
     "name": "#%%\n"
    }
   },
   "outputs": [
    {
     "data": {
      "image/png": "[encoded data removed]",
      "text/plain": [
       "<Figure size 432x288 with 1 Axes>"
      ]
     },
     "metadata": {
      "needs_background": "light"
     },
     "output_type": "display_data"
    }
   ],
   "source": [
    "from sklearn.datasets import make_blobs\n",
    "X, y = make_blobs(100, 2, centers=2, random_state=2, cluster_std=1.5)\n",
    "plt.scatter(X[:, 0], X[:, 1], c=y, s=50, cmap='RdBu');"
   ]
  },
  {
   "cell_type": "markdown",
   "metadata": {},
   "source": [
    "One extremely fast way to create a simple model is to assume that the data is described by a Gaussian distribution with no covariance between dimensions.\n",
    "\n",
    "This model can be fit by simply finding the mean and standard deviation of the points within each label, which is all you need to define such a distribution.\n",
    "\n",
    "The result of this naive Gaussian assumption is shown in the following figure:"
   ]
  },
  {
   "cell_type": "markdown",
   "metadata": {},
   "source": [
    "The ellipses here represent the Gaussian generative model for each label, with larger probability toward the center of the ellipses.\n",
    "\n",
    "With this generative model in place for each class, we have a simple recipe to compute the likelihood $P({\\rm features}~|~L_1)$ for any data point, and thus we can quickly compute the posterior ratio and determine which label is the most probable for a given point.\n",
    "\n",
    "This procedure is implemented in Scikit-Learn's ``sklearn.naive_bayes.GaussianNB`` estimator:"
   ]
  },
  {
   "cell_type": "code",
   "execution_count": 50,
   "metadata": {
    "pycharm": {
     "name": "#%%\n"
    }
   },
   "outputs": [
    {
     "data": {
      "text/plain": [
       "GaussianNB()"
      ]
     },
     "execution_count": 50,
     "metadata": {},
     "output_type": "execute_result"
    }
   ],
   "source": [
    "from sklearn.naive_bayes import GaussianNB\n",
    "model = GaussianNB()\n",
    "model.fit(X, y)"
   ]
  },
  {
   "cell_type": "markdown",
   "metadata": {},
   "source": [
    "Now let's generate some new data and predict the label:"
   ]
  },
  {
   "cell_type": "code",
   "execution_count": 51,
   "metadata": {
    "pycharm": {
     "name": "#%%\n"
    }
   },
   "outputs": [],
   "source": [
    "rng = np.random.RandomState(0)\n",
    "Xnew = [-6, -14] + [14, 18] * rng.rand(2000, 2)\n",
    "ynew = model.predict(Xnew)"
   ]
  },
  {
   "cell_type": "markdown",
   "metadata": {},
   "source": [
    "Now we can plot this new data to get an idea of where the decision boundary is:"
   ]
  },
  {
   "cell_type": "code",
   "execution_count": 52,
   "metadata": {
    "pycharm": {
     "name": "#%%\n"
    }
   },
   "outputs": [
    {
     "data": {
      "image/png": "[encoded data removed]",
      "text/plain": [
       "<Figure size 432x288 with 1 Axes>"
      ]
     },
     "metadata": {
      "needs_background": "light"
     },
     "output_type": "display_data"
    }
   ],
   "source": [
    "plt.scatter(X[:, 0], X[:, 1], c=y, s=50, cmap='RdBu')\n",
    "lim = plt.axis()\n",
    "plt.scatter(Xnew[:, 0], Xnew[:, 1], c=ynew, s=20, cmap='RdBu', alpha=0.1)\n",
    "plt.axis(lim);"
   ]
  },
  {
   "cell_type": "markdown",
   "metadata": {},
   "source": [
    "We see a slightly curved boundary in the classifications—in general, the boundary in Gaussian naive Bayes is quadratic.\n",
    "\n",
    "A nice piece of this Bayesian formalism is that it naturally allows for probabilistic classification, which we can compute using the ``predict_proba`` method:"
   ]
  },
  {
   "cell_type": "code",
   "execution_count": 53,
   "metadata": {
    "pycharm": {
     "name": "#%%\n"
    }
   },
   "outputs": [
    {
     "data": {
      "text/plain": [
       "array([[0.89, 0.11],\n",
       "       [1.  , 0.  ],\n",
       "       [1.  , 0.  ],\n",
       "       [1.  , 0.  ],\n",
       "       [1.  , 0.  ],\n",
       "       [1.  , 0.  ],\n",
       "       [0.  , 1.  ],\n",
       "       [0.15, 0.85]])"
      ]
     },
     "execution_count": 53,
     "metadata": {},
     "output_type": "execute_result"
    }
   ],
   "source": [
    "yprob = model.predict_proba(Xnew)\n",
    "yprob[-8:].round(2)"
   ]
  },
  {
   "cell_type": "code",
   "execution_count": 54,
   "metadata": {},
   "outputs": [
    {
     "data": {
      "text/plain": [
       "array([0, 1])"
      ]
     },
     "execution_count": 54,
     "metadata": {},
     "output_type": "execute_result"
    }
   ],
   "source": [
    "model.classes_"
   ]
  },
  {
   "cell_type": "markdown",
   "metadata": {},
   "source": [
    "The columns give the posterior probabilities of the first and second label, respectively.\n",
    "If you are looking for estimates of uncertainty in your classification, Bayesian approaches like this can be a useful approach.\n",
    "\n",
    "Of course, the final classification will only be as good as the model assumptions that lead to it, which is why Gaussian naive Bayes often does not produce very good results.\n",
    "Still, in many cases—especially as the number of features becomes large—this assumption is not detrimental enough to prevent Gaussian naive Bayes from being a useful method."
   ]
  },
  {
   "cell_type": "markdown",
   "metadata": {},
   "source": [
    "## Multinomial Naive Bayes\n",
    "\n",
    "The Gaussian assumption just described is by no means the only simple assumption that could be used to specify the generative distribution for each label.\n",
    "Another useful example is multinomial naive Bayes, where the features are assumed to be generated from a simple multinomial distribution.\n",
    "The multinomial distribution describes the probability of observing counts among a number of categories, and thus multinomial naive Bayes is most appropriate for features that represent counts or count rates.\n",
    "\n",
    "The idea is precisely the same as before, except that instead of modeling the data distribution with the best-fit Gaussian, we model the data distribution with a best-fit multinomial distribution."
   ]
  },
  {
   "cell_type": "markdown",
   "metadata": {},
   "source": [
    "### Example: Classifying Text\n",
    "\n",
    "One place where multinomial naive Bayes is often used is in text classification, where the features are related to word counts or frequencies within the documents to be classified.\n",
    "We discussed the extraction of such features from text in [Feature Engineering](05.04-Feature-Engineering.ipynb); here we will use the sparse word count features from the 20 Newsgroups corpus to show how we might classify these short documents into categories.\n",
    "\n",
    "Let's download the data and take a look at the target names:"
   ]
  },
  {
   "cell_type": "code",
   "execution_count": 55,
   "metadata": {
    "pycharm": {
     "name": "#%%\n"
    }
   },
   "outputs": [
    {
     "data": {
      "text/plain": [
       "['alt.atheism',\n",
       " 'comp.graphics',\n",
       " 'comp.os.ms-windows.misc',\n",
       " 'comp.sys.ibm.pc.hardware',\n",
       " 'comp.sys.mac.hardware',\n",
       " 'comp.windows.x',\n",
       " 'misc.forsale',\n",
       " 'rec.autos',\n",
       " 'rec.motorcycles',\n",
       " 'rec.sport.baseball',\n",
       " 'rec.sport.hockey',\n",
       " 'sci.crypt',\n",
       " 'sci.electronics',\n",
       " 'sci.med',\n",
       " 'sci.space',\n",
       " 'soc.religion.christian',\n",
       " 'talk.politics.guns',\n",
       " 'talk.politics.mideast',\n",
       " 'talk.politics.misc',\n",
       " 'talk.religion.misc']"
      ]
     },
     "execution_count": 55,
     "metadata": {},
     "output_type": "execute_result"
    }
   ],
   "source": [
    "from sklearn.datasets import fetch_20newsgroups\n",
    "\n",
    "data = fetch_20newsgroups()\n",
    "data.target_names"
   ]
  },
  {
   "cell_type": "markdown",
   "metadata": {},
   "source": [
    "For simplicity here, we will select just a few of these categories, and download the training and testing set:"
   ]
  },
  {
   "cell_type": "code",
   "execution_count": 56,
   "metadata": {
    "pycharm": {
     "name": "#%%\n"
    }
   },
   "outputs": [],
   "source": [
    "categories = ['talk.religion.misc', 'soc.religion.christian',\n",
    "             'sci.space', 'comp.graphics']\n",
    "train = fetch_20newsgroups(subset='train', categories=categories)\n",
    "test = fetch_20newsgroups(subset='test', categories=categories)"
   ]
  },
  {
   "cell_type": "markdown",
   "metadata": {},
   "source": [
    "Here is a representative entry from the data:"
   ]
  },
  {
   "cell_type": "code",
   "execution_count": 57,
   "metadata": {
    "pycharm": {
     "name": "#%%\n"
    }
   },
   "outputs": [
    {
     "name": "stdout",
     "output_type": "stream",
     "text": [
      "From: dmcgee@uluhe.soest.hawaii.edu (Don McGee)\n",
      "Subject: Federal Hearing\n",
      "Originator: dmcgee@uluhe\n",
      "Organization: School of Ocean and Earth Science and Technology\n",
      "Distribution: usa\n",
      "Lines: 10\n",
      "\n",
      "\n",
      "Fact or rumor....?  Madalyn Murray O'Hare an atheist who eliminated the\n",
      "use of the bible reading and prayer in public schools 15 years ago is now\n",
      "going to appear before the FCC with a petition to stop the reading of the\n",
      "Gospel on the airways of America.  And she is also campaigning to remove\n",
      "Christmas programs, songs, etc from the public schools.  If it is true\n",
      "then mail to Federal Communications Commission 1919 H Street Washington DC\n",
      "20054 expressing your opposition to her request.  Reference Petition number\n",
      "\n",
      "2493.\n",
      "\n"
     ]
    }
   ],
   "source": [
    "print(train.data[5])"
   ]
  },
  {
   "cell_type": "markdown",
   "metadata": {},
   "source": [
    "Show the distributions of lengths of the emails"
   ]
  },
  {
   "cell_type": "code",
   "execution_count": 58,
   "metadata": {
    "pycharm": {
     "name": "#%%\n"
    }
   },
   "outputs": [
    {
     "data": {
      "image/png": "[encoded data removed]",
      "text/plain": [
       "<Figure size 432x288 with 1 Axes>"
      ]
     },
     "metadata": {
      "needs_background": "light"
     },
     "output_type": "display_data"
    }
   ],
   "source": [
    "lens = [len(d) for d in train.data]\n",
    "\n",
    "def plot_loghist(x, bins):\n",
    "  hist, bins = np.histogram(x, bins=bins)\n",
    "  logbins = np.logspace(np.log10(bins[0]),np.log10(bins[-1]),len(bins))\n",
    "  plt.hist(x, bins=logbins)\n",
    "  plt.xscale('log')\n",
    "\n",
    "plot_loghist(lens, 10)\n"
   ]
  },
  {
   "cell_type": "markdown",
   "metadata": {},
   "source": [
    "In order to use this data for machine learning, we need to be able to convert the content of each string into a vector of numbers.\n",
    "For this we will use the TF-IDF vectorizer, and create a pipeline that attaches it to a multinomial naive Bayes classifier:"
   ]
  },
  {
   "cell_type": "code",
   "execution_count": 94,
   "metadata": {
    "pycharm": {
     "name": "#%%\n"
    }
   },
   "outputs": [],
   "source": [
    "from sklearn.feature_extraction.text import TfidfVectorizer\n",
    "from sklearn.naive_bayes import MultinomialNB\n",
    "from sklearn.pipeline import make_pipeline\n",
    "\n",
    "model = make_pipeline(TfidfVectorizer(), MultinomialNB())"
   ]
  },
  {
   "cell_type": "markdown",
   "metadata": {},
   "source": [
    "With this pipeline, we can apply the model to the training data, and predict labels for the test data:"
   ]
  },
  {
   "cell_type": "code",
   "execution_count": 95,
   "metadata": {
    "pycharm": {
     "name": "#%%\n"
    }
   },
   "outputs": [],
   "source": [
    "model.fit(train.data, train.target)\n",
    "labels = model.predict(test.data)"
   ]
  },
  {
   "cell_type": "markdown",
   "metadata": {},
   "source": [
    "Now that we have predicted the labels for the test data, we can evaluate them to learn about the performance of the estimator.\n",
    "For example, here is the confusion matrix between the true and predicted labels for the test data:"
   ]
  },
  {
   "cell_type": "code",
   "execution_count": null,
   "metadata": {
    "pycharm": {
     "name": "#%%\n"
    }
   },
   "outputs": [],
   "source": [
    "from sklearn.metrics import confusion_matrix\n",
    "mat = confusion_matrix(test.target, labels)\n",
    "plt.figure(figsize=(20,14))\n",
    "sns.heatmap(mat.T, square=True, annot=True, fmt='d', cbar=False,\n",
    "            xticklabels=train.target_names, yticklabels=train.target_names)\n",
    "plt.xlabel('true label')\n",
    "plt.ylabel('predicted label');"
   ]
  },
  {
   "cell_type": "markdown",
   "metadata": {},
   "source": [
    "Evidently, even this very simple classifier can successfully separate space talk from computer talk, but it gets confused between talk about religion and talk about Christianity.\n",
    "This is perhaps an expected area of confusion!\n",
    "\n",
    "The very cool thing here is that we now have the tools to determine the category for *any* string, using the ``predict()`` method of this pipeline.\n",
    "Here's a quick utility function that will return the prediction for a single string:"
   ]
  },
  {
   "cell_type": "code",
   "execution_count": null,
   "metadata": {
    "pycharm": {
     "name": "#%%\n"
    }
   },
   "outputs": [],
   "source": [
    "from sklearn.metrics import classification_report\n",
    "print(classification_report(test.target, labels))\n"
   ]
  },
  {
   "cell_type": "code",
   "execution_count": null,
   "metadata": {
    "pycharm": {
     "name": "#%%\n"
    }
   },
   "outputs": [],
   "source": [
    "def predict_category(s, train=train, model=model):\n",
    "    pred = model.predict([s])\n",
    "    return train.target_names[pred[0]]"
   ]
  },
  {
   "cell_type": "markdown",
   "metadata": {},
   "source": [
    "Let's try it out:"
   ]
  },
  {
   "cell_type": "code",
   "execution_count": null,
   "metadata": {
    "pycharm": {
     "name": "#%%\n"
    }
   },
   "outputs": [],
   "source": [
    "predict_category('sending a payload to the ISS')"
   ]
  },
  {
   "cell_type": "code",
   "execution_count": null,
   "metadata": {
    "pycharm": {
     "name": "#%%\n"
    }
   },
   "outputs": [],
   "source": [
    "predict_category('sending bytes to the network')"
   ]
  },
  {
   "cell_type": "code",
   "execution_count": null,
   "metadata": {
    "pycharm": {
     "name": "#%%\n"
    }
   },
   "outputs": [],
   "source": [
    "predict_category('sending chocolate')"
   ]
  },
  {
   "cell_type": "code",
   "execution_count": null,
   "metadata": {
    "pycharm": {
     "name": "#%%\n"
    }
   },
   "outputs": [],
   "source": [
    "predict_category('discussing islam vs atheism')"
   ]
  },
  {
   "cell_type": "code",
   "execution_count": null,
   "metadata": {
    "pycharm": {
     "name": "#%%\n"
    }
   },
   "outputs": [],
   "source": [
    "predict_category('determining the screen resolution')"
   ]
  },
  {
   "cell_type": "markdown",
   "metadata": {},
   "source": [
    "Remember that this is nothing more sophisticated than a simple probability model for the (weighted) frequency of each word in the string; nevertheless, the result is striking.\n",
    "Even a very naive algorithm, when used carefully and trained on a large set of high-dimensional data, can be surprisingly effective."
   ]
  },
  {
   "cell_type": "markdown",
   "metadata": {},
   "source": [
    "## When to Use Naive Bayes\n",
    "\n",
    "Because naive Bayesian classifiers make such stringent assumptions about data, they will generally not perform as well as a more complicated model.\n",
    "That said, they have several advantages:\n",
    "\n",
    "- They are extremely fast for both training and prediction\n",
    "- They provide straightforward probabilistic prediction\n",
    "- They are often very easily interpretable\n",
    "- They have very few (if any) tunable parameters\n",
    "\n",
    "These advantages mean a naive Bayesian classifier is often a good choice as an initial baseline classification.\n",
    "If it performs suitably, then congratulations: you have a very fast, very interpretable classifier for your problem.\n",
    "If it does not perform well, then you can begin exploring more sophisticated models, with some baseline knowledge of how well they should perform.\n",
    "\n",
    "Naive Bayes classifiers tend to perform especially well in one of the following situations:\n",
    "\n",
    "- When the naive assumptions actually match the data (very rare in practice)\n",
    "- For very well-separated categories, when model complexity is less important\n",
    "- For very high-dimensional data, when model complexity is less important\n",
    "\n",
    "The last two points seem distinct, but they actually are related: as the dimension of a dataset grows, it is much less likely for any two points to be found close together (after all, they must be close in *every single dimension* to be close overall).\n",
    "This means that clusters in high dimensions tend to be more separated, on average, than clusters in low dimensions, assuming the new dimensions actually add information.\n",
    "For this reason, simplistic classifiers like naive Bayes tend to work as well or better than more complicated classifiers as the dimensionality grows: once you have enough data, even a simple model can be very powerful.\n",
    "\n",
    "\n"
   ]
  }
 ],
 "metadata": {
  "kernelspec": {
   "display_name": "Python 3",
   "language": "python",
   "name": "python3"
  },
  "language_info": {
   "codemirror_mode": {
    "name": "ipython",
    "version": 3
   },
   "file_extension": ".py",
   "mimetype": "text/x-python",
   "name": "python",
   "nbconvert_exporter": "python",
   "pygments_lexer": "ipython3",
   "version": "3.8.3"
  }
 },
 "nbformat": 4,
 "nbformat_minor": 2
}
