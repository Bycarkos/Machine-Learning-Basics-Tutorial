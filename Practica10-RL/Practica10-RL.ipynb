{
 "cells": [
  {
   "cell_type": "markdown",
   "metadata": {},
   "source": [
    "# Pràctica 10: Reinforment learning\n"
   ]
  },
  {
   "cell_type": "markdown",
   "metadata": {},
   "source": [
    "## Introducció\n",
    "\n",
    "En aquesta pràctica serà diferent a les anteriors. Com que no teniu massa temps, hem decidit que no haureu d'implementar algorismes, sinò entendre els conceptes bàsics i explicar-los.\n",
    "\n",
    "Per aquest motiu, farem ús de 2 entorns que ens ajudin a entendre com funciona un algorisme d'aprenentatge per reforç (Reinforcement Learning).\n",
    "\n",
    "\n",
    "<img src=\"https://upload.wikimedia.org/wikipedia/commons/9/95/Markov_diagram_v1.svg\" width=\"80%\">\n",
    "\n"
   ]
  },
  {
   "cell_type": "markdown",
   "metadata": {},
   "source": [
    "# A. Multi-Armed Bandits\n",
    "\n"
   ]
  },
  {
   "cell_type": "markdown",
   "metadata": {},
   "source": [
    "\n",
    "## Multi-Armed Bandits and Reinforcement Learning\n",
    "\n",
    "### A Gentle Introduction to the Classic Problem with Python Examples\n",
    "\n",
    "Post extret de la següent web: https://towardsdatascience.com/multi-armed-bandits-and-reinforcement-learning-dc9001dcb8da\n",
    "\n",
    "![Photo by [Carl Raw](https://unsplash.com/@carltraw?utm_source=medium&utm_medium=referral) on [Unsplash](https://unsplash.com?utm_source=medium&utm_medium=referral)](https://cdn-images-1.medium.com/max/10238/0*2orlZg7aPX5dhdBF)\n",
    "\n",
    "Multi-armed bandit problems are some of **the simplest** reinforcement learning (RL) problems to solve. We have an agent which we allow to choose actions, and each action has a reward that is returned according to a given, underlying probability distribution. The game is played over many episodes (single actions in this case) and the goal is to maximize your reward.\n",
    "\n",
    "**An easy picture is to think of choosing between *k*-many [*one-armed bandits*](https://en.wikipedia.org/wiki/Slot_machine) (i.e. slot machines) or one big slot machine with *k* arms. Each arm you pull has a different reward associated with it. You’re given 1,000 quarters, so you need to develop some kind of strategy to get the most bang for your buck.**\n",
    "\n",
    "One way to approach this is to select each one in turn and keep track of how much you received, then keep going back to the one that paid out the most. This is possible, but, as stated before, each bandit has an underlying probability distribution associated with it, meaning that you may need more samples before finding the right one. But, each pull you spend trying to figure out the best bandit to play takes you away from maximizing your reward. This basic balancing act is known as the **explore-exploit dilemma**. Forms of this basic problem come up in areas outside of AI and RL, such as in [choosing a career](https://joshkaufman.net/explore-exploit/), [finance](https://www.aaai.org/ocs/index.php/IJCAI/IJCAI15/paper/viewFile/10972/10798), [human psychology](https://econ.arizona.edu/sites/econ/files/wilsonetal_jepgeneral2014_print.pdf), and even [medical ethics](http://www.pnas.org/content/106/52/22387) (although, I think my favorite proposed use case relates to the suggestion that, due to its richness, it be given to Nazi Germany during WWII, [“as the ultimate form of intellectual sabotage.”](https://people.eecs.berkeley.edu/~russell/classes/cs294/s11/readings/Gittins:1979.pdf)).\n",
    "\n"
   ]
  },
  {
   "cell_type": "markdown",
   "metadata": {},
   "source": [
    "## TL;DR\n",
    "\n",
    "We introduce multi-armed bandit problems following the framework of [Sutton and Barto’s book](https://amzn.to/2Q2mxxn) (affiliate link of the author of the post) and develop a framework for solving these problems as well as examples. \n",
    "\n",
    "We’ll focus on:\n",
    "* [**ϵ−greedy**](#%CF%B5-Greedy-Methods)\n",
    "* [**ϵ−decay**](#%CF%B5-Decay-Strategies)\n",
    "* [**optimistic strategies**](#Optimistic-Initial-Value)\n",
    "\n"
   ]
  },
  {
   "cell_type": "markdown",
   "metadata": {},
   "source": [
    "## Problem Setup\n",
    "\n",
    "To get started, let’s describe the problem in a bit more technical detail. What we wish to do, is develop an estimate $Qt(a)$:\n",
    "\n",
    "![](https://cdn-images-1.medium.com/max/2000/1*n6jigGk161weIu8xHYQT_A.png)\n",
    "\n",
    "Where $Qt(a)$ is the estimated, expected reward ($Rn$), when action $An$ is taken at step $n$. \n",
    "\n",
    "We’re going to iteratively build a model that will converge towards the true value of each action. We’re going to use a Gaussian (normal) distribution for all of the underlying probability distributions that we’ll explore so that the mean corresponds to the true value (after all, given enough samples, we would expect our rewards to converge to the mean of the selected action).\n",
    "\n",
    "The **simplest way to proceed** is to take the **greedy action** or take the action we think will maximize our reward at each time step. Another way of writing this is:\n",
    "\n",
    "![](https://cdn-images-1.medium.com/max/2000/1*S3nJWVy8oQE0gTDnh2D0jw.png)\n",
    "\n",
    "We can denote this maximum expectation or greedy action as $A^*n$. This is the *exploit* side of our aforementioned **explore-exploit dilemma**, and it makes lots of sense if the goal is to maximize our reward. Of course, doing this repeatedly only works well once we have a good sense of our expected rewards for each actions (unless we get rather lucky). So, we need to figure out an algorithm that explores enough of our search space so that we can exploit the best actions.\n",
    "\n",
    "Before jumping into this, there’s one last concept to introduce. In typical RL applications, we may need hundreds of thousands of iterations, if not millions or more. It quickly becomes very computationally intensive to run simulations of these sorts and keep track of all that data just to calculate the average reward. To avoid this, we can use a handy formula so that all we need to track are two values: the mean and number of steps taken. If we need to calculate the mean at step $n$, $m_n$, we can do it with the previous mean, $m_{n−1}$ and $n$ as follows:\n",
    "\n",
    "![](https://cdn-images-1.medium.com/max/2000/1*IGzEQ2Ze5N6ijgApE-Tynw.png)\n",
    "\n",
    "With that, we can start to develop strategies for solving our *k-bandit* problems.\n",
    "\n"
   ]
  },
  {
   "cell_type": "markdown",
   "metadata": {},
   "source": [
    "## ϵ-Greedy Methods\n",
    "\n",
    "We briefly talked about a pure-greedy method, and I indicated that on its own it won’t work very well. Consider if you implement a pure-greedy method, you take one action, $A_n=a_1$, at $n=1$ and get a reward. Well, then this becomes your highest reward (assuming it is positive) and you simply repeat $a_1 ​∀ n$ (take action $a_1$ for all steps $n$). \n",
    "\n",
    "To encourage a bit of exploration, we can use ϵ-greedy which means that we explore another option with a probability of ϵ. This provides a bit of noise into the algorithm to ensure you keep trying other values, otherwise, you keep on exploiting your maximum reward.\n",
    "\n",
    "Let’s turn to Python to implement our *k-*armed bandit.\n",
    "\n"
   ]
  },
  {
   "cell_type": "markdown",
   "metadata": {},
   "source": [
    "## Building a greedy k-Armed Bandit\n",
    "\n",
    "We’re going to define a class called `eps_bandit` to be able to run our experiment. This class takes number of arms, `k`, epsilon value `eps`, number of iterations `iter` as inputs. We'll also define a term `mu` that we can use to adjust the average rewards of each of the arms.\n"
   ]
  },
  {
   "cell_type": "code",
   "execution_count": 1,
   "metadata": {
    "pycharm": {
     "name": "#%%\n"
    }
   },
   "outputs": [],
   "source": [
    "# import modules\n",
    "import numpy as np\n",
    "import matplotlib.pyplot as plt\n",
    "import pandas as pd\n",
    "import tqdm\n",
    "\n",
    "%matplotlib inline"
   ]
  },
  {
   "cell_type": "code",
   "execution_count": 2,
   "metadata": {},
   "outputs": [],
   "source": [
    "# global parameters\n",
    "k = 10           # number of bandits\n",
    "iters = 1000     # iters (steps or pulls) inside an episode\n",
    "episodes = 500   # number of episodes"
   ]
  },
  {
   "cell_type": "code",
   "execution_count": 3,
   "metadata": {
    "pycharm": {
     "name": "#%%\n"
    }
   },
   "outputs": [],
   "source": [
    "class eps_bandit:\n",
    "    '''\n",
    "    epsilon-greedy k-bandit problem\n",
    "\n",
    "    Inputs\n",
    "    =====================================================\n",
    "    k: number of arms (int)\n",
    "    eps: probability of random action 0 < eps < 1 (float)\n",
    "    iters: number of steps (int)\n",
    "    mu: set the average rewards for each of the k-arms.\n",
    "        Set to \"random\" for the rewards to be selected from a normal distribution with mean = 0.\n",
    "        Set to \"sequence\" for the means to be ordered from 0 to k-1.\n",
    "        Pass a list or array of length = k for user-defined values.\n",
    "    '''\n",
    "\n",
    "    def __init__(self, k, eps, iters, mu='random'):\n",
    "        # Number of arms\n",
    "        self.k = k\n",
    "        # Search probability\n",
    "        self.eps = eps\n",
    "        # Number of iterations\n",
    "        self.iters = iters\n",
    "        # Step count\n",
    "        self.n = 0\n",
    "        # Step count for each arm\n",
    "        self.k_n = np.zeros(k)\n",
    "        # Total mean reward\n",
    "        self.mean_reward = 0\n",
    "        self.reward = np.zeros(iters)\n",
    "        # Mean reward for each arm\n",
    "        self.k_reward = np.zeros(k)\n",
    "\n",
    "        if type(mu) == list or type(mu).__module__ == np.__name__:\n",
    "            # User-defined averages\n",
    "            self.mu = np.array(mu)\n",
    "        elif mu == 'random':\n",
    "            # Draw means from probability distribution\n",
    "            self.mu = np.random.normal(0, 1, k)\n",
    "        elif mu == 'sequence':\n",
    "            # Increase the mean for each arm by one\n",
    "            self.mu = np.linspace(0, k-1, k)\n",
    "\n",
    "    def pull(self):\n",
    "        # Generate random number\n",
    "        p = np.random.rand()\n",
    "        if self.eps == 0 and self.n == 0:\n",
    "            a = np.random.choice(self.k)\n",
    "        elif p < self.eps:\n",
    "            # Randomly select an action\n",
    "            a = np.random.choice(self.k)\n",
    "        else:\n",
    "            # Take greedy action\n",
    "            a = np.argmax(self.k_reward)\n",
    "\n",
    "        reward = np.random.normal(self.mu[a], 1)\n",
    "\n",
    "        # Update counts\n",
    "        self.n += 1\n",
    "        self.k_n[a] += 1\n",
    "\n",
    "        # Update total\n",
    "        self.mean_reward = self.mean_reward + (reward - self.mean_reward) / self.n\n",
    "\n",
    "        # Update results for a_k\n",
    "        self.k_reward[a] = self.k_reward[a] + (reward - self.k_reward[a]) / self.k_n[a]\n",
    "\n",
    "    def run(self):\n",
    "        for i in range(self.iters):\n",
    "            self.pull()\n",
    "            self.reward[i] = self.mean_reward\n",
    "\n",
    "    def reset(self):\n",
    "        # Resets results while keeping settings\n",
    "        self.n = 0\n",
    "        self.k_n = np.zeros(k)\n",
    "        self.mean_reward = 0\n",
    "        self.reward = np.zeros(iters)\n",
    "        self.k_reward = np.zeros(k)"
   ]
  },
  {
   "cell_type": "markdown",
   "metadata": {},
   "source": [
    "There are plenty of different ways to define this class. I did it so that once we initialize our problem, we just call the run() method and can examine the outputs. By default, the average rewards for each arm are drawn from a normal distribution around 0. Setting mu=\"sequence\" will cause the rewards to range from 0 to *k-1* to make it easy to know which actions provide the best rewards when evaluating the results and which actions were taken. Finally, you could also set your own average rewards by passing values to mu.\n",
    "\n",
    "Let’s set up some comparisons using different values of ϵ\\epsilonϵ. For each of these, we’ll set k=10, run 1,000 steps for each episode and run 500 episodes. After each episode, we will reset the bandits and copy the averages across the different bandits to keep things consistent."
   ]
  },
  {
   "cell_type": "code",
   "execution_count": 4,
   "metadata": {
    "pycharm": {
     "name": "#%%\n"
    }
   },
   "outputs": [
    {
     "name": "stderr",
     "output_type": "stream",
     "text": [
      "100%|██████████| 500/500 [00:10<00:00, 47.91it/s]\n"
     ]
    },
    {
     "data": {
      "image/png": "[encoded data removed]",
      "text/plain": [
       "<Figure size 864x576 with 1 Axes>"
      ]
     },
     "metadata": {
      "needs_background": "light"
     },
     "output_type": "display_data"
    }
   ],
   "source": [
    "eps_000_rewards = np.zeros(iters)\n",
    "eps_001_rewards = np.zeros(iters)\n",
    "eps_010_rewards = np.zeros(iters)\n",
    "\n",
    "# Run experiments\n",
    "for i in tqdm.tqdm(range(episodes)):\n",
    "    # Initialize bandits\n",
    "    eps_000 = eps_bandit(k, 0.00, iters)\n",
    "    eps_001 = eps_bandit(k, 0.01, iters, eps_000.mu.copy())\n",
    "    eps_010 = eps_bandit(k, 0.1, iters, eps_000.mu.copy())\n",
    "\n",
    "    # Run experiments\n",
    "    eps_000.run()\n",
    "    eps_001.run()\n",
    "    eps_010.run()\n",
    "\n",
    "    # Update long-term averages\n",
    "    eps_000_rewards = eps_000_rewards + (eps_000.reward - eps_000_rewards) / (i + 1)\n",
    "    eps_001_rewards = eps_001_rewards + (eps_001.reward - eps_001_rewards) / (i + 1)\n",
    "    eps_010_rewards = eps_010_rewards + (eps_010.reward - eps_010_rewards) / (i + 1)\n",
    "\n",
    "plt.figure(figsize=(12,8))\n",
    "plt.plot(eps_000_rewards, label=\"$\\epsilon=0$ (greedy)\")\n",
    "plt.plot(eps_001_rewards, label=\"$\\epsilon=0.01$\")\n",
    "plt.plot(eps_010_rewards, label=\"$\\epsilon=0.1$\")\n",
    "plt.legend(bbox_to_anchor=(1.3, 0.5))\n",
    "plt.xlabel(\"Iterations\")\n",
    "plt.ylabel(\"Average Reward\")\n",
    "plt.title(\"Average $\\epsilon-greedy$ Rewards after \" + str(episodes)  + \" Episodes\")\n",
    "plt.show()"
   ]
  },
  {
   "cell_type": "markdown",
   "metadata": {},
   "source": [
    "Looking at the results, the greedy function under performs the other two consistently, with ϵ=0.01 coming in between the two and ϵ=0.1 performing the best of the three here. Below, we can see the effect is clearer using the sequence argument, and can get a feel for how often the optimal action is taken per episode because the averages remain consistent across episodes."
   ]
  },
  {
   "cell_type": "code",
   "execution_count": 5,
   "metadata": {
    "pycharm": {
     "name": "#%%\n"
    }
   },
   "outputs": [
    {
     "name": "stderr",
     "output_type": "stream",
     "text": [
      "100%|██████████| 500/500 [00:12<00:00, 38.94it/s]\n"
     ]
    },
    {
     "data": {
      "image/png": "[encoded data removed]",
      "text/plain": [
       "<Figure size 864x576 with 1 Axes>"
      ]
     },
     "metadata": {
      "needs_background": "light"
     },
     "output_type": "display_data"
    }
   ],
   "source": [
    "eps_0_rewards = np.zeros(iters)\n",
    "eps_01_rewards = np.zeros(iters)\n",
    "eps_1_rewards = np.zeros(iters)\n",
    "eps_0_selection = np.zeros(k)\n",
    "eps_01_selection = np.zeros(k)\n",
    "eps_1_selection = np.zeros(k)\n",
    "\n",
    "# Run experiments\n",
    "for i in tqdm.tqdm(range(episodes)):\n",
    "    # Initialize bandits\n",
    "    eps_0 = eps_bandit(k, 0, iters, mu='sequence')\n",
    "    eps_01 = eps_bandit(k, 0.01, iters, eps_0.mu.copy())\n",
    "    eps_1 = eps_bandit(k, 0.5, iters, eps_0.mu.copy())\n",
    "\n",
    "    # Run experiments\n",
    "    eps_0.run()\n",
    "    eps_01.run()\n",
    "    eps_1.run()\n",
    "\n",
    "    # Update long-term averages\n",
    "    eps_0_rewards = eps_0_rewards + (eps_0.reward - eps_0_rewards) / (i + 1)\n",
    "    eps_01_rewards = eps_01_rewards + (eps_01.reward - eps_01_rewards) / (i + 1)\n",
    "    eps_1_rewards = eps_1_rewards + (eps_1.reward - eps_1_rewards) / (i + 1)\n",
    "\n",
    "    # Average actions per episode\n",
    "    eps_0_selection = eps_0_selection + (eps_0.k_n - eps_0_selection) / (i + 1)\n",
    "    eps_01_selection = eps_01_selection + (eps_01.k_n - eps_01_selection) / (i + 1)\n",
    "    eps_1_selection = eps_1_selection + (eps_1.k_n - eps_1_selection) / (i + 1)\n",
    "\n",
    "plt.figure(figsize=(12,8))\n",
    "plt.plot(eps_0_rewards, label=\"$\\epsilon=0$ (greedy)\")\n",
    "plt.plot(eps_01_rewards, label=\"$\\epsilon=0.01$\")\n",
    "plt.plot(eps_1_rewards, label=\"$\\epsilon=0.1$\")\n",
    "for i in range(k):\n",
    "    plt.hlines(eps_0.mu[i], xmin=0,\n",
    "              xmax=iters, alpha=0.5,\n",
    "              linestyle=\"--\")\n",
    "plt.legend(bbox_to_anchor=(1.3, 0.5))\n",
    "plt.xlabel(\"Iterations\")\n",
    "plt.ylabel(\"Average Reward\")\n",
    "plt.title(\"Average $\\epsilon-greedy$ Rewards after \" + str(episodes) + \" Episodes\")\n",
    "plt.show()"
   ]
  },
  {
   "cell_type": "code",
   "execution_count": 7,
   "metadata": {
    "pycharm": {
     "name": "#%%\n"
    }
   },
   "outputs": [
    {
     "data": {
      "image/png": "[encoded data removed]",
      "text/plain": [
       "<Figure size 864x576 with 1 Axes>"
      ]
     },
     "metadata": {
      "needs_background": "light"
     },
     "output_type": "display_data"
    },
    {
     "name": "stdout",
     "output_type": "stream",
     "text": [
      "Percentage of actions selected:\n"
     ]
    },
    {
     "data": {
      "text/html": [
       "<div>\n",
       "<style scoped>\n",
       "    .dataframe tbody tr th:only-of-type {\n",
       "        vertical-align: middle;\n",
       "    }\n",
       "\n",
       "    .dataframe tbody tr th {\n",
       "        vertical-align: top;\n",
       "    }\n",
       "\n",
       "    .dataframe thead th {\n",
       "        text-align: right;\n",
       "    }\n",
       "</style>\n",
       "<table border=\"1\" class=\"dataframe\">\n",
       "  <thead>\n",
       "    <tr style=\"text-align: right;\">\n",
       "      <th></th>\n",
       "      <th>a = 0</th>\n",
       "      <th>a = 1</th>\n",
       "      <th>a = 2</th>\n",
       "      <th>a = 3</th>\n",
       "      <th>a = 4</th>\n",
       "      <th>a = 5</th>\n",
       "      <th>a = 6</th>\n",
       "      <th>a = 7</th>\n",
       "      <th>a = 8</th>\n",
       "      <th>a = 9</th>\n",
       "    </tr>\n",
       "  </thead>\n",
       "  <tbody>\n",
       "    <tr>\n",
       "      <th>$\\epsilon=0$</th>\n",
       "      <td>0.0576</td>\n",
       "      <td>12.3818</td>\n",
       "      <td>13.5606</td>\n",
       "      <td>11.4000</td>\n",
       "      <td>11.0000</td>\n",
       "      <td>9.6000</td>\n",
       "      <td>9.4000</td>\n",
       "      <td>10.2000</td>\n",
       "      <td>13.2000</td>\n",
       "      <td>9.2000</td>\n",
       "    </tr>\n",
       "    <tr>\n",
       "      <th>$\\epsilon=0.01$</th>\n",
       "      <td>1.1450</td>\n",
       "      <td>9.2666</td>\n",
       "      <td>4.5956</td>\n",
       "      <td>2.8530</td>\n",
       "      <td>3.1018</td>\n",
       "      <td>4.7924</td>\n",
       "      <td>5.8550</td>\n",
       "      <td>11.3578</td>\n",
       "      <td>20.6190</td>\n",
       "      <td>36.4138</td>\n",
       "    </tr>\n",
       "    <tr>\n",
       "      <th>$\\epsilon=0.1$</th>\n",
       "      <td>1.3270</td>\n",
       "      <td>1.6390</td>\n",
       "      <td>1.2464</td>\n",
       "      <td>1.2262</td>\n",
       "      <td>1.3514</td>\n",
       "      <td>1.3762</td>\n",
       "      <td>1.8018</td>\n",
       "      <td>2.5700</td>\n",
       "      <td>7.2902</td>\n",
       "      <td>80.1718</td>\n",
       "    </tr>\n",
       "  </tbody>\n",
       "</table>\n",
       "</div>"
      ],
      "text/plain": [
       "                  a = 0    a = 1    a = 2    a = 3    a = 4   a = 5   a = 6  \\\n",
       "$\\epsilon=0$     0.0576  12.3818  13.5606  11.4000  11.0000  9.6000  9.4000   \n",
       "$\\epsilon=0.01$  1.1450   9.2666   4.5956   2.8530   3.1018  4.7924  5.8550   \n",
       "$\\epsilon=0.1$   1.3270   1.6390   1.2464   1.2262   1.3514  1.3762  1.8018   \n",
       "\n",
       "                   a = 7    a = 8    a = 9  \n",
       "$\\epsilon=0$     10.2000  13.2000   9.2000  \n",
       "$\\epsilon=0.01$  11.3578  20.6190  36.4138  \n",
       "$\\epsilon=0.1$    2.5700   7.2902  80.1718  "
      ]
     },
     "execution_count": 7,
     "metadata": {},
     "output_type": "execute_result"
    }
   ],
   "source": [
    "bins = np.linspace(0, k-1, k)\n",
    "\n",
    "plt.figure(figsize=(12,8))\n",
    "plt.bar(bins, eps_0_selection, width = 0.33, color='b', label=\"$\\epsilon=0$\")\n",
    "plt.bar(bins+0.33, eps_01_selection, width=0.33, color='g', label=\"$\\epsilon=0.01$\")\n",
    "plt.bar(bins+0.66, eps_1_selection, width=0.33, color='r', label=\"$\\epsilon=0.1$\")\n",
    "plt.legend(bbox_to_anchor=(1.2, 0.5))\n",
    "plt.xlim([0,k])\n",
    "plt.title(\"Actions Selected by Each Algorithm\")\n",
    "plt.xlabel(\"Action\")\n",
    "plt.ylabel(\"Number of Actions Taken\")\n",
    "plt.show()\n",
    "\n",
    "opt_per = np.array([eps_0_selection, eps_01_selection, eps_1_selection]) / iters * 100\n",
    "df = pd.DataFrame(opt_per, index=['$\\epsilon=0$', '$\\epsilon=0.01$', '$\\epsilon=0.1$'],\n",
    "                  columns=[\"a = \" + str(x) for x in range(0, k)])\n",
    "print(\"Percentage of actions selected:\")\n",
    "df"
   ]
  },
  {
   "cell_type": "markdown",
   "metadata": {},
   "source": [
    "Viewing the average selection of the algorithms, we see why the larger ϵ value performs well, it takes the optimal selection 80% of the time.\n",
    "\n",
    "Play around with the different values of both ϵ and *k* to see how these results change. For example, decreasing the search space would likely benefit smaller values of ϵ as exploration would be less beneficial and vice versa. Additionally, increasing the number of iterations will begin to benefit the lower value of ϵ because it will have less random noise."
   ]
  },
  {
   "cell_type": "markdown",
   "metadata": {},
   "source": [
    "## ϵ-Decay Strategies\n",
    "\n",
    "The ϵ-greedy strategies have an obvious weakness in that they continue to include random noise no matter how many examples they see. It would be better for these to settle on an optimal solution and continue to exploit it. To this end, we can introduce ϵ-decay which reduces the probability of exploration with every step. This works by defining ϵ as a function of the number of steps, *n*.\n",
    "\n",
    "![](https://cdn-images-1.medium.com/max/2000/1*OHcZPVCqG3dqIVFtpv7B-Q.png)\n",
    "\n",
    "Where β<1 is introduced as a scaling factor to reduce the scaling rate so that the algorithm has sufficient opportunity to explore. In this case, we also include +1 in the denominator to prevent infinities from appearing. Given this, we can make a few small changes to our previous class of bandits to define an eps_decay_bandit class that works on the same principles."
   ]
  },
  {
   "cell_type": "code",
   "execution_count": 10,
   "metadata": {
    "pycharm": {
     "name": "#%%\n"
    }
   },
   "outputs": [],
   "source": [
    "class eps_decay_bandit:\n",
    "    '''\n",
    "    epsilon-decay k-bandit problem\n",
    "\n",
    "    Inputs\n",
    "    =====================================================\n",
    "    k: number of arms (int)\n",
    "    iters: number of steps (int)\n",
    "    mu: set the average rewards for each of the k-arms.\n",
    "        Set to \"random\" for the rewards to be selected from a normal distribution with mean = 0.\n",
    "        Set to \"sequence\" for the means to be ordered from 0 to k-1.\n",
    "        Pass a list or array of length = k for user-defined values.\n",
    "    '''\n",
    "\n",
    "    def __init__(self, k, iters, mu='random'):\n",
    "        # Number of arms\n",
    "        self.k = k\n",
    "        # Number of iterations\n",
    "        self.iters = iters\n",
    "        # Step count\n",
    "        self.n = 0\n",
    "        # Step count for each arm\n",
    "        self.k_n = np.zeros(k)\n",
    "        # Total mean reward\n",
    "        self.mean_reward = 0\n",
    "        self.reward = np.zeros(iters)\n",
    "        # Mean reward for each arm\n",
    "        self.k_reward = np.zeros(k)\n",
    "\n",
    "        if type(mu) == list or type(mu).__module__ == np.__name__:\n",
    "            # User-defined averages\n",
    "            self.mu = np.array(mu)\n",
    "        elif mu == 'random':\n",
    "            # Draw means from probability distribution\n",
    "            self.mu = np.random.normal(0, 1, k)\n",
    "        elif mu == 'sequence':\n",
    "            # Increase the mean for each arm by one\n",
    "            self.mu = np.linspace(0, k-1, k)\n",
    "\n",
    "    def pull(self):\n",
    "        # Generate random number\n",
    "        p = np.random.rand()\n",
    "        if p < 1 / (1 + self.n / self.k):\n",
    "            # Randomly select an action\n",
    "            a = np.random.choice(self.k)\n",
    "        else:\n",
    "            # Take greedy action\n",
    "            a = np.argmax(self.k_reward)\n",
    "\n",
    "        reward = np.random.normal(self.mu[a], 1)\n",
    "\n",
    "        # Update counts\n",
    "        self.n += 1\n",
    "        self.k_n[a] += 1\n",
    "\n",
    "        # Update total\n",
    "        self.mean_reward = self.mean_reward + (reward - self.mean_reward) / self.n\n",
    "\n",
    "        # Update results for a_k\n",
    "        self.k_reward[a] = self.k_reward[a] + (reward - self.k_reward[a]) / self.k_n[a]\n",
    "\n",
    "    def run(self):\n",
    "        for i in range(self.iters):\n",
    "            self.pull()\n",
    "            self.reward[i] = self.mean_reward\n",
    "\n",
    "    def reset(self):\n",
    "        # Resets results while keeping settings\n",
    "        self.n = 0\n",
    "        self.k_n = np.zeros(k)\n",
    "        self.mean_reward = 0\n",
    "        self.reward = np.zeros(iters)\n",
    "        self.k_reward = np.zeros(k)"
   ]
  },
  {
   "cell_type": "markdown",
   "metadata": {},
   "source": [
    "Now running the code:"
   ]
  },
  {
   "cell_type": "code",
   "execution_count": 11,
   "metadata": {
    "pycharm": {
     "name": "#%%\n"
    }
   },
   "outputs": [
    {
     "name": "stderr",
     "output_type": "stream",
     "text": [
      "100%|██████████| 500/500 [00:11<00:00, 41.89it/s]\n"
     ]
    },
    {
     "data": {
      "image/png": "[encoded data removed]",
      "text/plain": [
       "<Figure size 864x576 with 1 Axes>"
      ]
     },
     "metadata": {
      "needs_background": "light"
     },
     "output_type": "display_data"
    }
   ],
   "source": [
    "eps_decay_rewards = np.zeros(iters)\n",
    "eps_1_rewards = np.zeros(iters)\n",
    "\n",
    "# Run experiments\n",
    "for i in tqdm.tqdm(range(episodes)):\n",
    "    # Initialize bandits\n",
    "    eps_decay = eps_decay_bandit(k, iters)\n",
    "    eps_1 = eps_bandit(k, 0.1, iters, eps_decay.mu.copy())\n",
    "\n",
    "    # Run experiments\n",
    "    eps_decay.run()\n",
    "    eps_1.run()\n",
    "\n",
    "    # Update long-term averages\n",
    "    eps_decay_rewards = eps_decay_rewards + (eps_decay.reward - eps_decay_rewards) / (i + 1)\n",
    "    eps_1_rewards = eps_1_rewards + (eps_1.reward - eps_1_rewards) / (i + 1)\n",
    "\n",
    "plt.figure(figsize=(12,8))\n",
    "plt.plot(eps_decay_rewards, label=\"$\\epsilon-decay$\")\n",
    "plt.plot(eps_1_rewards, label=\"$\\epsilon=0.1$\")\n",
    "plt.legend(bbox_to_anchor=(1.2, 0.5))\n",
    "plt.xlabel(\"Iterations\")\n",
    "plt.ylabel(\"Average Reward\")\n",
    "plt.title(\"Average $\\epsilon-decay$ and \" + \"$\\epsilon-greedy$ Rewards after \" + str(episodes) + \" Episodes\")\n",
    "plt.show()"
   ]
  },
  {
   "cell_type": "markdown",
   "metadata": {},
   "source": [
    "The ϵ-decay strategy outperforms our previous best algorithm as it sticks to the optimal action once it is found.\n",
    "\n",
    "There’s one last method to balance the explore-exploit dilemma in *k-bandit* problems, **optimistic initial values**."
   ]
  },
  {
   "cell_type": "markdown",
   "metadata": {},
   "source": [
    "## Optimistic Initial Value\n",
    "\n",
    "This approach differs significantly from the previous examples we explored because it does not introduce random noise to find the best action, *A*_n*​. Instead, we over estimate the rewards of all the actions and continuously select the maximum. In this case, the algorithm explores early on as it seeks to maximize its returns while additional information allows the values to converge to their true means. This approach does require some additional background knowledge to be included in the set up because we need at least some idea of what the rewards are so that we can over estimate them.\n",
    "\n",
    "For this implementation, we don’t need a new class. Instead, we can simply use our eps_bandit class and set ϵ=0 and provide high, initial values for the estimates. Also, I like to initialize the pull count for each arm as 1 instead of 0 to encourage slightly slower convergence and ensure good exploration."
   ]
  },
  {
   "cell_type": "code",
   "execution_count": 14,
   "metadata": {
    "pycharm": {
     "name": "#%%\n"
    }
   },
   "outputs": [
    {
     "name": "stderr",
     "output_type": "stream",
     "text": [
      "100%|██████████| 500/500 [00:17<00:00, 28.35it/s]\n"
     ]
    },
    {
     "data": {
      "image/png": "[encoded data removed]",
      "text/plain": [
       "<Figure size 864x576 with 1 Axes>"
      ]
     },
     "metadata": {
      "needs_background": "light"
     },
     "output_type": "display_data"
    }
   ],
   "source": [
    "oiv_rewards = np.zeros(iters)\n",
    "eps_decay_rewards = np.zeros(iters)\n",
    "eps_1_rewards = np.zeros(iters)\n",
    "\n",
    "# Select initial values\n",
    "oiv_init = np.repeat(5., k)\n",
    "\n",
    "# Run experiments\n",
    "for i in tqdm.tqdm(range(episodes)):\n",
    "    # Initialize bandits\n",
    "    oiv_bandit = eps_bandit(k, 0, iters)\n",
    "    oiv_bandit.k_reward = oiv_init.copy()\n",
    "    oiv_bandit.k_n = np.ones(k)\n",
    "    eps_decay = eps_decay_bandit(k, iters, oiv_bandit.mu.copy())\n",
    "    eps_1 = eps_bandit(k, 0.1, iters, oiv_bandit.mu.copy())\n",
    "\n",
    "    # Run experiments\n",
    "    oiv_bandit.run()\n",
    "    eps_decay.run()\n",
    "    eps_1.run()\n",
    "\n",
    "    # Update long-term averages\n",
    "    oiv_rewards = oiv_rewards + (oiv_bandit.reward - oiv_rewards) / (i + 1)\n",
    "    eps_decay_rewards = eps_decay_rewards + (eps_decay.reward - eps_decay_rewards) / (i + 1)\n",
    "    eps_1_rewards = eps_1_rewards + (eps_1.reward - eps_1_rewards) / (i + 1)\n",
    "\n",
    "plt.figure(figsize=(12,8))\n",
    "plt.plot(oiv_rewards, label=\"Optimistic\")\n",
    "plt.plot(eps_decay_rewards, label=\"$\\epsilon-decay$\")\n",
    "plt.plot(eps_1_rewards, label=\"$\\epsilon=0.1$\")\n",
    "plt.legend(bbox_to_anchor=(1.2, 0.5))\n",
    "plt.xlabel(\"Iterations\")\n",
    "plt.ylabel(\"Average Reward\")\n",
    "plt.title(\"Average Bandit Strategy Rewards after \" + str(episodes) + \" Episodes\")\n",
    "plt.show()"
   ]
  },
  {
   "cell_type": "markdown",
   "metadata": {},
   "source": [
    "We can see that, in this case, the optimistic initial value approach outperformed both our ϵ−greedy and the ϵ−decay algorithms. We can see too, the estimates the algorithm has for each of arms in the last episode."
   ]
  },
  {
   "cell_type": "code",
   "execution_count": 15,
   "metadata": {
    "pycharm": {
     "name": "#%%\n"
    }
   },
   "outputs": [
    {
     "data": {
      "text/html": [
       "<div>\n",
       "<style scoped>\n",
       "    .dataframe tbody tr th:only-of-type {\n",
       "        vertical-align: middle;\n",
       "    }\n",
       "\n",
       "    .dataframe tbody tr th {\n",
       "        vertical-align: top;\n",
       "    }\n",
       "\n",
       "    .dataframe thead th {\n",
       "        text-align: right;\n",
       "    }\n",
       "</style>\n",
       "<table border=\"1\" class=\"dataframe\">\n",
       "  <thead>\n",
       "    <tr style=\"text-align: right;\">\n",
       "      <th></th>\n",
       "      <th>number of selections</th>\n",
       "      <th>actual reward</th>\n",
       "      <th>estimated reward</th>\n",
       "    </tr>\n",
       "  </thead>\n",
       "  <tbody>\n",
       "    <tr>\n",
       "      <th>0</th>\n",
       "      <td>2</td>\n",
       "      <td>0.37</td>\n",
       "      <td>1.68</td>\n",
       "    </tr>\n",
       "    <tr>\n",
       "      <th>1</th>\n",
       "      <td>2</td>\n",
       "      <td>-1.59</td>\n",
       "      <td>0.78</td>\n",
       "    </tr>\n",
       "    <tr>\n",
       "      <th>2</th>\n",
       "      <td>3</td>\n",
       "      <td>-0.32</td>\n",
       "      <td>1.05</td>\n",
       "    </tr>\n",
       "    <tr>\n",
       "      <th>3</th>\n",
       "      <td>22</td>\n",
       "      <td>1.42</td>\n",
       "      <td>1.70</td>\n",
       "    </tr>\n",
       "    <tr>\n",
       "      <th>4</th>\n",
       "      <td>15</td>\n",
       "      <td>1.45</td>\n",
       "      <td>1.72</td>\n",
       "    </tr>\n",
       "    <tr>\n",
       "      <th>5</th>\n",
       "      <td>2</td>\n",
       "      <td>-1.44</td>\n",
       "      <td>1.16</td>\n",
       "    </tr>\n",
       "    <tr>\n",
       "      <th>6</th>\n",
       "      <td>3</td>\n",
       "      <td>-0.28</td>\n",
       "      <td>1.56</td>\n",
       "    </tr>\n",
       "    <tr>\n",
       "      <th>7</th>\n",
       "      <td>945</td>\n",
       "      <td>1.79</td>\n",
       "      <td>1.86</td>\n",
       "    </tr>\n",
       "    <tr>\n",
       "      <th>8</th>\n",
       "      <td>4</td>\n",
       "      <td>0.54</td>\n",
       "      <td>1.52</td>\n",
       "    </tr>\n",
       "    <tr>\n",
       "      <th>9</th>\n",
       "      <td>2</td>\n",
       "      <td>0.69</td>\n",
       "      <td>1.47</td>\n",
       "    </tr>\n",
       "  </tbody>\n",
       "</table>\n",
       "</div>"
      ],
      "text/plain": [
       "   number of selections  actual reward  estimated reward\n",
       "0                     2           0.37              1.68\n",
       "1                     2          -1.59              0.78\n",
       "2                     3          -0.32              1.05\n",
       "3                    22           1.42              1.70\n",
       "4                    15           1.45              1.72\n",
       "5                     2          -1.44              1.16\n",
       "6                     3          -0.28              1.56\n",
       "7                   945           1.79              1.86\n",
       "8                     4           0.54              1.52\n",
       "9                     2           0.69              1.47"
      ]
     },
     "execution_count": 15,
     "metadata": {},
     "output_type": "execute_result"
    }
   ],
   "source": [
    "df = pd.DataFrame({\"number of selections\": oiv_bandit.k_n - 1,\n",
    "                  \"actual reward\": oiv_bandit.mu,\n",
    "                  \"estimated reward\": oiv_bandit.k_reward})\n",
    "df = df.applymap(lambda x: np.round(x, 2))\n",
    "df['number of selections'] = df['number of selections'].astype('int')\n",
    "df"
   ]
  },
  {
   "cell_type": "markdown",
   "metadata": {},
   "source": [
    "The estimates are far off the actual rewards in all cases except the one with more than 900 pulls. This highlights a lot of what we’ll be doing in reinforcement learning more generally. We don’t necessarily care about acquiring accurate representations of the environment we are interacting with. Instead, we intend to **learn optimal behavior** in those situations and seek to behave accordingly. This can open up a whole discussion about model-free versus model-based learning that we’ll have to postpone for another time.\n",
    "\n",
    "There are [other bandit methods](https://www.datahubbs.com/multi-armed-bandits-reinforcement-learning-2/) that we will explore such as the gradient bandits, upper confidence bound (UCB) methods, and nonstationary problems. Plus, many others like [dueling bandits](http://www.sciencedirect.com/science/article/pii/S0022000012000281?via%3Dihub), [cluster bandits](https://arxiv.org/abs/1401.8257), [collaborative filtering bandits](https://arxiv.org/abs/1502.03473), [spatially correlated bandits](http://www.biorxiv.org/content/biorxiv/early/2017/04/28/106286.full.pdf), [distributed bandtis](https://arxiv.org/abs/1604.07706), [adversarial bandits](http://mercurio.srv.dsi.unimi.it/~cesabian/Pubblicazioni/J18.pdf), and [contextual bandits](http://proceedings.mlr.press/v32/agarwalb14.pdf) which are open to exploration. Starting to wonder if we haven’t been hit with [intellectual sabotage…](https://mlwave.com/multi-armed-bandits-algorithms-made-easy/)\n"
   ]
  },
  {
   "cell_type": "code",
   "execution_count": null,
   "metadata": {},
   "outputs": [],
   "source": []
  },
  {
   "cell_type": "markdown",
   "metadata": {},
   "source": [
    "#### Preguntes\n",
    "\n",
    "**1.** Executa el ϵ-greedy `eps_bandit` amb els mateixos valors de eps (0, 0.01, 0.1) amb diferents valors de `episodes`. Desde 1 fins a 1000. Explica el comportament què hi veus\n",
    "\n",
    "**2.** Què passa amb el número de iteracions dins d'un episodi? Mostra què passa en aquest cas per valors petits (<100) i per valors més grans (>500)\n",
    "\n",
    "**3.** Com associes les diferents parts del `eps_bandit` amb un problema de Reinforcement Learning. Explica amb què relaciones la `POLICY`, `ENVIRONMENT`, `OBSERVATION`, `REWARD` i `ACTION`. \n",
    "\n",
    "**4.** Creus que la greedy action del `pull` esta ben implementada? És igual de just per tots els braços de la màquina? Heu observat alguna desviació en els random? Com ho faries més just?\n",
    "\n",
    "**5.** Què significa un valor de `eps` de 0? I si li posem un 1? Què passarà?\n",
    "\n",
    "**6.** Què ha cambiat de codi entre `eps_bandit` i `eps_decay_bandit`?\n",
    "\n",
    "**7.** Quin valor de $\\beta$ a han escollit al codi de `eps_decay_bandit`? Mostra la gràfica que ensenyi el valor de decay pels 1000 primers steps.\n",
    "\n",
    "**8.** Explica amb les teves paraules la gràfica de la comparativa entre `eps_bandit`, `eps_decay_bandit` i `optimistic`. Posa ènfasis en el comportament inicial dels 3 i en el comportament final després de 1.000 iteracions."
   ]
  },
  {
   "cell_type": "markdown",
   "metadata": {},
   "source": [
    "#### Respostes\n",
    "\n",
    "# 1."
   ]
  },
  {
   "cell_type": "code",
   "execution_count": null,
   "metadata": {},
   "outputs": [],
   "source": []
  },
  {
   "cell_type": "markdown",
   "metadata": {},
   "source": [
    "# 2."
   ]
  },
  {
   "cell_type": "code",
   "execution_count": null,
   "metadata": {},
   "outputs": [],
   "source": []
  },
  {
   "cell_type": "markdown",
   "metadata": {},
   "source": [
    "# 3."
   ]
  },
  {
   "cell_type": "code",
   "execution_count": null,
   "metadata": {},
   "outputs": [],
   "source": []
  },
  {
   "cell_type": "markdown",
   "metadata": {},
   "source": [
    "# 4."
   ]
  },
  {
   "cell_type": "code",
   "execution_count": null,
   "metadata": {},
   "outputs": [],
   "source": []
  },
  {
   "cell_type": "markdown",
   "metadata": {},
   "source": [
    "# 5."
   ]
  },
  {
   "cell_type": "code",
   "execution_count": null,
   "metadata": {},
   "outputs": [],
   "source": []
  },
  {
   "cell_type": "markdown",
   "metadata": {},
   "source": [
    "# 6."
   ]
  },
  {
   "cell_type": "code",
   "execution_count": null,
   "metadata": {},
   "outputs": [],
   "source": []
  },
  {
   "cell_type": "markdown",
   "metadata": {},
   "source": [
    "# 7."
   ]
  },
  {
   "cell_type": "code",
   "execution_count": null,
   "metadata": {},
   "outputs": [],
   "source": []
  },
  {
   "cell_type": "markdown",
   "metadata": {},
   "source": [
    "# 8."
   ]
  },
  {
   "cell_type": "code",
   "execution_count": null,
   "metadata": {},
   "outputs": [],
   "source": []
  },
  {
   "cell_type": "markdown",
   "metadata": {},
   "source": [
    "# OpenAI Gym"
   ]
  },
  {
   "cell_type": "markdown",
   "metadata": {},
   "source": [
    "[OpenAI Gym](https://gym.openai.com/) is a toolkit for developing and comparing reinforcement learning algorithms. It makes no assumptions about the structure of your agent, and is compatible with any numerical computation library, such as TensorFlow or Pytorch or even with NumPy.\n",
    "\n",
    "The gym library is a collection of test problems —[environments](https://gym.openai.com/envs/#classic_control)— that you can use to work out your reinforcement learning algorithms. These environments have a shared interface, allowing you to write general algorithms.\n",
    "\n",
    "Podeu instal·lar-ho desde pip:\n",
    "\n",
    " `pip install gym`\n",
    "\n",
    "You'll be able to run a few environments right away:\n",
    "\n",
    "* algorithmic\n",
    "* toy_text\n",
    "* classic_control (you'll need `pyglet` to render though)\n",
    "\n",
    "We recommend playing with those environments at first, and then later installing the dependencies for the remaining environments.\n",
    "\n",
    "\n",
    "\n",
    "\n",
    "\n"
   ]
  },
  {
   "cell_type": "markdown",
   "metadata": {},
   "source": [
    "## Environments\n",
    "\n",
    "Here’s a bare minimum example of getting something running. This will run an instance of the CartPole-v0 environment for 1000 timesteps, rendering the environment at each step. You should see a window pop up rendering the classic cart-pole problem:\n"
   ]
  },
  {
   "cell_type": "code",
   "execution_count": 23,
   "metadata": {},
   "outputs": [
    {
     "name": "stderr",
     "output_type": "stream",
     "text": [
      "100%|██████████| 200/200 [00:03<00:00, 59.62it/s]\n"
     ]
    }
   ],
   "source": [
    "import gym\n",
    "import tqdm\n",
    "\n",
    "env = gym.make('CartPole-v0')\n",
    "env.reset()\n",
    "for _ in tqdm.tqdm(range(200)):\n",
    "    env.render()\n",
    "    env.step(env.action_space.sample()) # take a random action\n",
    "env.close()"
   ]
  },
  {
   "cell_type": "markdown",
   "metadata": {},
   "source": [
    "Normally, we’ll end the simulation before the cart-pole is allowed to go off-screen. More on that later. For now, please ignore the warning about calling step() even though this environment has already returned `done` = True.\n",
    "\n"
   ]
  },
  {
   "cell_type": "markdown",
   "metadata": {},
   "source": [
    "## Observations\n",
    "If we ever want to do better than take random actions at each step, it’d probably be good to actually know what our actions are doing to the environment.\n",
    "\n",
    "The environment’s `step` function returns exactly what we need. In fact, `step` returns four values. These are:\n",
    "\n",
    "* `observation` (object): an environment-specific object representing your observation of the environment. For example, pixel data from a camera, joint angles and joint velocities of a robot, or the board state in a board game.\n",
    "* `reward` (float): amount of reward achieved by the previous action. The scale varies between environments, but the goal is always to increase your total reward.\n",
    "* `done` (boolean): whether it’s time to `reset` the environment again. Most (but not all) tasks are divided up into well-defined episodes, and done being True indicates the episode has terminated. (For example, perhaps the pole tipped too far, or you lost your last life.)\n",
    "* `info` (dict): diagnostic information useful for debugging. It can sometimes be useful for learning (for example, it might contain the raw probabilities behind the environment’s last state change). However, official evaluations of your agent are not allowed to use this for learning.\n",
    "\n",
    "This is just an implementation of the classic “agent-environment loop”. Each timestep, the agent chooses an `action`, and the environment returns an `observation` and a `reward`.\n",
    "\n",
    "<img src=\"https://www.mathworks.com/help/reinforcement-learning/ug/agent_diagram.png\" width=\"50%\">\n",
    "\n",
    "\n",
    "\n",
    "The process gets started by calling `reset()`, which returns an initial `observation`. So a more proper way of writing the previous code would be to respect the `done` flag:\n"
   ]
  },
  {
   "cell_type": "code",
   "execution_count": 28,
   "metadata": {},
   "outputs": [
    {
     "name": "stdout",
     "output_type": "stream",
     "text": [
      "[ 0.03775244  0.00495996 -0.01355863  0.00662898]\n",
      "[ 0.03785164  0.20027371 -0.01342605 -0.29030084]\n",
      "[ 0.04185711  0.39558451 -0.01923207 -0.58718777]\n",
      "[ 0.0497688   0.20073711 -0.03097582 -0.3006246 ]\n",
      "[ 0.05378354  0.00607004 -0.03698832 -0.01786952]\n",
      "[ 0.05390495 -0.18850247 -0.03734571  0.26291754]\n",
      "[ 0.0501349  -0.383072   -0.03208736  0.54359124]\n",
      "[ 0.04247346 -0.57772867 -0.02121553  0.82599389]\n",
      "[ 0.03091888 -0.38232311 -0.00469565  0.5267146 ]\n",
      "[ 0.02327242 -0.1871354   0.00583864  0.23255575]\n",
      "[ 0.01952971 -0.38234029  0.01048975  0.52707465]\n",
      "[ 0.01188291 -0.57760825  0.02103125  0.82304441]\n",
      "[ 3.30741663e-04 -3.82780238e-01  3.74921346e-02  5.37049746e-01]\n",
      "[-0.00732486 -0.18820493  0.04823313  0.256412  ]\n",
      "[-0.01108896  0.00619639  0.05336137 -0.0206758 ]\n",
      "[-0.01096503  0.20051408  0.05294785 -0.29605667]\n",
      "[-0.00695475  0.3948428   0.04702672 -0.57158185]\n",
      "[ 0.0009421   0.58927486  0.03559508 -0.84908675]\n",
      "[ 0.0127276   0.78389375  0.01861335 -1.13036742]\n",
      "[ 0.02840548  0.58853307 -0.003994   -0.83190516]\n",
      "[ 0.04017614  0.39346593 -0.0206321  -0.54048101]\n",
      "[ 0.04804546  0.19863998 -0.03144172 -0.25436969]\n",
      "[ 0.05201826  0.00398074 -0.03652912  0.02823251]\n",
      "[ 0.05209787 -0.19059883 -0.03596447  0.30916999]\n",
      "[ 0.04828589 -0.38519039 -0.02978107  0.5902973 ]\n",
      "[ 0.04058209 -0.57988298 -0.01797512  0.87345235]\n",
      "[ 2.89844266e-02 -7.74755969e-01 -5.06074695e-04  1.16043021e+00]\n",
      "[ 0.01348931 -0.96987132  0.02270253  1.45295442]\n",
      "[-0.00590812 -1.16526463  0.05176162  1.75264282]\n",
      "[-0.02921341 -0.97076673  0.08681447  1.47649784]\n",
      "[-0.04862875 -1.16683522  0.11634443  1.79498439]\n",
      "[-0.07196545 -0.97319284  0.15224412  1.54061261]\n",
      "[-0.09142931 -0.78019433  0.18305637  1.29905046]\n",
      "[-0.10703319 -0.97710618  0.20903738  1.64300171]\n",
      "Episode finished after 34 timesteps\n",
      "[-0.04480531 -0.00618893 -0.03360234  0.00246985]\n",
      "[-0.04492909  0.18939841 -0.03355294 -0.30062278]\n",
      "[-0.04114112 -0.00522964 -0.0395654  -0.01870774]\n",
      "[-0.04124571 -0.1997625  -0.03993955  0.26123399]\n",
      "[-0.04524096 -0.39429223 -0.03471487  0.54105678]\n",
      "[-0.0531268  -0.58890948 -0.02389374  0.82260265]\n",
      "[-0.06490499 -0.39346892 -0.00744168  0.5225014 ]\n",
      "[-0.07277437 -0.58848534  0.00300834  0.8128301 ]\n",
      "[-0.08454408 -0.78364837  0.01926495  1.10645777]\n",
      "[-0.10021705 -0.58878492  0.0413941   0.81988038]\n",
      "[-0.11199275 -0.39425318  0.05779171  0.54049912]\n",
      "[-0.11987781 -0.19998916  0.06860169  0.26657087]\n",
      "[-0.12387759 -0.00590995  0.07393311 -0.0037101 ]\n",
      "[-0.12399579 -0.20201006  0.07385891  0.31135304]\n",
      "[-0.12803599 -0.00801382  0.08008597  0.04284681]\n",
      "[-0.12819627  0.18587383  0.0809429  -0.22353239]\n",
      "[-0.12447879 -0.01030611  0.07647226  0.0935453 ]\n",
      "[-0.12468491  0.18364121  0.07834316 -0.17406451]\n",
      "[-0.12101209 -0.01250948  0.07486187  0.1422684 ]\n",
      "[-0.12126228  0.18146493  0.07770724 -0.12588944]\n",
      "[-0.11763298  0.37539261  0.07518945 -0.39308021]\n",
      "[-0.11012513  0.17928869  0.06732785 -0.07767055]\n",
      "[-0.10653936  0.37338409  0.06577444 -0.34837458]\n",
      "[-0.09907167  0.17739129  0.05880694 -0.03569735]\n",
      "[-0.09552385  0.37162279  0.058093   -0.30926169]\n",
      "[-0.08809139  0.56587098  0.05190776 -0.58307272]\n",
      "[-0.07677397  0.76022876  0.04024631 -0.85896268]\n",
      "[-0.0615694   0.56458237  0.02306706 -0.55390153]\n",
      "[-0.05027775  0.75937295  0.01198903 -0.83922855]\n",
      "[-0.03509029  0.95432916 -0.00479555 -1.12811717]\n",
      "[-0.01600371  0.75927036 -0.02735789 -0.83694221]\n",
      "[-8.18300612e-04  9.54755072e-01 -4.40967332e-02 -1.13810177e+00]\n",
      "[ 0.0182768   1.15042509 -0.06685877 -1.44428171]\n",
      "[ 0.0412853   0.95618661 -0.0957444  -1.17321679]\n",
      "[ 0.06040903  0.76243059 -0.11920874 -0.91201972]\n",
      "[ 0.07565765  0.95894614 -0.13744913 -1.23966547]\n",
      "[ 0.09483657  0.76583052 -0.16224244 -0.99300697]\n",
      "[ 0.11015318  0.57320711 -0.18210258 -0.75535657]\n",
      "[ 0.12161732  0.38099986 -0.19720971 -0.52505564]\n",
      "[ 0.12923732  0.57827049 -0.20771083 -0.87283063]\n",
      "Episode finished after 40 timesteps\n",
      "[0.00015999 0.00654086 0.04502134 0.03644042]\n",
      "[ 2.90810333e-04 -1.89196819e-01  4.57501477e-02  3.42981242e-01]\n",
      "[-0.00349313  0.00524541  0.05260977  0.06506893]\n",
      "[-0.00338822 -0.19058981  0.05391115  0.37387547]\n",
      "[-0.00720001  0.00372654  0.06138866  0.09866662]\n",
      "[-0.00712548  0.1979174   0.06336199 -0.17403405]\n",
      "[-0.00316713  0.00194854  0.05988131  0.13794533]\n",
      "[-0.00312816  0.19616397  0.06264022 -0.13526107]\n",
      "[0.00079512 0.00020332 0.059935   0.17650759]\n",
      "[ 0.00079918  0.19441861  0.06346515 -0.09668191]\n",
      "[ 0.00468755  0.38857625  0.06153151 -0.36868581]\n",
      "[ 0.01245908  0.5827724   0.05415779 -0.64134992]\n",
      "[ 0.02411453  0.77709923  0.0413308  -0.91649818]\n",
      "[ 0.03965651  0.97163867  0.02300083 -1.19591034]\n",
      "[ 0.05908928  0.77622662 -0.00091737 -0.89610815]\n",
      "[ 0.07461382  0.58111712 -0.01883954 -0.60371373]\n",
      "[ 0.08623616  0.77649742 -0.03091381 -0.90227067]\n",
      "[ 0.10176611  0.97202422 -0.04895923 -1.20450795]\n",
      "[ 0.12120659  0.7775681  -0.07304938 -0.92756155]\n",
      "[ 0.13675795  0.9735963  -0.09160062 -1.24227708]\n",
      "[ 0.15622988  0.77976165 -0.11644616 -0.97963699]\n",
      "[ 0.17182511  0.97623571 -0.1360389  -1.3065101 ]\n",
      "[ 0.19134983  1.1727943  -0.1621691  -1.63849615]\n",
      "[ 0.21480571  0.97990257 -0.19493902 -1.40042386]\n",
      "Episode finished after 24 timesteps\n",
      "[-0.03916211  0.03313578 -0.04766179 -0.04176137]\n",
      "[-0.03849939 -0.16127145 -0.04849702  0.23551107]\n",
      "[-0.04172482  0.03450864 -0.0437868  -0.07206632]\n",
      "[-0.04103465 -0.15995911 -0.04522812  0.2064865 ]\n",
      "[-0.04423383 -0.3544061  -0.04109839  0.48456619]\n",
      "[-0.05132195 -0.15872899 -0.03140707  0.17921884]\n",
      "[-0.05449653 -0.35338775 -0.02782269  0.46183082]\n",
      "[-0.06156429 -0.15788385 -0.01858608  0.16050965]\n",
      "[-0.06472196 -0.35273485 -0.01537588  0.44727168]\n",
      "[-0.07177666 -0.54763595 -0.00643045  0.73506845]\n",
      "[-0.08272938 -0.74266848  0.00827092  1.02572066]\n",
      "[-0.09758275 -0.54765763  0.02878533  0.735646  ]\n",
      "[-0.1085359  -0.74316513  0.04349825  1.03724749]\n",
      "[-0.1233992  -0.54864749  0.0642432   0.75853147]\n",
      "[-0.13437215 -0.35446687  0.07941383  0.48673591]\n",
      "[-0.14146149 -0.16055001  0.08914855  0.22010048]\n",
      "[-0.14467249  0.03319203  0.09355056 -0.04318355]\n",
      "[-0.14400865  0.22685665  0.09268689 -0.30494648]\n",
      "[-0.13947152  0.03054448  0.08658796  0.01546876]\n",
      "[-0.13886063  0.22432481  0.08689733 -0.24868771]\n",
      "[-0.13437413  0.41810523  0.08192358 -0.5127459 ]\n",
      "[-0.12601203  0.61198352  0.07166866 -0.77852937]\n",
      "[-0.11377236  0.80605068  0.05609807 -1.04783028]\n",
      "[-0.09765134  0.61023099  0.03514147 -0.73807862]\n",
      "[-0.08544672  0.41464182  0.0203799  -0.43454653]\n",
      "[-0.07715389  0.6094694   0.01168897 -0.72073595]\n",
      "[-0.0649645   0.80442771 -0.00272575 -1.00971695]\n",
      "[-0.04887595  0.60934224 -0.02292009 -0.71789121]\n",
      "[-0.0366891   0.80477375 -0.03727792 -1.01769939]\n",
      "[-0.02059363  0.61016805 -0.0576319  -0.7369508 ]\n",
      "[-0.00839026  0.41588744 -0.07237092 -0.46294812]\n",
      "[-7.25161394e-05  6.11953546e-01 -8.16298828e-02 -7.77535926e-01]\n",
      "[ 0.01216655  0.41804333 -0.0971806  -0.51161169]\n",
      "[ 0.02052742  0.22441494 -0.10741284 -0.25106565]\n",
      "[ 0.02501572  0.4208937  -0.11243415 -0.57560396]\n",
      "[ 0.03343359  0.22751252 -0.12394623 -0.32034976]\n",
      "[ 0.03798384  0.03435363 -0.13035322 -0.06918111]\n",
      "[ 0.03867092 -0.15868193 -0.13173684  0.17970026]\n",
      "[ 0.03549728  0.03805502 -0.12814284 -0.15146684]\n",
      "[ 0.03625838  0.23475677 -0.13117218 -0.48167128]\n",
      "[ 0.04095351  0.04170656 -0.1408056  -0.23303776]\n",
      "[ 0.04178765  0.2385302  -0.14546636 -0.56661155]\n",
      "[ 0.04655825  0.04571618 -0.15679859 -0.32306159]\n",
      "[ 0.04747257 -0.14686601 -0.16325982 -0.08364225]\n",
      "[ 0.04453525  0.05017396 -0.16493266 -0.42305749]\n",
      "[ 0.04553873 -0.14227435 -0.17339381 -0.18657313]\n",
      "[ 0.04269325  0.05484959 -0.17712528 -0.52854793]\n",
      "[ 0.04379024  0.25196317 -0.18769624 -0.8713953 ]\n",
      "[ 0.0488295   0.05982156 -0.20512414 -0.64310409]\n",
      "Episode finished after 49 timesteps\n",
      "[ 0.0283184  -0.01287922 -0.03260567  0.01469334]\n",
      "[ 0.02806081 -0.20751876 -0.0323118   0.2969131 ]\n",
      "[ 0.02391044 -0.01195145 -0.02637354 -0.00578276]\n",
      "[ 0.02367141 -0.20668543 -0.0264892   0.27846371]\n",
      "[ 0.0195377  -0.40141967 -0.02091992  0.56267568]\n",
      "[ 0.01150931 -0.59624191 -0.00966641  0.84869509]\n",
      "[-4.15532298e-04 -4.00989468e-01  7.30749287e-03  5.52988225e-01]\n",
      "[-0.00843532 -0.20597089  0.01836726  0.26261656]\n",
      "[-0.01255474 -0.40135014  0.02361959  0.56103567]\n",
      "[-0.02058174 -0.2065675   0.0348403   0.27588672]\n",
      "[-0.02471309 -0.0119595   0.04035804 -0.00560716]\n",
      "[-0.02495228  0.18256112  0.04024589 -0.28528846]\n",
      "[-0.02130106  0.37708666  0.03454012 -0.56501139]\n",
      "[-0.01375933  0.57170742  0.0232399  -0.84661564]\n",
      "[-0.00232518  0.37627627  0.00630758 -0.54671615]\n",
      "[ 0.00520035  0.57130903 -0.00462674 -0.83740506]\n",
      "[ 0.01662653  0.37625058 -0.02137484 -0.54618076]\n",
      "[ 0.02415154  0.57166623 -0.03229846 -0.84552101]\n",
      "[ 0.03558486  0.76721362 -0.04920888 -1.14818321]\n",
      "[ 0.05092914  0.57276742 -0.07217254 -0.87132854]\n",
      "[ 0.06238448  0.37869736 -0.08959911 -0.60218161]\n",
      "[ 0.06995843  0.18493539 -0.10164274 -0.33901141]\n"
     ]
    },
    {
     "name": "stdout",
     "output_type": "stream",
     "text": [
      "[ 0.07365714 -0.00860445 -0.10842297 -0.08003153]\n",
      "[ 0.07348505 -0.20201858 -0.1100236   0.17657212]\n",
      "[ 0.06944468 -0.39540807 -0.10649216  0.43262065]\n",
      "[ 0.06153652 -0.58887376 -0.09783975  0.68992568]\n",
      "[ 0.04975904 -0.39254003 -0.08404123  0.36811451]\n",
      "[ 0.04190824 -0.19633073 -0.07667894  0.05016026]\n",
      "[ 3.79816273e-02 -1.97798536e-04 -7.56757378e-02 -2.65696183e-01]\n",
      "[ 0.03797767 -0.19416267 -0.08098966  0.00219099]\n",
      "[ 0.03409442  0.00202176 -0.08094584 -0.31490601]\n",
      "[ 0.03413485 -0.19185944 -0.08724396 -0.04880854]\n",
      "[ 0.03029766  0.00439815 -0.08822013 -0.36769247]\n",
      "[ 0.03038563  0.20065565 -0.09557398 -0.68683699]\n",
      "[ 0.03439874  0.39696522 -0.10931072 -1.00801347]\n",
      "[ 0.04233804  0.20345885 -0.12947099 -0.75155972]\n",
      "[ 0.04640722  0.01033742 -0.14450219 -0.50226034]\n",
      "[ 0.04661397 -0.18248376 -0.15454739 -0.25837896]\n",
      "[ 0.04296429  0.014468   -0.15971497 -0.59554176]\n",
      "[ 0.04325365 -0.17810081 -0.17162581 -0.35712171]\n",
      "[ 0.03969164  0.01899257 -0.17876824 -0.698629  ]\n",
      "[ 0.04007149  0.21608339 -0.19274082 -1.04183218]\n",
      "Episode finished after 42 timesteps\n"
     ]
    }
   ],
   "source": [
    "import gym\n",
    "env = gym.make('CartPole-v0')\n",
    "for i_episode in range(5):\n",
    "    observation = env.reset()\n",
    "    for t in range(100):\n",
    "        env.render()\n",
    "        print(observation)\n",
    "        action = env.action_space.sample()\n",
    "        observation, reward, done, info = env.step(action)\n",
    "        if done:\n",
    "            print(\"Episode finished after {} timesteps\".format(t+1))\n",
    "            break\n",
    "env.close()"
   ]
  },
  {
   "cell_type": "markdown",
   "metadata": {},
   "source": [
    "## Spaces\n",
    "\n",
    "In the examples above, we’ve been sampling random actions from the environment’s action space. But what actually are those actions? Every environment comes with an `action_space` and an `observation_space`. These attributes are of type `Space`, and they describe the format of valid actions and observations:"
   ]
  },
  {
   "cell_type": "code",
   "execution_count": 29,
   "metadata": {},
   "outputs": [
    {
     "name": "stdout",
     "output_type": "stream",
     "text": [
      "Discrete(2)\n",
      "Box(-3.4028234663852886e+38, 3.4028234663852886e+38, (4,), float32)\n"
     ]
    }
   ],
   "source": [
    "import gym\n",
    "env = gym.make('CartPole-v0')\n",
    "print(env.action_space)\n",
    "#> Discrete(2)\n",
    "print(env.observation_space)\n",
    "#> Box(4,)"
   ]
  },
  {
   "cell_type": "markdown",
   "metadata": {},
   "source": [
    "The `Discrete` space allows a fixed range of non-negative numbers, so in this case valid `actions` are either 0 or 1. The `Box` space represents an n-dimensional box, so valid `observations` will be an array of 4 numbers. We can also check the `Box`’s bounds:"
   ]
  },
  {
   "cell_type": "code",
   "execution_count": 30,
   "metadata": {},
   "outputs": [
    {
     "name": "stdout",
     "output_type": "stream",
     "text": [
      "[4.8, 3.4028235e+38, 0.41887903, 3.4028235e+38]\n",
      "[-4.8, -3.4028235e+38, -0.41887903, -3.4028235e+38]\n"
     ]
    }
   ],
   "source": [
    "print(list(env.observation_space.high))\n",
    "print(list(env.observation_space.low))"
   ]
  },
  {
   "cell_type": "markdown",
   "metadata": {},
   "source": [
    "This introspection can be helpful to write generic code that works for many different environments. `Box` and `Discrete` are the most common `Spaces`. You can sample from a Space or check that something belongs to it:\n",
    "\n"
   ]
  },
  {
   "cell_type": "code",
   "execution_count": 31,
   "metadata": {},
   "outputs": [],
   "source": [
    "from gym import spaces\n",
    "space = spaces.Discrete(8) # Set with 8 elements {0, 1, 2, ..., 7}\n",
    "x = space.sample()\n",
    "assert space.contains(x)\n",
    "assert space.n == 8\n"
   ]
  },
  {
   "cell_type": "markdown",
   "metadata": {},
   "source": [
    "For `CartPole-v0` one of the actions applies force to the left, and one of them applies force to the right. (Can you figure out which is which?)\n",
    "\n",
    "Fortunately, the better your learning algorithm, the less you’ll have to try to interpret these numbers yourself.\n",
    "\n"
   ]
  },
  {
   "cell_type": "markdown",
   "metadata": {},
   "source": [
    "<img src=\"http://bytepawn.com/images/classic_control.png\">\n",
    "\n",
    "<table>\n",
    "    <tbody>\n",
    "    <tr>\n",
    "        <th><b>env</b></th>\n",
    "        <th><b>CartPole-v1</b></th>\n",
    "        <th><b>Acrobot-v1</b></th>\n",
    "        <th><b>Pendulum-v0</b></th>\n",
    "        <th><b>MountainCar-v0</b></th>\n",
    "        <th><b>MountainCarContinuous-v0</b></th>\n",
    "    </tr>\n",
    "    <tr>\n",
    "        <td><b>description</b></td>\n",
    "        <td>balance a pole on a cart</td>\n",
    "        <td>swing up a two-link robot</td>\n",
    "        <td>swing up a pendulum</td>\n",
    "        <td>drive up a big hill</td>\n",
    "        <td>drive up a big hill</td>\n",
    "    </tr>\n",
    "    <tr>\n",
    "        <td><b>code</b></td>\n",
    "        <td><a href=\"https://github.com/openai/gym/blob/master/gym/envs/classic_control/cartpole.py\">cartpole.py</a></td>\n",
    "        <td><a nref=\"https://github.com/openai/gym/blob/master/gym/envs/classic_control/acrobot.py\">acrobot.py</a></td>\n",
    "        <td><a href=\"https://github.com/openai/gym/blob/master/gym/envs/classic_control/pendulum.py\">pendulum.py</a></td>\n",
    "        <td><a href=\"https://github.com/openai/gym/blob/master/gym/envs/classic_control/mountain_car.py\">mountain_car.py</a></td>\n",
    "        <td><a href=\"https://github.com/openai/gym/blob/master/gym/envs/classic_control/continuous_mountain_car.py\">continuous_mountain_car.py</a></td>\n",
    "    </tr>\n",
    "    <tr>\n",
    "        <td><b>state</b></td>\n",
    "        <td>4 reals: cart position, velocity, pole angle, pole velocity</td>\n",
    "        <td>6 reals: sine and cosine of the two rotational joint angles and the joint angular velocities</td>\n",
    "        <td>3 reals: sine and cosine of the angle and angular velocity</td>\n",
    "        <td>2 reals: position, velocity</td>\n",
    "        <td>2 reals: position, velocity</td>\n",
    "    </tr>\n",
    "    <tr>\n",
    "        <td><b>action</b></td>\n",
    "        <td>discrete: left/right</td>\n",
    "        <td>discrete: left/nothing/right, the torque on the second joint</td>\n",
    "        <td>1 real between -2 and 2, the torque</td>\n",
    "        <td>discrete: left/nothing/right, the force on the car</td>\n",
    "        <td>1 real between -1 and 1, the force on the car</td>\n",
    "    </tr>\n",
    "    <tr>\n",
    "        <td><b>episode length</b></td>\n",
    "        <td>500</td>\n",
    "        <td>500</td>\n",
    "        <td>200</td>\n",
    "        <td>200</td>\n",
    "        <td>999</td>\n",
    "    </tr>\n",
    "    <tr>\n",
    "        <td><b>reward</b></td>\n",
    "        <td>+1 for each timestep the agent stays alive</td>\n",
    "        <td>-1 for each timestep the agent takes to swing up</td>\n",
    "        <td>negative reward as a function of the angle</td>\n",
    "        <td>-1 for each timestep the agent doesn’t reach the top of the hill</td>\n",
    "        <td>negative for applied action, +100 once solved</td>\n",
    "    </tr>\n",
    "    <tr>\n",
    "        <td><b>reward threshold for solved</b></td>\n",
    "        <td>475</td>\n",
    "        <td>-100</td>\n",
    "        <td>None (I used -150)</td>\n",
    "        <td>-110</td>\n",
    "        <td>90</td>\n",
    "    </tr>\n",
    "</tbody></table>"
   ]
  },
  {
   "cell_type": "markdown",
   "metadata": {},
   "source": [
    "**CartPole-v1 is considered \"solved\" when the agent obtains an average reward of at least 475.0 over 100 consecutive episodes**"
   ]
  },
  {
   "cell_type": "markdown",
   "metadata": {},
   "source": [
    "## MonteCarlo Implementation for CartPole"
   ]
  },
  {
   "cell_type": "code",
   "execution_count": 6,
   "metadata": {},
   "outputs": [
    {
     "name": "stderr",
     "output_type": "stream",
     "text": [
      "  0%|          | 3/2000 [00:08<3:16:09,  5.89s/it, last_100_avg_pole_upright=-500, len(history)=278]"
     ]
    },
    {
     "name": "stdout",
     "output_type": "stream",
     "text": [
      "{'Episode 0. Iteration with pole upright: -500.0. History length: 107'}\n"
     ]
    },
    {
     "name": "stderr",
     "output_type": "stream",
     "text": [
      " 20%|██        | 403/2000 [00:51<25:11,  1.06it/s, last_100_avg_pole_upright=-440, len(history)=1502]"
     ]
    },
    {
     "name": "stdout",
     "output_type": "stream",
     "text": [
      "{'Episode 400. Iteration with pole upright: -500.0. History length: 1501'}\n"
     ]
    },
    {
     "name": "stderr",
     "output_type": "stream",
     "text": [
      " 40%|████      | 803/2000 [01:26<16:47,  1.19it/s, last_100_avg_pole_upright=-395, len(history)=1768]"
     ]
    },
    {
     "name": "stdout",
     "output_type": "stream",
     "text": [
      "{'Episode 800. Iteration with pole upright: -451.0. History length: 1768'}\n"
     ]
    },
    {
     "name": "stderr",
     "output_type": "stream",
     "text": [
      " 60%|██████    | 1200/2000 [01:57<01:18, 10.24it/s, last_100_avg_pole_upright=-382, len(history)=1905]\n"
     ]
    },
    {
     "ename": "KeyboardInterrupt",
     "evalue": "",
     "output_type": "error",
     "traceback": [
      "\u001b[0;31m---------------------------------------------------------------------------\u001b[0m",
      "\u001b[0;31mKeyboardInterrupt\u001b[0m                         Traceback (most recent call last)",
      "\u001b[0;32m<ipython-input-6-9595fc2264b0>\u001b[0m in \u001b[0;36m<module>\u001b[0;34m\u001b[0m\n\u001b[1;32m    110\u001b[0m \u001b[0mhistory\u001b[0m \u001b[0;34m=\u001b[0m \u001b[0;34m{\u001b[0m\u001b[0;34m}\u001b[0m  \u001b[0;31m# 'state' ==> [{'count': int, 'value': float}]\u001b[0m\u001b[0;34m\u001b[0m\u001b[0;34m\u001b[0m\u001b[0m\n\u001b[1;32m    111\u001b[0m \u001b[0;34m\u001b[0m\u001b[0m\n\u001b[0;32m--> 112\u001b[0;31m \u001b[0mlearn\u001b[0m\u001b[0;34m(\u001b[0m\u001b[0mnbEpisodes\u001b[0m\u001b[0;34m,\u001b[0m \u001b[0mnVerboseEpisodes\u001b[0m\u001b[0;34m)\u001b[0m\u001b[0;34m\u001b[0m\u001b[0;34m\u001b[0m\u001b[0m\n\u001b[0m\u001b[1;32m    113\u001b[0m \u001b[0;34m\u001b[0m\u001b[0m\n\u001b[1;32m    114\u001b[0m \u001b[0menv\u001b[0m\u001b[0;34m.\u001b[0m\u001b[0mclose\u001b[0m\u001b[0;34m(\u001b[0m\u001b[0;34m)\u001b[0m\u001b[0;34m\u001b[0m\u001b[0;34m\u001b[0m\u001b[0m\n",
      "\u001b[0;32m<ipython-input-6-9595fc2264b0>\u001b[0m in \u001b[0;36mlearn\u001b[0;34m(episodeCount, episodeVerbose)\u001b[0m\n\u001b[1;32m     17\u001b[0m \u001b[0;34m\u001b[0m\u001b[0m\n\u001b[1;32m     18\u001b[0m         \u001b[0miter_verbose\u001b[0m \u001b[0;34m=\u001b[0m \u001b[0mi_episode\u001b[0m \u001b[0;34m%\u001b[0m \u001b[0mepisodeVerbose\u001b[0m \u001b[0;34m==\u001b[0m \u001b[0;36m0\u001b[0m \u001b[0;32mif\u001b[0m \u001b[0mepisodeVerbose\u001b[0m \u001b[0;34m>\u001b[0m \u001b[0;34m-\u001b[0m\u001b[0;36m1\u001b[0m \u001b[0;32melse\u001b[0m \u001b[0;36m0\u001b[0m\u001b[0;34m\u001b[0m\u001b[0;34m\u001b[0m\u001b[0m\n\u001b[0;32m---> 19\u001b[0;31m         \u001b[0mdoEpisodeMC\u001b[0m\u001b[0;34m(\u001b[0m\u001b[0mobs\u001b[0m\u001b[0;34m,\u001b[0m \u001b[0mdecay\u001b[0m\u001b[0;34m,\u001b[0m \u001b[0mi_episode\u001b[0m\u001b[0;34m,\u001b[0m \u001b[0mverbose\u001b[0m\u001b[0;34m=\u001b[0m\u001b[0miter_verbose\u001b[0m\u001b[0;34m)\u001b[0m\u001b[0;34m\u001b[0m\u001b[0;34m\u001b[0m\u001b[0m\n\u001b[0m\u001b[1;32m     20\u001b[0m         \u001b[0mi\u001b[0m \u001b[0;34m=\u001b[0m \u001b[0mmax\u001b[0m\u001b[0;34m(\u001b[0m\u001b[0mi_episode\u001b[0m\u001b[0;34m-\u001b[0m\u001b[0;36m100\u001b[0m\u001b[0;34m,\u001b[0m \u001b[0;36m0\u001b[0m\u001b[0;34m)\u001b[0m\u001b[0;34m\u001b[0m\u001b[0;34m\u001b[0m\u001b[0m\n\u001b[1;32m     21\u001b[0m         tqdm_episodes.set_postfix({\"last_100_avg_pole_upright\": np.mean(rewardHistory[i:i_episode+1]),\n",
      "\u001b[0;32m<ipython-input-6-9595fc2264b0>\u001b[0m in \u001b[0;36mdoEpisodeMC\u001b[0;34m(obs, decay, i_episode, verbose)\u001b[0m\n\u001b[1;32m     31\u001b[0m \u001b[0;34m\u001b[0m\u001b[0m\n\u001b[1;32m     32\u001b[0m         \u001b[0;32mif\u001b[0m \u001b[0mverbose\u001b[0m\u001b[0;34m:\u001b[0m\u001b[0;34m\u001b[0m\u001b[0;34m\u001b[0m\u001b[0m\n\u001b[0;32m---> 33\u001b[0;31m             \u001b[0menv\u001b[0m\u001b[0;34m.\u001b[0m\u001b[0mrender\u001b[0m\u001b[0;34m(\u001b[0m\u001b[0;34m)\u001b[0m\u001b[0;34m\u001b[0m\u001b[0;34m\u001b[0m\u001b[0m\n\u001b[0m\u001b[1;32m     34\u001b[0m \u001b[0;34m\u001b[0m\u001b[0m\n\u001b[1;32m     35\u001b[0m         \u001b[0mstate\u001b[0m \u001b[0;34m=\u001b[0m \u001b[0mgetState\u001b[0m\u001b[0;34m(\u001b[0m\u001b[0mobs\u001b[0m\u001b[0;34m)\u001b[0m  \u001b[0;31m# Get the state\u001b[0m\u001b[0;34m\u001b[0m\u001b[0;34m\u001b[0m\u001b[0m\n",
      "\u001b[0;32m/usr/local/lib/python3.8/site-packages/gym/core.py\u001b[0m in \u001b[0;36mrender\u001b[0;34m(self, mode, **kwargs)\u001b[0m\n\u001b[1;32m    238\u001b[0m \u001b[0;34m\u001b[0m\u001b[0m\n\u001b[1;32m    239\u001b[0m     \u001b[0;32mdef\u001b[0m \u001b[0mrender\u001b[0m\u001b[0;34m(\u001b[0m\u001b[0mself\u001b[0m\u001b[0;34m,\u001b[0m \u001b[0mmode\u001b[0m\u001b[0;34m=\u001b[0m\u001b[0;34m'human'\u001b[0m\u001b[0;34m,\u001b[0m \u001b[0;34m**\u001b[0m\u001b[0mkwargs\u001b[0m\u001b[0;34m)\u001b[0m\u001b[0;34m:\u001b[0m\u001b[0;34m\u001b[0m\u001b[0;34m\u001b[0m\u001b[0m\n\u001b[0;32m--> 240\u001b[0;31m         \u001b[0;32mreturn\u001b[0m \u001b[0mself\u001b[0m\u001b[0;34m.\u001b[0m\u001b[0menv\u001b[0m\u001b[0;34m.\u001b[0m\u001b[0mrender\u001b[0m\u001b[0;34m(\u001b[0m\u001b[0mmode\u001b[0m\u001b[0;34m,\u001b[0m \u001b[0;34m**\u001b[0m\u001b[0mkwargs\u001b[0m\u001b[0;34m)\u001b[0m\u001b[0;34m\u001b[0m\u001b[0;34m\u001b[0m\u001b[0m\n\u001b[0m\u001b[1;32m    241\u001b[0m \u001b[0;34m\u001b[0m\u001b[0m\n\u001b[1;32m    242\u001b[0m     \u001b[0;32mdef\u001b[0m \u001b[0mclose\u001b[0m\u001b[0;34m(\u001b[0m\u001b[0mself\u001b[0m\u001b[0;34m)\u001b[0m\u001b[0;34m:\u001b[0m\u001b[0;34m\u001b[0m\u001b[0;34m\u001b[0m\u001b[0m\n",
      "\u001b[0;32m/usr/local/lib/python3.8/site-packages/gym/envs/classic_control/acrobot.py\u001b[0m in \u001b[0;36mrender\u001b[0;34m(self, mode)\u001b[0m\n\u001b[1;32m    207\u001b[0m             \u001b[0mcirc\u001b[0m\u001b[0;34m.\u001b[0m\u001b[0madd_attr\u001b[0m\u001b[0;34m(\u001b[0m\u001b[0mjtransform\u001b[0m\u001b[0;34m)\u001b[0m\u001b[0;34m\u001b[0m\u001b[0;34m\u001b[0m\u001b[0m\n\u001b[1;32m    208\u001b[0m \u001b[0;34m\u001b[0m\u001b[0m\n\u001b[0;32m--> 209\u001b[0;31m         \u001b[0;32mreturn\u001b[0m \u001b[0mself\u001b[0m\u001b[0;34m.\u001b[0m\u001b[0mviewer\u001b[0m\u001b[0;34m.\u001b[0m\u001b[0mrender\u001b[0m\u001b[0;34m(\u001b[0m\u001b[0mreturn_rgb_array\u001b[0m \u001b[0;34m=\u001b[0m \u001b[0mmode\u001b[0m\u001b[0;34m==\u001b[0m\u001b[0;34m'rgb_array'\u001b[0m\u001b[0;34m)\u001b[0m\u001b[0;34m\u001b[0m\u001b[0;34m\u001b[0m\u001b[0m\n\u001b[0m\u001b[1;32m    210\u001b[0m \u001b[0;34m\u001b[0m\u001b[0m\n\u001b[1;32m    211\u001b[0m     \u001b[0;32mdef\u001b[0m \u001b[0mclose\u001b[0m\u001b[0;34m(\u001b[0m\u001b[0mself\u001b[0m\u001b[0;34m)\u001b[0m\u001b[0;34m:\u001b[0m\u001b[0;34m\u001b[0m\u001b[0;34m\u001b[0m\u001b[0m\n",
      "\u001b[0;32m/usr/local/lib/python3.8/site-packages/gym/envs/classic_control/rendering.py\u001b[0m in \u001b[0;36mrender\u001b[0;34m(self, return_rgb_array)\u001b[0m\n\u001b[1;32m    125\u001b[0m             \u001b[0marr\u001b[0m \u001b[0;34m=\u001b[0m \u001b[0marr\u001b[0m\u001b[0;34m.\u001b[0m\u001b[0mreshape\u001b[0m\u001b[0;34m(\u001b[0m\u001b[0mbuffer\u001b[0m\u001b[0;34m.\u001b[0m\u001b[0mheight\u001b[0m\u001b[0;34m,\u001b[0m \u001b[0mbuffer\u001b[0m\u001b[0;34m.\u001b[0m\u001b[0mwidth\u001b[0m\u001b[0;34m,\u001b[0m \u001b[0;36m4\u001b[0m\u001b[0;34m)\u001b[0m\u001b[0;34m\u001b[0m\u001b[0;34m\u001b[0m\u001b[0m\n\u001b[1;32m    126\u001b[0m             \u001b[0marr\u001b[0m \u001b[0;34m=\u001b[0m \u001b[0marr\u001b[0m\u001b[0;34m[\u001b[0m\u001b[0;34m:\u001b[0m\u001b[0;34m:\u001b[0m\u001b[0;34m-\u001b[0m\u001b[0;36m1\u001b[0m\u001b[0;34m,\u001b[0m\u001b[0;34m:\u001b[0m\u001b[0;34m,\u001b[0m\u001b[0;36m0\u001b[0m\u001b[0;34m:\u001b[0m\u001b[0;36m3\u001b[0m\u001b[0;34m]\u001b[0m\u001b[0;34m\u001b[0m\u001b[0;34m\u001b[0m\u001b[0m\n\u001b[0;32m--> 127\u001b[0;31m         \u001b[0mself\u001b[0m\u001b[0;34m.\u001b[0m\u001b[0mwindow\u001b[0m\u001b[0;34m.\u001b[0m\u001b[0mflip\u001b[0m\u001b[0;34m(\u001b[0m\u001b[0;34m)\u001b[0m\u001b[0;34m\u001b[0m\u001b[0;34m\u001b[0m\u001b[0m\n\u001b[0m\u001b[1;32m    128\u001b[0m         \u001b[0mself\u001b[0m\u001b[0;34m.\u001b[0m\u001b[0monetime_geoms\u001b[0m \u001b[0;34m=\u001b[0m \u001b[0;34m[\u001b[0m\u001b[0;34m]\u001b[0m\u001b[0;34m\u001b[0m\u001b[0;34m\u001b[0m\u001b[0m\n\u001b[1;32m    129\u001b[0m         \u001b[0;32mreturn\u001b[0m \u001b[0marr\u001b[0m \u001b[0;32mif\u001b[0m \u001b[0mreturn_rgb_array\u001b[0m \u001b[0;32melse\u001b[0m \u001b[0mself\u001b[0m\u001b[0;34m.\u001b[0m\u001b[0misopen\u001b[0m\u001b[0;34m\u001b[0m\u001b[0;34m\u001b[0m\u001b[0m\n",
      "\u001b[0;32m/usr/local/lib/python3.8/site-packages/pyglet/window/cocoa/__init__.py\u001b[0m in \u001b[0;36mflip\u001b[0;34m(self)\u001b[0m\n\u001b[1;32m    287\u001b[0m         \u001b[0mself\u001b[0m\u001b[0;34m.\u001b[0m\u001b[0mdraw_mouse_cursor\u001b[0m\u001b[0;34m(\u001b[0m\u001b[0;34m)\u001b[0m\u001b[0;34m\u001b[0m\u001b[0;34m\u001b[0m\u001b[0m\n\u001b[1;32m    288\u001b[0m         \u001b[0;32mif\u001b[0m \u001b[0mself\u001b[0m\u001b[0;34m.\u001b[0m\u001b[0mcontext\u001b[0m\u001b[0;34m:\u001b[0m\u001b[0;34m\u001b[0m\u001b[0;34m\u001b[0m\u001b[0m\n\u001b[0;32m--> 289\u001b[0;31m             \u001b[0mself\u001b[0m\u001b[0;34m.\u001b[0m\u001b[0mcontext\u001b[0m\u001b[0;34m.\u001b[0m\u001b[0mflip\u001b[0m\u001b[0;34m(\u001b[0m\u001b[0;34m)\u001b[0m\u001b[0;34m\u001b[0m\u001b[0;34m\u001b[0m\u001b[0m\n\u001b[0m\u001b[1;32m    290\u001b[0m \u001b[0;34m\u001b[0m\u001b[0m\n\u001b[1;32m    291\u001b[0m     \u001b[0;32mdef\u001b[0m \u001b[0mdispatch_events\u001b[0m\u001b[0;34m(\u001b[0m\u001b[0mself\u001b[0m\u001b[0;34m)\u001b[0m\u001b[0;34m:\u001b[0m\u001b[0;34m\u001b[0m\u001b[0;34m\u001b[0m\u001b[0m\n",
      "\u001b[0;32m/usr/local/lib/python3.8/site-packages/pyglet/gl/cocoa.py\u001b[0m in \u001b[0;36mflip\u001b[0;34m(self)\u001b[0m\n\u001b[1;32m    325\u001b[0m \u001b[0;34m\u001b[0m\u001b[0m\n\u001b[1;32m    326\u001b[0m     \u001b[0;32mdef\u001b[0m \u001b[0mflip\u001b[0m\u001b[0;34m(\u001b[0m\u001b[0mself\u001b[0m\u001b[0;34m)\u001b[0m\u001b[0;34m:\u001b[0m\u001b[0;34m\u001b[0m\u001b[0;34m\u001b[0m\u001b[0m\n\u001b[0;32m--> 327\u001b[0;31m         \u001b[0mself\u001b[0m\u001b[0;34m.\u001b[0m\u001b[0m_nscontext\u001b[0m\u001b[0;34m.\u001b[0m\u001b[0mflushBuffer\u001b[0m\u001b[0;34m(\u001b[0m\u001b[0;34m)\u001b[0m\u001b[0;34m\u001b[0m\u001b[0;34m\u001b[0m\u001b[0m\n\u001b[0m",
      "\u001b[0;32m/usr/local/lib/python3.8/site-packages/pyglet/libs/darwin/cocoapy/runtime.py\u001b[0m in \u001b[0;36m__call__\u001b[0;34m(self, *args)\u001b[0m\n\u001b[1;32m    783\u001b[0m     \u001b[0;32mdef\u001b[0m \u001b[0m__call__\u001b[0m\u001b[0;34m(\u001b[0m\u001b[0mself\u001b[0m\u001b[0;34m,\u001b[0m \u001b[0;34m*\u001b[0m\u001b[0margs\u001b[0m\u001b[0;34m)\u001b[0m\u001b[0;34m:\u001b[0m\u001b[0;34m\u001b[0m\u001b[0;34m\u001b[0m\u001b[0m\n\u001b[1;32m    784\u001b[0m         \u001b[0;34m\"\"\"Call the method with the given arguments.\"\"\"\u001b[0m\u001b[0;34m\u001b[0m\u001b[0;34m\u001b[0m\u001b[0m\n\u001b[0;32m--> 785\u001b[0;31m         \u001b[0;32mreturn\u001b[0m \u001b[0mself\u001b[0m\u001b[0;34m.\u001b[0m\u001b[0mmethod\u001b[0m\u001b[0;34m(\u001b[0m\u001b[0mself\u001b[0m\u001b[0;34m.\u001b[0m\u001b[0mobjc_id\u001b[0m\u001b[0;34m,\u001b[0m \u001b[0;34m*\u001b[0m\u001b[0margs\u001b[0m\u001b[0;34m)\u001b[0m\u001b[0;34m\u001b[0m\u001b[0;34m\u001b[0m\u001b[0m\n\u001b[0m\u001b[1;32m    786\u001b[0m \u001b[0;34m\u001b[0m\u001b[0m\n\u001b[1;32m    787\u001b[0m \u001b[0;31m######################################################################\u001b[0m\u001b[0;34m\u001b[0m\u001b[0;34m\u001b[0m\u001b[0;34m\u001b[0m\u001b[0m\n",
      "\u001b[0;32m/usr/local/lib/python3.8/site-packages/pyglet/libs/darwin/cocoapy/runtime.py\u001b[0m in \u001b[0;36m__call__\u001b[0;34m(self, objc_id, *args)\u001b[0m\n\u001b[1;32m    753\u001b[0m         \u001b[0mf\u001b[0m \u001b[0;34m=\u001b[0m \u001b[0mself\u001b[0m\u001b[0;34m.\u001b[0m\u001b[0mget_callable\u001b[0m\u001b[0;34m(\u001b[0m\u001b[0;34m)\u001b[0m\u001b[0;34m\u001b[0m\u001b[0;34m\u001b[0m\u001b[0m\n\u001b[1;32m    754\u001b[0m         \u001b[0;32mtry\u001b[0m\u001b[0;34m:\u001b[0m\u001b[0;34m\u001b[0m\u001b[0;34m\u001b[0m\u001b[0m\n\u001b[0;32m--> 755\u001b[0;31m             \u001b[0mresult\u001b[0m \u001b[0;34m=\u001b[0m \u001b[0mf\u001b[0m\u001b[0;34m(\u001b[0m\u001b[0mobjc_id\u001b[0m\u001b[0;34m,\u001b[0m \u001b[0mself\u001b[0m\u001b[0;34m.\u001b[0m\u001b[0mselector\u001b[0m\u001b[0;34m,\u001b[0m \u001b[0;34m*\u001b[0m\u001b[0margs\u001b[0m\u001b[0;34m)\u001b[0m\u001b[0;34m\u001b[0m\u001b[0;34m\u001b[0m\u001b[0m\n\u001b[0m\u001b[1;32m    756\u001b[0m             \u001b[0;31m# Convert result to python type if it is a instance or class pointer.\u001b[0m\u001b[0;34m\u001b[0m\u001b[0;34m\u001b[0m\u001b[0;34m\u001b[0m\u001b[0m\n\u001b[1;32m    757\u001b[0m             \u001b[0;32mif\u001b[0m \u001b[0mself\u001b[0m\u001b[0;34m.\u001b[0m\u001b[0mrestype\u001b[0m \u001b[0;34m==\u001b[0m \u001b[0mObjCInstance\u001b[0m\u001b[0;34m:\u001b[0m\u001b[0;34m\u001b[0m\u001b[0;34m\u001b[0m\u001b[0m\n",
      "\u001b[0;31mKeyboardInterrupt\u001b[0m: "
     ]
    }
   ],
   "source": [
    "import gym\n",
    "from random import randint\n",
    "import math\n",
    "import tqdm\n",
    "import numpy as np\n",
    "import matplotlib.pyplot as plt\n",
    "\n",
    "def learn(episodeCount, episodeVerbose=100):\n",
    "    tqdm_episodes = tqdm.tqdm(range(episodeCount))\n",
    "    for i_episode in tqdm_episodes:  # Start an episode\n",
    "        obs = env.reset()\n",
    "        \n",
    "        # Compute the decay of the exploration\n",
    "        decayX = 0.02\n",
    "        decayY = 20\n",
    "        decay = max(-i_episode*decayX+decayY, 1/(i_episode+1))\n",
    "        \n",
    "        iter_verbose = i_episode % episodeVerbose == 0 if episodeVerbose > -1 else 0\n",
    "        doEpisodeMC(obs, decay, i_episode, verbose=iter_verbose)\n",
    "        i = max(i_episode-100, 0)\n",
    "        tqdm_episodes.set_postfix({\"last_100_avg_pole_upright\": np.mean(rewardHistory[i:i_episode+1]),\n",
    "                                  \"len(history)\": len(history)})\n",
    "\n",
    "\n",
    "def doEpisodeMC(obs, decay, i_episode, verbose=False):\n",
    "    # Reset reward count and states/actions for this episode\n",
    "    episodeStatesActions = []\n",
    "    totalRewards = 0\n",
    "\n",
    "    for t in range(env.spec.max_episode_steps):\n",
    "        \n",
    "        if verbose:\n",
    "            env.render()\n",
    "            \n",
    "        state = getState(obs)  # Get the state\n",
    "        action = policy(state, decay)  # Get the action\n",
    "        \n",
    "        # Save state and action to episodeStatesActions\n",
    "        episodeStatesActions.append({'state': state, 'action': action})  \n",
    "\n",
    "        obs, reward, done, _ = env.step(action)  # Apply the action\n",
    "        \n",
    "        totalRewards += reward  # Update total reward for this episode\n",
    "        \n",
    "        if done:  # Episode is over\n",
    "            rewardHistory[i_episode] = totalRewards\n",
    "            for i, state_action in enumerate(episodeStatesActions):  # Update value for chosen actions\n",
    "                updatePolicyMC(state_action['state'], \n",
    "                               state_action['action'], \n",
    "                               totalRewards-i)\n",
    "            break\n",
    "\n",
    "    if verbose:\n",
    "        print({\"Episode {}. Iteration with pole upright: {}. History length: {}\".format(i_episode, \n",
    "                                                                                        totalRewards, \n",
    "                                                                                        len(history))})\n",
    "\n",
    "\n",
    "\n",
    "# @param state <string> the state to update\n",
    "# @param action <int> the action to update\n",
    "# @param G <int> the reward\n",
    "def updatePolicyMC(state, action, G):\n",
    "    a = history[state][action]\n",
    "    a['value'] = (a['value'] * a['count'] + G) / (a['count'] + 1)\n",
    "    a['count'] += 1\n",
    "\n",
    "\n",
    "# @param obs <[float]> the observation to convert into a state\n",
    "# @return the state associated to the observation_space\n",
    "# If the set of observations where never met, create the state\n",
    "# The function reduces the number of possible states\n",
    "def getState(obs):\n",
    "    state = ''\n",
    "    for o in obs:\n",
    "        state += str(math.floor(o))\n",
    "    return state\n",
    "\n",
    "    \n",
    "# @param state <string>\n",
    "# @param decay <int>\n",
    "# @return an action\n",
    "# The policy progressivly stops exploration and gets greedy\n",
    "def policy(state, decay):\n",
    "    # Get the less explored action and the most valued action\n",
    "    maxValueAction = env.action_space.sample()\n",
    "    minCountAction = env.action_space.sample()\n",
    "    if state not in history:  # If state does not exists, create it\n",
    "        history[state] = []\n",
    "        for _ in range(env.action_space.n):\n",
    "            history[state].append({'count':0, 'value':0})\n",
    "    stateValues = history[state]\n",
    "    for action in range(env.action_space.n):\n",
    "        if stateValues[maxValueAction]['value'] < stateValues[action]['value']:\n",
    "            maxValueAction = action\n",
    "        if stateValues[minCountAction]['count'] > stateValues[action]['count']:\n",
    "            minCountAction = action\n",
    "    # Computing the decay of the exploration\n",
    "    if randint(0, 100) < decay:\n",
    "        return minCountAction\n",
    "    else:\n",
    "        return maxValueAction\n",
    "\n",
    "\n",
    "env = gym.make('Acrobot-v1')\n",
    "nbEpisodes = 2000\n",
    "nVerboseEpisodes = 400\n",
    "rewardHistory = [0]*nbEpisodes\n",
    "\n",
    "history = {}  # 'state' ==> [{'count': int, 'value': float}]\n",
    "\n",
    "learn(nbEpisodes, nVerboseEpisodes)\n",
    "\n",
    "env.close()\n",
    "plt.plot(range(nbEpisodes), rewardHistory, \n",
    "         range(nbEpisodes), (np.convolve(rewardHistory, np.ones(100), 'full') / 100)[:nbEpisodes], \n",
    "         range(nbEpisodes), [env.spec.reward_threshold]*nbEpisodes)\n",
    "plt.ylabel('Number of steps')\n",
    "plt.show()"
   ]
  },
  {
   "cell_type": "markdown",
   "metadata": {},
   "source": [
    "#### Preguntes\n",
    "\n",
    "**1.** Explica què és el `episodeCount` i el `env.spec.max_episode_steps`.\n",
    "\n",
    "**2.** Com són les observacions de l'entorn? En quin estat s'inicialitza l'environment?\n",
    "\n",
    "**3.** Explica el `decay` utilitzat. Mostra la gràfica del decay utilitzat per totes les epoques.\n",
    "\n",
    "**4.** Explica la funció `action = policy(state, decay)`. \n",
    "\n",
    "**5.** Què passa en el `obs, reward, done, _ = env.step(action)`. Explica les variables retornades.\n",
    "\n",
    "**6.** Com es premien els rewards en l'actualització de la policy `updatePolicyMC`? Què es guarda al diccionari `history`?\n",
    "\n",
    "**7.** Explica la darrere gràfica retornada. Què s'hi representa?\n",
    "\n",
    "**8.** Explica la relació entre la mida del `history`, i el que s'obté de la funció `getState(obs)`. Fés proves reduint o augmentant la dimensionalitat i el número de possibles estats del sistema per veure com afecta al aprenentatge.\n",
    "\n"
   ]
  },
  {
   "cell_type": "markdown",
   "metadata": {},
   "source": [
    "#### Respostes\n",
    "\n",
    "# 1."
   ]
  },
  {
   "cell_type": "code",
   "execution_count": null,
   "metadata": {},
   "outputs": [],
   "source": []
  },
  {
   "cell_type": "markdown",
   "metadata": {},
   "source": [
    "# 2."
   ]
  },
  {
   "cell_type": "code",
   "execution_count": null,
   "metadata": {},
   "outputs": [],
   "source": []
  },
  {
   "cell_type": "markdown",
   "metadata": {},
   "source": [
    "# 3."
   ]
  },
  {
   "cell_type": "code",
   "execution_count": null,
   "metadata": {},
   "outputs": [],
   "source": []
  },
  {
   "cell_type": "markdown",
   "metadata": {},
   "source": [
    "# 4."
   ]
  },
  {
   "cell_type": "code",
   "execution_count": null,
   "metadata": {},
   "outputs": [],
   "source": []
  },
  {
   "cell_type": "markdown",
   "metadata": {},
   "source": [
    "# 5."
   ]
  },
  {
   "cell_type": "code",
   "execution_count": null,
   "metadata": {},
   "outputs": [],
   "source": []
  },
  {
   "cell_type": "markdown",
   "metadata": {},
   "source": [
    "# 6."
   ]
  },
  {
   "cell_type": "code",
   "execution_count": null,
   "metadata": {},
   "outputs": [],
   "source": []
  },
  {
   "cell_type": "markdown",
   "metadata": {},
   "source": [
    "# 7."
   ]
  },
  {
   "cell_type": "code",
   "execution_count": null,
   "metadata": {},
   "outputs": [],
   "source": []
  },
  {
   "cell_type": "markdown",
   "metadata": {},
   "source": [
    "# 8."
   ]
  },
  {
   "cell_type": "code",
   "execution_count": null,
   "metadata": {},
   "outputs": [],
   "source": []
  },
  {
   "cell_type": "markdown",
   "metadata": {},
   "source": [
    "# Extra. Learn on the other 4 environments\n",
    "\n",
    "\n",
    "L'objectiu dels mètodes de aprenentatge per reforç és que siguin prou robustos com per poder aprendre diferents tasques diferents. Per això, modifiqueu el codi necessari per aconseguir que els 5 environments funcionin:\n",
    "* CartPole-v1\n",
    "* Acrobot-v1\n",
    "* Pendulum-v0\n",
    "* MountainCar-v0\n",
    "* MountainCarContinuous-v0"
   ]
  }
 ],
 "metadata": {
  "kernelspec": {
   "display_name": "Python 3 (ipykernel)",
   "language": "python",
   "name": "python3"
  },
  "language_info": {
   "codemirror_mode": {
    "name": "ipython",
    "version": 3
   },
   "file_extension": ".py",
   "mimetype": "text/x-python",
   "name": "python",
   "nbconvert_exporter": "python",
   "pygments_lexer": "ipython3",
   "version": "3.8.5"
  }
 },
 "nbformat": 4,
 "nbformat_minor": 2
}
