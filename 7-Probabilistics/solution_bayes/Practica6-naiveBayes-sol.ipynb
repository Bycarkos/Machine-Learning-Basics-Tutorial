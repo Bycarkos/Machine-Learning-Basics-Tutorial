{
 "cells": [
  {
   "cell_type": "markdown",
   "metadata": {},
   "source": [
    "# Pràctica 6: Naive Bayes\n"
   ]
  },
  {
   "cell_type": "markdown",
   "metadata": {},
   "source": [
    "## Introducció\n",
    "\n",
    "Els models Naive Bayes són un grup d’algoritmes de classificació extremadament ràpids i senzills que sovint són adequats per a conjunts de dades de molt alta dimensió.\n",
    "\n",
    "Com que són tan ràpids i tenen tan pocs paràmetres, acaben sent molt útils com a ràpid baseline per a un problemes de classificació senzills.\n",
    "\n",
    "Aquesta secció se centrarà en una explicació intuïtiva de com funcionen els classificadors ingenus de Bayes.\n"
   ]
  },
  {
   "cell_type": "markdown",
   "metadata": {},
   "source": [
    "### Classificació bayesiana\n",
    "\n",
    "Els classificadors de Bayes ingenus es basen en el teorema de Bayes, que és una equació que descriu la relació de probabilitats condicionals de quantitats estadístiques.\n",
    "\n",
    "A la classificació bayesiana, ens interessa trobar la probabilitat d'una etiqueta donades algunes característiques observades, que podem escriure com $ P (y ~|~ X) $.\n",
    "\n",
    "El teorema de Bayes ens explica com expressar-ho en termes de quantitats que podem calcular més directament:\n",
    "\n",
    "$$\n",
    "P(y \\mid x_1, \\dots, x_n) = \\frac{P(y) P(x_1, \\dots, x_n \\mid y)}\n",
    "                                 {P(x_1, \\dots, x_n)}\n",
    "$$\n",
    "\n",
    "Utilitzant l'assumpció ingenua d'independencia condicional, podem simplificar la relació per tot $i$.\n",
    "\n",
    "$$\n",
    "P(y \\mid x_1, \\dots, x_n) = \\frac{P(y) \\prod_{i=1}^{n} P(x_i \\mid y)}\n",
    "                                 {P(x_1, \\dots, x_n)}\n",
    "$$\n",
    "\n",
    "Ja que $P(x_1, \\dots, x_n)$ és constant donada una entrada, es pot utilitzar la següent simplificació, que será donarà un resultat proporcional al real, per tant, tindrem la mateixa sortida.\n",
    "\n",
    "$$ P(y \\mid x_1, \\dots, x_n) \\propto P(y) \\prod_{i=1}^{n} P(x_i \\mid y) $$\n",
    "\n",
    "La classificació final s'obtindrà:\n",
    "\n",
    "$$ \\hat{y} = \\arg\\max_y P(y) \\prod_{i=1}^{n} P(x_i \\mid y) $$\n"
   ]
  },
  {
   "cell_type": "markdown",
   "metadata": {},
   "source": [
    "Tingueu en compte que $P (y)$ també s’anomena **probabilitat de classe** i $P (x_i | y)$ s’anomena **probabilitat condicional**. \n",
    "\n",
    "Els diferents classificadors ingenus de Bayes es diferencien principalment pels supòsits que fan sobre la distribució de $P (x_i | y)$. \n",
    "\n",
    "Intentem aplicar la fórmula anterior manualment al nostre conjunt de dades meteorològiques. \n",
    "    "
   ]
  },
  {
   "cell_type": "markdown",
   "metadata": {},
   "source": [
    "### Exemple:\n",
    "\n",
    "Anem a veure un exemple [(extret d'aquesta web)](https://www.geeksforgeeks.org/naive-bayes-classifiers/). Considereu aquestes dades meteorològiques:"
   ]
  },
  {
   "cell_type": "code",
   "execution_count": 1,
   "metadata": {},
   "outputs": [
    {
     "data": {
      "text/html": [
       "<div>\n",
       "<style scoped>\n",
       "    .dataframe tbody tr th:only-of-type {\n",
       "        vertical-align: middle;\n",
       "    }\n",
       "\n",
       "    .dataframe tbody tr th {\n",
       "        vertical-align: top;\n",
       "    }\n",
       "\n",
       "    .dataframe thead th {\n",
       "        text-align: right;\n",
       "    }\n",
       "</style>\n",
       "<table border=\"1\" class=\"dataframe\">\n",
       "  <thead>\n",
       "    <tr style=\"text-align: right;\">\n",
       "      <th></th>\n",
       "      <th>Outlook</th>\n",
       "      <th>Temperature</th>\n",
       "      <th>Humidity</th>\n",
       "      <th>Windy</th>\n",
       "      <th>PlayGolf</th>\n",
       "    </tr>\n",
       "  </thead>\n",
       "  <tbody>\n",
       "    <tr>\n",
       "      <th>0</th>\n",
       "      <td>Rainy</td>\n",
       "      <td>Hot</td>\n",
       "      <td>High</td>\n",
       "      <td>False</td>\n",
       "      <td>No</td>\n",
       "    </tr>\n",
       "    <tr>\n",
       "      <th>1</th>\n",
       "      <td>Rainy</td>\n",
       "      <td>Hot</td>\n",
       "      <td>High</td>\n",
       "      <td>True</td>\n",
       "      <td>No</td>\n",
       "    </tr>\n",
       "    <tr>\n",
       "      <th>2</th>\n",
       "      <td>Overcast</td>\n",
       "      <td>Hot</td>\n",
       "      <td>High</td>\n",
       "      <td>False</td>\n",
       "      <td>Yes</td>\n",
       "    </tr>\n",
       "    <tr>\n",
       "      <th>3</th>\n",
       "      <td>Sunny</td>\n",
       "      <td>Mild</td>\n",
       "      <td>High</td>\n",
       "      <td>False</td>\n",
       "      <td>Yes</td>\n",
       "    </tr>\n",
       "    <tr>\n",
       "      <th>4</th>\n",
       "      <td>Sunny</td>\n",
       "      <td>Cool</td>\n",
       "      <td>Normal</td>\n",
       "      <td>False</td>\n",
       "      <td>Yes</td>\n",
       "    </tr>\n",
       "    <tr>\n",
       "      <th>5</th>\n",
       "      <td>Sunny</td>\n",
       "      <td>Cool</td>\n",
       "      <td>Normal</td>\n",
       "      <td>True</td>\n",
       "      <td>No</td>\n",
       "    </tr>\n",
       "    <tr>\n",
       "      <th>6</th>\n",
       "      <td>Overcast</td>\n",
       "      <td>Cool</td>\n",
       "      <td>Normal</td>\n",
       "      <td>True</td>\n",
       "      <td>Yes</td>\n",
       "    </tr>\n",
       "    <tr>\n",
       "      <th>7</th>\n",
       "      <td>Rainy</td>\n",
       "      <td>Mild</td>\n",
       "      <td>High</td>\n",
       "      <td>False</td>\n",
       "      <td>No</td>\n",
       "    </tr>\n",
       "    <tr>\n",
       "      <th>8</th>\n",
       "      <td>Rainy</td>\n",
       "      <td>Cool</td>\n",
       "      <td>Normal</td>\n",
       "      <td>False</td>\n",
       "      <td>Yes</td>\n",
       "    </tr>\n",
       "    <tr>\n",
       "      <th>9</th>\n",
       "      <td>Sunny</td>\n",
       "      <td>Mild</td>\n",
       "      <td>Normal</td>\n",
       "      <td>False</td>\n",
       "      <td>Yes</td>\n",
       "    </tr>\n",
       "    <tr>\n",
       "      <th>10</th>\n",
       "      <td>Rainy</td>\n",
       "      <td>Mild</td>\n",
       "      <td>Normal</td>\n",
       "      <td>True</td>\n",
       "      <td>Yes</td>\n",
       "    </tr>\n",
       "    <tr>\n",
       "      <th>11</th>\n",
       "      <td>Overcast</td>\n",
       "      <td>Mild</td>\n",
       "      <td>High</td>\n",
       "      <td>True</td>\n",
       "      <td>Yes</td>\n",
       "    </tr>\n",
       "    <tr>\n",
       "      <th>12</th>\n",
       "      <td>Overcast</td>\n",
       "      <td>Hot</td>\n",
       "      <td>Normal</td>\n",
       "      <td>False</td>\n",
       "      <td>Yes</td>\n",
       "    </tr>\n",
       "    <tr>\n",
       "      <th>13</th>\n",
       "      <td>Sunny</td>\n",
       "      <td>Mild</td>\n",
       "      <td>High</td>\n",
       "      <td>True</td>\n",
       "      <td>No</td>\n",
       "    </tr>\n",
       "  </tbody>\n",
       "</table>\n",
       "</div>"
      ],
      "text/plain": [
       "     Outlook Temperature Humidity  Windy PlayGolf\n",
       "0      Rainy         Hot     High  False       No\n",
       "1      Rainy         Hot     High   True       No\n",
       "2   Overcast         Hot     High  False      Yes\n",
       "3      Sunny        Mild     High  False      Yes\n",
       "4      Sunny        Cool   Normal  False      Yes\n",
       "5      Sunny        Cool   Normal   True       No\n",
       "6   Overcast        Cool   Normal   True      Yes\n",
       "7      Rainy        Mild     High  False       No\n",
       "8      Rainy        Cool   Normal  False      Yes\n",
       "9      Sunny        Mild   Normal  False      Yes\n",
       "10     Rainy        Mild   Normal   True      Yes\n",
       "11  Overcast        Mild     High   True      Yes\n",
       "12  Overcast         Hot   Normal  False      Yes\n",
       "13     Sunny        Mild     High   True       No"
      ]
     },
     "metadata": {},
     "output_type": "display_data"
    }
   ],
   "source": [
    "import pandas as pd\n",
    "\n",
    "dataGolf = pd.read_csv('playgolf.csv', delimiter=';')\n",
    "display(dataGolf)"
   ]
  },
  {
   "cell_type": "markdown",
   "metadata": {},
   "source": [
    "Haurem de fer algunes precomputacions al nostre conjunt de dades. Hem de trobar $P (x_i | y_j)$ per a cada $x_i$ a $X$ i $y_j$ a $y$. Tots aquests càlculs es mostren a les taules següents:\n",
    "\n",
    "\n",
    "<img src=\"https://media.geeksforgeeks.org/wp-content/uploads/naive-bayes-classification.png\" width=500>\n",
    "\n"
   ]
  },
  {
   "cell_type": "markdown",
   "metadata": {},
   "source": [
    "Cada taula ha calculat $P(x_i | y_j)$ per cada $x_i$ en $X$ i $y_j$ en $y$. Per exemple, la probabilitat de jugar a golf donat que la temperatura és fresca, és a dir, $P(temperature = Cool | PlayGolf = Yes) = 3/9$.\n",
    "\n",
    "A més, hem de trobar les probabilitats de classe ($P (y)$). Per exemple, $P (PlayGolf = Yes) = 9/14$.\n",
    "\n",
    "Ja podem fer servir el classificador ingenu de Bayes. Per exemple, si avui tenim aquestes condicions climatològiques, jugarem al golf?"
   ]
  },
  {
   "cell_type": "code",
   "execution_count": 2,
   "metadata": {},
   "outputs": [],
   "source": [
    "today_golf = ['Sunny', 'Hot', 'Normal', False]"
   ]
  },
  {
   "cell_type": "markdown",
   "metadata": {},
   "source": [
    "$P(Yes|today) = \\frac{P(Outlook=Sunny|Yes) P(Temperature=Hot|Yes) P(Humidity=Normal|Yes) P(Wind=False|Yes) P(Yes)}{P(today)}$\n",
    "\n",
    "$P(No|today) = \\frac{P(Outlook=Sunny|No) P(Temperature=Hot|No) P(Humidity=Normal|No) P(Wind=False|No) P(No)}{P(today)}$\n",
    "\n",
    "Ignorem el $P(today)$ per què es comú a les dues probabilitats, i calculem:\n",
    "\n",
    "$$P(Yes|today) \\propto \\frac{2}{9}·\\frac{2}{9}·\\frac{6}{9}·\\frac{6}{9}·\\frac{9}{14} \\simeq 0.0141 $$\n",
    "\n",
    "$$P(No|today) \\propto \\frac{3}{5}·\\frac{2}{5}·\\frac{1}{5}·\\frac{2}{5}·\\frac{5}{14} \\simeq 0.0068 $$\n",
    "\n",
    "Podem normalitzar-ho per sumar 1, \n",
    "$$P(Yes|today) = \\frac{0.0141}{0.0068+0.0141}=0.67$$\n",
    "$$P(No|today) = \\frac{0.0068}{0.0068+0.0141}=0.33$$"
   ]
  },
  {
   "cell_type": "code",
   "execution_count": 3,
   "metadata": {},
   "outputs": [
    {
     "data": {
      "text/html": [
       "<div>\n",
       "<style scoped>\n",
       "    .dataframe tbody tr th:only-of-type {\n",
       "        vertical-align: middle;\n",
       "    }\n",
       "\n",
       "    .dataframe tbody tr th {\n",
       "        vertical-align: top;\n",
       "    }\n",
       "\n",
       "    .dataframe thead th {\n",
       "        text-align: right;\n",
       "    }\n",
       "</style>\n",
       "<table border=\"1\" class=\"dataframe\">\n",
       "  <thead>\n",
       "    <tr style=\"text-align: right;\">\n",
       "      <th></th>\n",
       "      <th>Outlook</th>\n",
       "      <th>Temperature</th>\n",
       "      <th>Humidity</th>\n",
       "      <th>Windy</th>\n",
       "    </tr>\n",
       "  </thead>\n",
       "  <tbody>\n",
       "    <tr>\n",
       "      <th>0</th>\n",
       "      <td>Sunny</td>\n",
       "      <td>Hot</td>\n",
       "      <td>Normal</td>\n",
       "      <td>False</td>\n",
       "    </tr>\n",
       "  </tbody>\n",
       "</table>\n",
       "</div>"
      ],
      "text/plain": [
       "  Outlook Temperature Humidity  Windy\n",
       "0   Sunny         Hot   Normal  False"
      ]
     },
     "metadata": {},
     "output_type": "display_data"
    }
   ],
   "source": [
    "today_df_golf = pd.DataFrame([today_golf], columns = ['Outlook','Temperature', 'Humidity','Windy'])\n",
    "display(today_df_golf)"
   ]
  },
  {
   "cell_type": "code",
   "execution_count": 4,
   "metadata": {},
   "outputs": [
    {
     "data": {
      "text/plain": [
       "array([[0.22086561, 0.77913439]])"
      ]
     },
     "execution_count": 4,
     "metadata": {},
     "output_type": "execute_result"
    }
   ],
   "source": [
    "from sklearn.preprocessing import OrdinalEncoder\n",
    "from sklearn.naive_bayes import CategoricalNB\n",
    "\n",
    "X_golf = dataGolf.drop(\"PlayGolf\", axis=\"columns\")\n",
    "y_golf = dataGolf[\"PlayGolf\"]\n",
    "\n",
    "enc = OrdinalEncoder()\n",
    "enc.fit(X_golf)\n",
    "X_golf_encoded = enc.transform(X_golf)\n",
    "\n",
    "model_cat = CategoricalNB(alpha=1)\n",
    "model_cat.fit(X_golf_encoded, y_golf)\n",
    "\n",
    "model_cat.predict_proba(enc.transform(today_df_golf))"
   ]
  },
  {
   "cell_type": "markdown",
   "metadata": {},
   "source": [
    "### Tipus de Classificadors Naive Bayes\n",
    "Tot el que necessitem ara és algun model per calcular **$ P(x_i \\mid y) $** per a cada etiqueta, i n'existeixen varis depenent del tipus de dades. \n",
    "\n",
    "Podeu trobar l'explicació més precisa a la documentació, pero a continuació n'explicarem els trets fonamentals (Sabrieu dir quin model hem fet servir en l'exemple anterior?):\n",
    "\n",
    "Tingueu en compte que $\\alpha$ es un prior de suavització, i tenen en compte característiques no vistes durant l'aprenentatge. Impedeixen probabilitats nul·les en altres càlculs. Si $\\alpha = 1$, s’anomena suavització de Laplace, mentre que $\\alpha < 1$ s’anomena suavització de Lidstone.\n"
   ]
  },
  {
   "cell_type": "markdown",
   "metadata": {},
   "source": [
    "#### [Gaussian Naive Bayes](https://scikit-learn.org/stable/modules/naive_bayes.html#gaussian-naive-bayes)\n",
    "Si tenim dades continues, i creiem que asumeixen una distribució normal, les podem modelitzar amb la mitja i la desviació estandar.\n",
    "$$P(x_i \\mid y) = \\frac{1}{\\sqrt{2\\pi\\sigma^2_y}} \\exp\\left(-\\frac{(x_i - \\mu_y)^2}{2\\sigma^2_y}\\right)$$\n",
    "\n",
    "#### [Multinomial Naive Bayes](https://scikit-learn.org/stable/modules/naive_bayes.html#multinomial-naive-bayes)\n",
    "Es fa servir si tenim caracteristiques que compten occurencies. Per exemple, en text, si comptem quantes vegades apareix un terme en el document (una paraula). \n",
    "\n",
    "$$P(x_i \\mid y)\\sim \\hat{\\theta}_{yi} · x_i = \\frac{ N_{yi} + \\alpha}{N_y + \\alpha n} · x_i$$\n",
    "\n",
    "#### [Bernoulli Naive Bayes](https://scikit-learn.org/stable/modules/naive_bayes.html#bernoulli-naive-bayes)\n",
    "Si les dades són binaries, millor utilitzar aquesta problabilitat.\n",
    "\n",
    "$$P(x_i \\mid y) = P(i \\mid y) · x_i + (1 - P(i \\mid y)) · (1 - x_i)$$\n",
    "\n",
    "#### [Categorical Naive Bayes](https://scikit-learn.org/stable/modules/naive_bayes.html#categorical-naive-bayes)\n",
    "Si les dades són categoriques.\n",
    "$$P(x_i = t \\mid y = c ; \\alpha) = \\frac{ N_{tic} + \\alpha}{N_{c} + \\alpha n_i}$$\n",
    "\n"
   ]
  },
  {
   "cell_type": "code",
   "execution_count": null,
   "metadata": {},
   "outputs": [],
   "source": [
    "class GaussianNaiveBayes(NaiveBayes):\n",
    "    def __init__(self, alpha=1):\n",
    "        super().__init__(alpha)\n",
    "        self.theta_ = None  # mean\n",
    "        self.sigma_ = None  # var\n",
    "        \n",
    "\n",
    "    def calcular_conditional(self, X, y):\n",
    "        # todo\n",
    "        self.theta_ = np.zeros((len(self.classes_), X.shape[1]))\n",
    "        self.sigma_ = np.zeros((len(self.classes_), X.shape[1]))\n",
    "                            \n",
    "        for i in range(len(self.classes_)):\n",
    "            idx = y==self.classes_[i]\n",
    "            self.theta_[i,:] = np.mean(X[idx, :], axis=0)\n",
    "            self.sigma_[i,:] = np.var(X[idx, :], axis=0)\n",
    "        pass\n",
    "    \n",
    "    def calcular_likelihood_log(self, X):\n",
    "        log_likelihood = []\n",
    "        for i in range(len(self.classes_)):\n",
    "            n_ij = - 0.5 * np.sum(np.log(2. * np.pi * self.sigma_[i, :]))\n",
    "            n_ij -= 0.5 * np.sum(((X - self.theta_[i, :]) ** 2) /\n",
    "                                (self.sigma_[i, :]), 1)\n",
    "            \n",
    "            # e1 = 1 / (np.sqrt(2 * np.pi * self.sigma_[i, :]))\n",
    "            # e2 = np.exp( - ((X - self.theta_[i, :]) ** 2) / (2 * self.sigma_[i, :]) )\n",
    "            \n",
    "            # n_ij = np.log(np.sum(e1 * e2, axis=1))\n",
    "            \n",
    "            log_likelihood.append(n_ij)\n",
    "\n",
    "        return np.array(log_likelihood).T\n",
    "        "
   ]
  },
  {
   "cell_type": "markdown",
   "metadata": {},
   "source": [
    "### Datasets\n",
    "\n",
    "Es faràn servir varies bases de dades per comparar els mètodes més idonis depenent del tipus de dades:\n",
    "\n",
    "* [**playgolf**](https://medium.com/@hrishavkmr/naive-bayes-in-machine-learning-5c0972340b76) (db: `playgolf.csv`)\n",
    "* [**iris**](https://scikit-learn.org/stable/modules/generated/sklearn.datasets.load_iris.html) (db: `datasets.load_iris`)\n",
    "* [**zoo**](https://www.kaggle.com/uciml/zoo-animal-classification) (db: `zoo_animal.csv`)\n",
    "* [**heart-disease-uci**](https://www.kaggle.com/ronitf/heart-disease-uci) (db: `heart.csv`)\n",
    "* [**20newsgroups**](https://scikit-learn.org/stable/modules/generated/sklearn.datasets.fetch_20newsgroups.html) (db: `datasets.fetch_20newsgroups`) (Al appendix veure-ho com tranformar text en caracteristiques)\n"
   ]
  },
  {
   "cell_type": "markdown",
   "metadata": {},
   "source": [
    "## A. Ús Naive Bayes Sci-kit Learn\n",
    "\n",
    "En aquest apartat us recomano que feu ús de funcions propies per a llegir una base de dades, aplicar-hi un model, fer crosvalidacio i que retorni els resultats. D'aquesta forma podreu reaprofitar molt de codi.\n",
    "\n",
    "\n",
    "\n"
   ]
  },
  {
   "cell_type": "code",
   "execution_count": 2,
   "metadata": {},
   "outputs": [],
   "source": [
    "import pandas as pd\n",
    "import numpy as np\n",
    "import sklearn.datasets \n",
    "from sklearn.preprocessing import OrdinalEncoder\n",
    "from sklearn.feature_extraction.text import TfidfVectorizer\n",
    "\n",
    "\n",
    "def load_dataset(which):\n",
    "    X, y = None, None\n",
    "    # si s'han de netejar o codificar les dades, feu-ho aqui directament\n",
    "    if which == \"iris\":\n",
    "        data = sklearn.datasets.load_iris()\n",
    "        X = data.data\n",
    "        y = data.target\n",
    "\n",
    "    elif which == \"playgolf\":\n",
    "        data = pd.read_csv('playgolf.csv', delimiter=';')\n",
    "        \n",
    "        XX = data.drop(\"PlayGolf\", axis=\"columns\")\n",
    "        y = data[\"PlayGolf\"]\n",
    "\n",
    "        enc = OrdinalEncoder()\n",
    "        enc.fit(XX)\n",
    "        X = enc.transform(XX)\n",
    "\n",
    "        pass\n",
    "    elif which == \"zoo\":\n",
    "        data = pd.read_csv('zoo_animal.csv', delimiter=',')\n",
    "        \n",
    "        X = data.drop([\"animal_name\", \"class_type\"], axis=\"columns\").values\n",
    "        y = data[\"class_type\"]\n",
    "\n",
    "        pass\n",
    "    elif which == \"heart-disease-uci\":\n",
    "        data = pd.read_csv('heart.csv', delimiter=',')\n",
    "        X = data.drop([\"target\"], axis=\"columns\").values\n",
    "        y = data[\"target\"]\n",
    "\n",
    "        pass\n",
    "    elif which == \"20newsgroups\":\n",
    "        categories = ['talk.religion.misc', 'soc.religion.christian', 'sci.space', 'comp.graphics']\n",
    "        data = sklearn.datasets.fetch_20newsgroups(subset='train', categories=categories)\n",
    "        prep = TfidfVectorizer(max_features=100)\n",
    "        X = prep.fit_transform(data.data).toarray()\n",
    "        y = data.target\n",
    "    else:\n",
    "        raise (\"UNKNOWN DATASET\")\n",
    "    \n",
    "    return X, y\n",
    "\n",
    "def experiment(dataset_name, model, crossvalidate=False, debug=True):\n",
    "    X, y = load_dataset(dataset_name)\n",
    "\n",
    "    if X is None or y is None:\n",
    "        return -1\n",
    "\n",
    "    if crossvalidate:\n",
    "        #TODO    \n",
    "        return 0\n",
    "    else:\n",
    "        if debug:\n",
    "            model.fit(X, y)\n",
    "            return model.score(X, y)\n",
    "        else:            \n",
    "            try:\n",
    "                model.fit(X, y)\n",
    "                return model.score(X, y)\n",
    "            except Exception as e:\n",
    "                print('\\033[91m'+\"ERROR {}\".format(e)+'\\x1b[0m')\n",
    "                return -100    \n",
    "    \n"
   ]
  },
  {
   "cell_type": "code",
   "execution_count": 6,
   "metadata": {},
   "outputs": [
    {
     "name": "stdout",
     "output_type": "stream",
     "text": [
      "iris + GaussianNB()         = 0.960\n",
      "iris + MultinomialNB()      = 0.953\n",
      "iris + BernoulliNB()        = 0.333\n",
      "iris + CategoricalNB()      = 0.933\n",
      "playgolf + GaussianNB()         = 0.857\n",
      "playgolf + MultinomialNB()      = 0.786\n",
      "playgolf + BernoulliNB()        = 0.857\n",
      "playgolf + CategoricalNB()      = 0.929\n",
      "zoo + GaussianNB()         = 1.000\n",
      "zoo + MultinomialNB()      = 0.921\n",
      "zoo + BernoulliNB()        = 0.990\n",
      "zoo + CategoricalNB()      = 1.000\n",
      "heart-disease-uci + GaussianNB()         = 0.842\n",
      "heart-disease-uci + MultinomialNB()      = 0.752\n",
      "heart-disease-uci + BernoulliNB()        = 0.832\n",
      "heart-disease-uci + CategoricalNB()      = 0.911\n",
      "20newsgroups + GaussianNB()         = 0.653\n",
      "20newsgroups + MultinomialNB()      = 0.698\n",
      "20newsgroups + BernoulliNB()        = 0.592\n",
      "20newsgroups + CategoricalNB()      = 0.278\n",
      "DONE\n"
     ]
    }
   ],
   "source": [
    "from sklearn.naive_bayes import GaussianNB, MultinomialNB, BernoulliNB, CategoricalNB\n",
    "\n",
    "models = [GaussianNB(), MultinomialNB(), BernoulliNB(), CategoricalNB()]\n",
    "datasets = ['iris', 'playgolf', 'zoo', 'heart-disease-uci', '20newsgroups']\n",
    "\n",
    "for d in datasets:\n",
    "    for m in models:\n",
    "        result = experiment(d, m)\n",
    "        print('{} + {:20} = {:.3f}'.format(d, str(m), result))\n",
    "\n",
    "print(\"DONE\")"
   ]
  },
  {
   "cell_type": "code",
   "execution_count": 12,
   "metadata": {},
   "outputs": [
    {
     "data": {
      "text/plain": [
       "0.9666666666666667"
      ]
     },
     "execution_count": 12,
     "metadata": {},
     "output_type": "execute_result"
    }
   ],
   "source": [
    "from sklearn.naive_bayes import GaussianNB, MultinomialNB, BernoulliNB, CategoricalNB\n",
    "\n",
    "X, y = load_dataset('iris')\n",
    "model=CategoricalNB()\n",
    "model.fit(X*100, y)\n",
    "model.score(X*100,y)"
   ]
  },
  {
   "cell_type": "code",
   "execution_count": 5,
   "metadata": {},
   "outputs": [
    {
     "data": {
      "text/plain": [
       "[array([[ 0.,  0.,  0.,  0., 20., 30.,  0.,  0.],\n",
       "        [ 0.,  0.,  0.,  0.,  1., 25., 23.,  1.],\n",
       "        [ 0.,  0.,  0.,  0.,  1.,  6., 31., 12.]]),\n",
       " array([[ 0.,  0.,  2., 44.,  4.],\n",
       "        [ 0.,  0., 34., 16.,  0.],\n",
       "        [ 0.,  0., 21., 29.,  0.]]),\n",
       " array([[ 0., 50.,  0.,  0.,  0.,  0.,  0.],\n",
       "        [ 0.,  0.,  0., 11., 37.,  2.,  0.],\n",
       "        [ 0.,  0.,  0.,  0.,  6., 33., 11.]]),\n",
       " array([[50.,  0.,  0.],\n",
       "        [ 0., 50.,  0.],\n",
       "        [ 0., 21., 29.]])]"
      ]
     },
     "execution_count": 5,
     "metadata": {},
     "output_type": "execute_result"
    }
   ],
   "source": [
    "model.category_count_"
   ]
  },
  {
   "cell_type": "code",
   "execution_count": 9,
   "metadata": {},
   "outputs": [
    {
     "data": {
      "text/plain": [
       "array([50., 50., 50.])"
      ]
     },
     "execution_count": 9,
     "metadata": {},
     "output_type": "execute_result"
    }
   ],
   "source": [
    "model.class_count_"
   ]
  },
  {
   "cell_type": "code",
   "execution_count": 13,
   "metadata": {},
   "outputs": [
    {
     "data": {
      "text/plain": [
       "1.0"
      ]
     },
     "execution_count": 13,
     "metadata": {},
     "output_type": "execute_result"
    }
   ],
   "source": [
    "X, y = load_dataset('zoo')\n",
    "model=GaussianNB()\n",
    "model.fit(X, y)\n",
    "model.score(X,y)"
   ]
  },
  {
   "cell_type": "code",
   "execution_count": 14,
   "metadata": {},
   "outputs": [
    {
     "data": {
      "text/plain": [
       "array([[4.64009559e-02, 4.09371630e-09, 2.37953640e-02, 4.09371630e-09,\n",
       "        4.64009559e-02, 1.24925644e-01, 2.48661515e-01, 2.37953640e-02,\n",
       "        4.09371630e-09, 4.09371630e-09, 4.09371630e-09, 8.80428357e-02,\n",
       "        1.45151696e+00, 1.24925644e-01, 1.57049379e-01, 1.71326595e-01],\n",
       "       [4.09371630e-09, 4.09371630e-09, 4.09371630e-09, 4.09371630e-09,\n",
       "        1.60000004e-01, 2.10000004e-01, 2.47500004e-01, 4.09371630e-09,\n",
       "        4.09371630e-09, 4.09371630e-09, 4.09371630e-09, 4.09371630e-09,\n",
       "        4.09371630e-09, 4.09371630e-09, 1.27500004e-01, 2.10000004e-01],\n",
       "       [4.09371630e-09, 4.09371630e-09, 1.60000004e-01, 4.09371630e-09,\n",
       "        4.09371630e-09, 1.60000004e-01, 1.60000004e-01, 1.60000004e-01,\n",
       "        4.09371630e-09, 1.60000004e-01, 2.40000004e-01, 4.09371630e-09,\n",
       "        3.84000000e+00, 4.09371630e-09, 4.09371630e-09, 1.60000004e-01],\n",
       "       [4.09371630e-09, 4.09371630e-09, 4.09371630e-09, 4.09371630e-09,\n",
       "        4.09371630e-09, 4.09371630e-09, 2.13017756e-01, 4.09371630e-09,\n",
       "        4.09371630e-09, 4.09371630e-09, 7.10059213e-02, 4.09371630e-09,\n",
       "        4.09371630e-09, 4.09371630e-09, 7.10059213e-02, 2.13017756e-01],\n",
       "       [4.09371630e-09, 4.09371630e-09, 4.09371630e-09, 4.09371630e-09,\n",
       "        4.09371630e-09, 4.09371630e-09, 1.87500004e-01, 4.09371630e-09,\n",
       "        4.09371630e-09, 4.09371630e-09, 1.87500004e-01, 4.09371630e-09,\n",
       "        4.09371630e-09, 1.87500004e-01, 4.09371630e-09, 4.09371630e-09],\n",
       "       [2.50000004e-01, 4.09371630e-09, 4.09371630e-09, 4.09371630e-09,\n",
       "        1.87500004e-01, 4.09371630e-09, 1.09375004e-01, 4.09371630e-09,\n",
       "        4.09371630e-09, 4.09371630e-09, 1.87500004e-01, 4.09371630e-09,\n",
       "        4.09371630e-09, 4.09371630e-09, 1.09375004e-01, 4.09371630e-09],\n",
       "       [4.09371630e-09, 4.09371630e-09, 9.00000041e-02, 4.09371630e-09,\n",
       "        4.09371630e-09, 2.40000004e-01, 1.60000004e-01, 4.09371630e-09,\n",
       "        4.09371630e-09, 2.10000004e-01, 1.60000004e-01, 4.09371630e-09,\n",
       "        1.04100000e+01, 9.00000041e-02, 4.09371630e-09, 9.00000041e-02]])"
      ]
     },
     "execution_count": 14,
     "metadata": {},
     "output_type": "execute_result"
    }
   ],
   "source": [
    "model.sigma_"
   ]
  },
  {
   "cell_type": "code",
   "execution_count": 22,
   "metadata": {},
   "outputs": [
    {
     "data": {
      "text/plain": [
       "<AxesSubplot:>"
      ]
     },
     "execution_count": 22,
     "metadata": {},
     "output_type": "execute_result"
    },
    {
     "data": {
      "image/png": "[encoded data removed]",
      "text/plain": [
       "<Figure size 432x288 with 1 Axes>"
      ]
     },
     "metadata": {
      "needs_background": "light"
     },
     "output_type": "display_data"
    }
   ],
   "source": [
    "import seaborn as sns\n",
    "sns.barplot(data=model.theta_)\n",
    "sns.barplot(data=model.sigma_)"
   ]
  },
  {
   "cell_type": "markdown",
   "metadata": {},
   "source": [
    "#### Preguntes\n",
    "1. Carrega els diferents datasets i explica quin tipus de classificador de bayes creieu que serà més adient per les dades.\n",
    "\n",
    "2. Fés una taula mostrant el accuracy de cada model per cada un dels datasets. \n",
    "\n",
    "3. Mostra els resultats gràficament. Quin tipus de Bayes funciona millor per quin dataset. De mitjana, quin ho fa millor?\n",
    "\n",
    "4. Si el nostre dataset conté dades de diferent naturalesa, és a dir, uns atributs categorics, d'altres continus, d'altres binaris, creus que es podrien combinar els diferents classificadors de bayes? Seguint la formula original, com es faria?\n"
   ]
  },
  {
   "cell_type": "code",
   "execution_count": 7,
   "metadata": {},
   "outputs": [
    {
     "data": {
      "text/plain": [
       "0.96"
      ]
     },
     "execution_count": 7,
     "metadata": {},
     "output_type": "execute_result"
    }
   ],
   "source": [
    "\n",
    "from sklearn.naive_bayes import GaussianNB\n",
    "data = sklearn.datasets.load_iris()\n",
    "X_iris = data.data\n",
    "y_iris = data.target\n",
    "\n",
    "model_gauss = GaussianNB()\n",
    "model_gauss.fit(X_iris, y_iris)\n",
    "\n",
    "yprob = model_gauss.predict_proba(X_iris)\n",
    "\n",
    "model_gauss.score(X_iris, y_iris)\n"
   ]
  },
  {
   "cell_type": "code",
   "execution_count": 8,
   "metadata": {},
   "outputs": [
    {
     "data": {
      "text/plain": [
       "array([0.33333333, 0.33333333, 0.33333333])"
      ]
     },
     "execution_count": 8,
     "metadata": {},
     "output_type": "execute_result"
    }
   ],
   "source": [
    "model_gauss.class_prior_"
   ]
  },
  {
   "cell_type": "code",
   "execution_count": 9,
   "metadata": {},
   "outputs": [
    {
     "data": {
      "text/plain": [
       "array([[1.00000000e+000, 1.35784265e-018, 7.11283512e-026],\n",
       "       [1.00000000e+000, 1.51480769e-017, 2.34820051e-025],\n",
       "       [1.00000000e+000, 1.07304179e-018, 2.34026774e-026],\n",
       "       [1.00000000e+000, 1.46619543e-017, 2.95492722e-025],\n",
       "       [1.00000000e+000, 4.53291917e-019, 2.88389975e-026],\n",
       "       [1.00000000e+000, 1.49094245e-014, 1.75752068e-021],\n",
       "       [1.00000000e+000, 1.10262691e-017, 2.71144689e-025],\n",
       "       [1.00000000e+000, 6.53644612e-018, 2.77336308e-025],\n",
       "       [1.00000000e+000, 9.42227052e-018, 1.20443161e-025],\n",
       "       [1.00000000e+000, 3.42348334e-018, 1.20750647e-025],\n",
       "       [1.00000000e+000, 4.38090482e-018, 5.06830427e-025],\n",
       "       [1.00000000e+000, 1.65766943e-017, 7.24748728e-025],\n",
       "       [1.00000000e+000, 1.27573119e-018, 3.28718898e-026],\n",
       "       [1.00000000e+000, 7.73742183e-020, 1.86207920e-027],\n",
       "       [1.00000000e+000, 2.43526387e-019, 8.23627924e-026],\n",
       "       [1.00000000e+000, 3.04074398e-017, 1.66211400e-023],\n",
       "       [1.00000000e+000, 5.42610885e-017, 4.60661360e-024],\n",
       "       [1.00000000e+000, 2.33427918e-017, 8.15420956e-025],\n",
       "       [1.00000000e+000, 6.06809097e-015, 1.02748629e-021],\n",
       "       [1.00000000e+000, 8.54558679e-018, 6.78962703e-025],\n",
       "       [1.00000000e+000, 1.13506227e-015, 7.65275253e-023],\n",
       "       [1.00000000e+000, 6.22989337e-016, 2.90267936e-023],\n",
       "       [1.00000000e+000, 1.89645477e-020, 9.48817058e-028],\n",
       "       [1.00000000e+000, 1.99398085e-011, 3.68049199e-019],\n",
       "       [1.00000000e+000, 1.00058879e-014, 6.15534153e-022],\n",
       "       [1.00000000e+000, 3.49841784e-016, 6.62285086e-024],\n",
       "       [1.00000000e+000, 1.75721873e-014, 4.10706738e-022],\n",
       "       [1.00000000e+000, 7.26529230e-018, 4.36708593e-025],\n",
       "       [1.00000000e+000, 4.11331036e-018, 1.80735687e-025],\n",
       "       [1.00000000e+000, 4.67240237e-017, 1.27884939e-024],\n",
       "       [1.00000000e+000, 1.07710163e-016, 2.38609460e-024],\n",
       "       [1.00000000e+000, 2.17820325e-014, 6.12672716e-022],\n",
       "       [1.00000000e+000, 6.58781348e-021, 3.14606961e-027],\n",
       "       [1.00000000e+000, 3.04886902e-020, 1.36260578e-026],\n",
       "       [1.00000000e+000, 3.04840351e-017, 6.32348452e-025],\n",
       "       [1.00000000e+000, 1.29727473e-018, 2.87999446e-026],\n",
       "       [1.00000000e+000, 3.59748108e-018, 2.45102343e-025],\n",
       "       [1.00000000e+000, 3.65380825e-020, 3.81384200e-027],\n",
       "       [1.00000000e+000, 2.11976920e-018, 3.13900962e-026],\n",
       "       [1.00000000e+000, 9.51488554e-018, 4.23900719e-025],\n",
       "       [1.00000000e+000, 6.10454787e-018, 1.90690879e-025],\n",
       "       [1.00000000e+000, 8.16634024e-016, 2.02011747e-024],\n",
       "       [1.00000000e+000, 6.71335191e-019, 1.53850038e-026],\n",
       "       [1.00000000e+000, 6.99329490e-011, 1.72796105e-018],\n",
       "       [1.00000000e+000, 8.06641165e-013, 7.44897611e-020],\n",
       "       [1.00000000e+000, 1.95284044e-016, 1.97347120e-024],\n",
       "       [1.00000000e+000, 2.34216163e-018, 3.04846703e-025],\n",
       "       [1.00000000e+000, 2.30742580e-018, 5.37811977e-026],\n",
       "       [1.00000000e+000, 2.63876217e-018, 2.79566024e-025],\n",
       "       [1.00000000e+000, 3.58192707e-018, 1.11709612e-025],\n",
       "       [3.21380935e-109, 8.04037666e-001, 1.95962334e-001],\n",
       "       [7.27347795e-102, 9.45169639e-001, 5.48303606e-002],\n",
       "       [1.87142859e-123, 4.56151317e-001, 5.43848683e-001],\n",
       "       [4.26269818e-071, 9.99968751e-001, 3.12488556e-005],\n",
       "       [1.03323094e-107, 9.52441811e-001, 4.75581888e-002],\n",
       "       [2.87936711e-091, 9.99119627e-001, 8.80372566e-004],\n",
       "       [2.24730551e-115, 6.58952285e-001, 3.41047715e-001],\n",
       "       [5.06775312e-035, 9.99999767e-001, 2.33206910e-007],\n",
       "       [6.89469668e-099, 9.90316309e-001, 9.68369084e-003],\n",
       "       [1.94537625e-070, 9.99909746e-001, 9.02536083e-005],\n",
       "       [1.07499306e-041, 9.99999765e-001, 2.35068227e-007],\n",
       "       [8.39601787e-088, 9.96238286e-001, 3.76171369e-003],\n",
       "       [2.74599487e-061, 9.99993984e-001, 6.01632484e-006],\n",
       "       [8.03553250e-106, 9.86090825e-001, 1.39091754e-002],\n",
       "       [3.59466071e-056, 9.99975387e-001, 2.46126406e-005],\n",
       "       [1.95488829e-094, 9.80037003e-001, 1.99629974e-002],\n",
       "       [1.36110261e-099, 9.90687273e-001, 9.31272734e-003],\n",
       "       [1.07527617e-063, 9.99983663e-001, 1.63372809e-005],\n",
       "       [5.69746845e-103, 9.94697108e-001, 5.30289217e-003],\n",
       "       [1.94753554e-059, 9.99993006e-001, 6.99364316e-006],\n",
       "       [2.59153803e-130, 1.54494085e-001, 8.45505915e-001],\n",
       "       [4.50400610e-072, 9.99807026e-001, 1.92973847e-004],\n",
       "       [1.21785680e-121, 9.27077052e-001, 7.29229479e-002],\n",
       "       [1.46662222e-097, 9.98156519e-001, 1.84348055e-003],\n",
       "       [5.99023192e-085, 9.98460816e-001, 1.53918416e-003],\n",
       "       [3.30685495e-094, 9.87471082e-001, 1.25289184e-002],\n",
       "       [8.26876145e-114, 9.12844444e-001, 8.71555561e-002],\n",
       "       [1.16988122e-138, 7.52691316e-002, 9.24730868e-001],\n",
       "       [4.79014570e-101, 9.86480268e-001, 1.35197316e-002],\n",
       "       [2.03454675e-042, 9.99998762e-001, 1.23794211e-006],\n",
       "       [9.57864668e-056, 9.99996447e-001, 3.55251831e-006],\n",
       "       [9.25826782e-049, 9.99998651e-001, 1.34923924e-006],\n",
       "       [1.84940680e-063, 9.99972348e-001, 2.76523927e-005],\n",
       "       [2.14069731e-135, 6.12159845e-001, 3.87840155e-001],\n",
       "       [4.28650560e-099, 9.92476638e-001, 7.52336225e-003],\n",
       "       [9.18770726e-105, 8.76107551e-001, 1.23892449e-001],\n",
       "       [1.26187890e-112, 7.99294752e-001, 2.00705248e-001],\n",
       "       [7.75621059e-090, 9.99385417e-001, 6.14582528e-004],\n",
       "       [6.73000847e-074, 9.99796270e-001, 2.03730114e-004],\n",
       "       [8.52591874e-071, 9.99955234e-001, 4.47664633e-005],\n",
       "       [1.13186560e-082, 9.99873680e-001, 1.26320322e-004],\n",
       "       [5.50870062e-101, 9.89371467e-001, 1.06285328e-002],\n",
       "       [2.30685845e-067, 9.99966229e-001, 3.37713204e-005],\n",
       "       [2.61419455e-035, 9.99999798e-001, 2.02487922e-007],\n",
       "       [1.63464087e-078, 9.99832329e-001, 1.67671378e-004],\n",
       "       [4.69091927e-074, 9.99849875e-001, 1.50125138e-004],\n",
       "       [2.24117241e-078, 9.99714947e-001, 2.85053350e-004],\n",
       "       [3.79879555e-084, 9.98992363e-001, 1.00763708e-003],\n",
       "       [1.39238418e-030, 9.99999769e-001, 2.31316897e-007],\n",
       "       [1.28255689e-074, 9.99847160e-001, 1.52839987e-004],\n",
       "       [3.23245181e-254, 6.35381031e-011, 1.00000000e+000],\n",
       "       [1.06947698e-152, 2.50121636e-002, 9.74987836e-001],\n",
       "       [9.29757229e-221, 1.67915381e-007, 9.99999832e-001],\n",
       "       [8.19326602e-177, 1.99462374e-003, 9.98005376e-001],\n",
       "       [3.53169727e-218, 2.30543408e-007, 9.99999769e-001],\n",
       "       [4.66035479e-273, 2.40976995e-010, 1.00000000e+000],\n",
       "       [2.23463702e-109, 9.73514345e-001, 2.64856553e-002],\n",
       "       [9.79175322e-229, 1.34018147e-006, 9.99998660e-001],\n",
       "       [7.96991225e-192, 4.92901785e-004, 9.99507098e-001],\n",
       "       [9.77310473e-266, 1.40568403e-012, 1.00000000e+000],\n",
       "       [4.89513706e-162, 4.12884116e-004, 9.99587116e-001],\n",
       "       [1.94650439e-166, 2.77742178e-003, 9.97222578e-001],\n",
       "       [5.65575523e-194, 4.80711862e-006, 9.99995193e-001],\n",
       "       [5.02341663e-154, 1.28807070e-002, 9.87119293e-001],\n",
       "       [3.39845739e-190, 1.04253685e-006, 9.99998957e-001],\n",
       "       [3.62196003e-195, 4.50951786e-007, 9.99999549e-001],\n",
       "       [1.05264323e-171, 1.87196581e-003, 9.98128034e-001],\n",
       "       [2.37149659e-287, 1.64574932e-012, 1.00000000e+000],\n",
       "       [1.53723729e-312, 6.47406861e-013, 1.00000000e+000],\n",
       "       [6.31086515e-126, 9.58135362e-001, 4.18646381e-002],\n",
       "       [7.89162997e-222, 1.17116897e-008, 9.99999988e-001],\n",
       "       [3.56137500e-148, 1.37625971e-002, 9.86237403e-001],\n",
       "       [1.99492777e-274, 7.58240410e-010, 9.99999999e-001],\n",
       "       [7.67047647e-138, 1.29986728e-001, 8.70013272e-001],\n",
       "       [4.92284385e-205, 9.71777952e-007, 9.99999028e-001],\n",
       "       [3.71633871e-207, 7.39901993e-006, 9.99992601e-001],\n",
       "       [3.33635564e-132, 1.99928220e-001, 8.00071780e-001],\n",
       "       [1.61795839e-136, 1.07483532e-001, 8.92516468e-001],\n",
       "       [5.64350404e-198, 1.09467814e-005, 9.99989053e-001],\n",
       "       [1.54090618e-182, 7.01805717e-004, 9.99298194e-001],\n",
       "       [2.21131951e-222, 9.06238441e-007, 9.99999094e-001],\n",
       "       [2.23671366e-252, 2.96730516e-010, 1.00000000e+000],\n",
       "       [1.68672118e-205, 1.50788229e-006, 9.99998492e-001],\n",
       "       [2.68382583e-131, 7.12645144e-001, 2.87354856e-001],\n",
       "       [6.80723305e-154, 4.86199285e-001, 5.13800715e-001],\n",
       "       [6.08114349e-254, 8.98578646e-011, 1.00000000e+000],\n",
       "       [3.90608086e-220, 6.58848820e-009, 9.99999993e-001],\n",
       "       [5.02789443e-171, 1.90227600e-003, 9.98097724e-001],\n",
       "       [4.75226288e-131, 1.93183856e-001, 8.06816144e-001],\n",
       "       [1.40365213e-188, 5.23126458e-006, 9.99994769e-001],\n",
       "       [8.02061979e-223, 5.01446576e-009, 9.99999995e-001],\n",
       "       [3.87252859e-187, 4.67798053e-007, 9.99999532e-001],\n",
       "       [1.06947698e-152, 2.50121636e-002, 9.74987836e-001],\n",
       "       [7.07688248e-234, 4.42556022e-009, 9.99999996e-001],\n",
       "       [3.56898830e-237, 1.64602693e-010, 1.00000000e+000],\n",
       "       [1.56556628e-191, 5.85507962e-007, 9.99999414e-001],\n",
       "       [1.06062035e-149, 2.54457623e-002, 9.74554238e-001],\n",
       "       [7.98859322e-168, 3.70166862e-004, 9.99629833e-001],\n",
       "       [1.44378562e-199, 2.46020435e-007, 9.99999754e-001],\n",
       "       [3.25988243e-146, 5.60050092e-002, 9.43994991e-001]])"
      ]
     },
     "execution_count": 9,
     "metadata": {},
     "output_type": "execute_result"
    }
   ],
   "source": [
    "yprob"
   ]
  },
  {
   "cell_type": "markdown",
   "metadata": {},
   "source": [
    "## B. Implementació Naive Bayes (40%)\n",
    "\n",
    "En aquest apartat implementarem un classificador Ingenu de Bayes per cada un dels tipus de dades. Per fer això, i que sigui fàcil de comparar amb els resultats del apartat anterior, feu servir un esquelet similar al següent:\n",
    "        \n"
   ]
  },
  {
   "cell_type": "markdown",
   "metadata": {},
   "source": [
    "### NaiveBayes Base"
   ]
  },
  {
   "cell_type": "code",
   "execution_count": 10,
   "metadata": {},
   "outputs": [],
   "source": [
    "class NaiveBayes(object):\n",
    "    def __init__(self, alpha):\n",
    "        self.alpha = alpha\n",
    "        self.n_samples = 0\n",
    "        self.class_count_ = []  # numero de exemples de cada categoria\n",
    "        self.class_prior_ = []  # prior per cada categoria\n",
    "        self.classes_ = []      # nom o etiqueta de cada label\n",
    "        \n",
    "\n",
    "    def __str__(self):\n",
    "        # toString()  \n",
    "        return (self.__class__.__name__+\"()\")\n",
    "        \n",
    "    def calcular_conditional(self, X, y):\n",
    "        \"\"\"\n",
    "        Compute the conditional probability for the training data for each feature\n",
    "        \"\"\"\n",
    "        raise(\"TO BE DONE. Ho heu que implementar per cada subclasse\")\n",
    "    \n",
    "    def calcular_likelihood_log(self, X):\n",
    "        \"\"\"\n",
    "        Compute the unnormalized posterior log probability of X\n",
    "        \"\"\"\n",
    "        raise(\"TO BE DONE. Ho heu que implementar per cada subclasse\")\n",
    "\n",
    "    def calcular_prior(self, y):\n",
    "        self.class_count_ = []\n",
    "        for i in range(len(self.classes_)):\n",
    "            self.class_count_.append(np.sum(y==self.classes_[i]))\n",
    "        self.class_prior_ = self.class_count_ / np.sum(self.class_count_)\n",
    "\n",
    "    def predict(self, X):\n",
    "        probs = self.predict_proba(X)\n",
    "        return self.classes_[np.argmax(probs, axis=1)]\n",
    "    \n",
    "    def predict_proba(self, X):\n",
    "        probs = np.exp(self.predict_log_proba(X))\n",
    "        total_sum = np.sum(probs, axis=1)\n",
    "        for i in range(len(self.classes_)):\n",
    "            probs[:,i] /= total_sum\n",
    "        return probs\n",
    "\n",
    "    def predict_log_proba(self, X):\n",
    "        probs = self.calcular_likelihood_log(X)\n",
    "        for i in range(len(self.classes_)):\n",
    "            probs[:,i] += np.log(self.class_prior_[i])\n",
    "        return probs\n",
    "\n",
    "    \n",
    "    def score(self, X, y):\n",
    "        return np.sum(self.predict(X) == y) / len(y)\n",
    "        \n",
    "    def fit(self, X, y):\n",
    "\n",
    "        self.n_samples = X.shape[0]\n",
    "        self.classes_ = np.unique(y)\n",
    "\n",
    "        # calcular p(y)\n",
    "        self.calcular_prior(y)\n",
    "        \n",
    "        # per cada una de les columnes de x\n",
    "        for i in range(X.shape[1]):\n",
    "            # calcular p(xi | y)\n",
    "            self.calcular_conditional(X, y)\n",
    "        \n"
   ]
  },
  {
   "cell_type": "markdown",
   "metadata": {},
   "source": [
    "### GaussianNaiveBayes"
   ]
  },
  {
   "cell_type": "code",
   "execution_count": 11,
   "metadata": {},
   "outputs": [],
   "source": [
    "class GaussianNaiveBayes(NaiveBayes):\n",
    "    def __init__(self, alpha=1):\n",
    "        super().__init__(alpha)\n",
    "        self.theta_ = None  # mean\n",
    "        self.sigma_ = None  # var\n",
    "        \n",
    "\n",
    "    def calcular_conditional(self, X, y):\n",
    "        # todo\n",
    "        self.theta_ = np.zeros((len(self.classes_), X.shape[1]))\n",
    "        self.sigma_ = np.zeros((len(self.classes_), X.shape[1]))\n",
    "                            \n",
    "        for i in range(len(self.classes_)):\n",
    "            idx = y==self.classes_[i]\n",
    "            self.theta_[i,:] = np.mean(X[idx, :], axis=0)\n",
    "            self.sigma_[i,:] = np.var(X[idx, :], axis=0)\n",
    "        pass\n",
    "    \n",
    "    def calcular_likelihood_log(self, X):\n",
    "        log_likelihood = []\n",
    "        for i in range(len(self.classes_)):\n",
    "            n_ij = - 0.5 * np.sum(np.log(2. * np.pi * self.sigma_[i, :]))\n",
    "            n_ij -= 0.5 * np.sum(((X - self.theta_[i, :]) ** 2) /\n",
    "                                (self.sigma_[i, :]), 1)\n",
    "            \n",
    "            # e1 = 1 / (np.sqrt(2 * np.pi * self.sigma_[i, :]))\n",
    "            # e2 = np.exp( - ((X - self.theta_[i, :]) ** 2) / (2 * self.sigma_[i, :]) )\n",
    "            \n",
    "            # n_ij = np.log(np.sum(e1 * e2, axis=1))\n",
    "            \n",
    "            log_likelihood.append(n_ij)\n",
    "\n",
    "        return np.array(log_likelihood).T\n",
    "        "
   ]
  },
  {
   "cell_type": "code",
   "execution_count": 12,
   "metadata": {},
   "outputs": [
    {
     "data": {
      "text/plain": [
       "0.96"
      ]
     },
     "execution_count": 12,
     "metadata": {},
     "output_type": "execute_result"
    }
   ],
   "source": [
    "my_model = GaussianNaiveBayes()\n",
    "my_model.fit(X_iris, y_iris)\n",
    "yprob = my_model.predict_proba(X_iris)\n",
    "my_model.score(X_iris, y_iris)"
   ]
  },
  {
   "cell_type": "code",
   "execution_count": 13,
   "metadata": {},
   "outputs": [
    {
     "name": "stdout",
     "output_type": "stream",
     "text": [
      "[0 1 2]\n",
      "[50. 50. 50.]\n",
      "[0.33333333 0.33333333 0.33333333]\n",
      "[0 1 2]\n",
      "[50, 50, 50]\n",
      "[0.33333333 0.33333333 0.33333333]\n"
     ]
    }
   ],
   "source": [
    "print(model_gauss.classes_)\n",
    "print(model_gauss.class_count_)\n",
    "print(model_gauss.class_prior_)\n",
    "\n",
    "print(my_model.classes_)\n",
    "print(my_model.class_count_)\n",
    "print(my_model.class_prior_)\n"
   ]
  },
  {
   "cell_type": "code",
   "execution_count": 14,
   "metadata": {},
   "outputs": [
    {
     "name": "stdout",
     "output_type": "stream",
     "text": [
      "[[0.121764 0.140816 0.029556 0.010884]\n",
      " [0.261104 0.0965   0.2164   0.038324]\n",
      " [0.396256 0.101924 0.298496 0.073924]]\n",
      "[[0.121764 0.140816 0.029556 0.010884]\n",
      " [0.261104 0.0965   0.2164   0.038324]\n",
      " [0.396256 0.101924 0.298496 0.073924]]\n",
      "[[5.006 3.428 1.462 0.246]\n",
      " [5.936 2.77  4.26  1.326]\n",
      " [6.588 2.974 5.552 2.026]]\n",
      "[[5.006 3.428 1.462 0.246]\n",
      " [5.936 2.77  4.26  1.326]\n",
      " [6.588 2.974 5.552 2.026]]\n"
     ]
    }
   ],
   "source": [
    "print(my_model.sigma_)\n",
    "print(model_gauss.sigma_)\n",
    "\n",
    "print(my_model.theta_)\n",
    "print(model_gauss.theta_)\n"
   ]
  },
  {
   "cell_type": "markdown",
   "metadata": {},
   "source": [
    "### CategoricalNaiveBayes"
   ]
  },
  {
   "cell_type": "code",
   "execution_count": 15,
   "metadata": {},
   "outputs": [],
   "source": [
    "class CategoricalNaiveBayes(NaiveBayes):\n",
    "    def __init__(self, alpha=1):\n",
    "        super().__init__(alpha)\n",
    "        self.category_count_ = []\n",
    "        self.feature_log_prob_ = []\n",
    "        \n",
    "    def calcular_likelihood_log(self, X):\n",
    "        # todo\n",
    "        X = X.astype('int64')\n",
    "        output = np.zeros((X.shape[0], len(self.classes_)))\n",
    "        for i in range(X.shape[1]):\n",
    "            for j in range(len(self.classes_)):\n",
    "                output[:, j] += self.feature_log_prob_[i][j][X[:,i]]\n",
    "             \n",
    "        return output\n",
    "    \n",
    "    def calcular_conditional(self, X, y):\n",
    "        # todo\n",
    "        X = X.astype('int64')\n",
    "        self.category_count_ = []\n",
    "        for i in range(X.shape[1]):\n",
    "            list_per_class = []\n",
    "            total_distinct_data = np.bincount(X[:,i])\n",
    "            for j in range(len(self.classes_)):\n",
    "                list_per_class.append(np.bincount(X[y==self.classes_[j],i], minlength=len(total_distinct_data)))\n",
    "            self.category_count_.append(list_per_class)\n",
    "        \n",
    "        self.feature_log_prob_ = []\n",
    "        for i in range(X.shape[1]):\n",
    "            self.feature_log_prob_.append([])\n",
    "            for j in range(len(self.classes_)):\n",
    "                self.feature_log_prob_[i].append(np.log(self.category_count_[i][j] + self.alpha) - \n",
    "                                                 np.log(np.sum(self.category_count_[i][j])+ self.alpha*len(self.category_count_[i][j])))\n"
   ]
  },
  {
   "cell_type": "code",
   "execution_count": 16,
   "metadata": {},
   "outputs": [
    {
     "data": {
      "text/plain": [
       "[[array([0, 3, 2]), array([4, 2, 3])],\n",
       " [array([1, 2, 2]), array([3, 2, 4])],\n",
       " [array([4, 1]), array([3, 6])],\n",
       " [array([2, 3]), array([6, 3])]]"
      ]
     },
     "execution_count": 16,
     "metadata": {},
     "output_type": "execute_result"
    }
   ],
   "source": [
    "X_golf_encoded, y_golf = load_dataset(dataset_name)\n",
    "my_model = CategoricalNaiveBayes()\n",
    "my_model.fit(X_golf_encoded, y_golf)\n",
    "my_model.category_count_\n",
    "my_model.feature_log_prob_\n",
    "\n",
    "my_model = CategoricalNB()\n",
    "my_model.fit(X_golf_encoded, y_golf)\n",
    "my_model.category_count_\n",
    "my_model.feature_log_prob_\n",
    "\n",
    "#print(my_model.score(X_golf_encoded, y_golf))\n",
    "#print(model_cat.score(X_golf_encoded, y_golf))\n"
   ]
  },
  {
   "cell_type": "code",
   "execution_count": 17,
   "metadata": {},
   "outputs": [
    {
     "data": {
      "text/plain": [
       "array([[-3.88736595, -4.67800751],\n",
       "       [-3.59968388, -5.2376233 ],\n",
       "       [-5.27366031, -4.16718189],\n",
       "       [-4.17504802, -3.87949981],\n",
       "       [-5.49680386, -3.54302758],\n",
       "       [-5.20912179, -4.10264337],\n",
       "       [-6.30773408, -3.87949981],\n",
       "       [-3.88736595, -4.16718189],\n",
       "       [-5.20912179, -3.83070965],\n",
       "       [-5.09133875, -3.31988403],\n",
       "       [-4.51597461, -4.16718189],\n",
       "       [-4.98597824, -4.21597205],\n",
       "       [-6.18995104, -3.6075661 ],\n",
       "       [-3.88736595, -4.4391156 ]])"
      ]
     },
     "execution_count": 17,
     "metadata": {},
     "output_type": "execute_result"
    }
   ],
   "source": [
    "my_model.predict_log_proba(X_golf_encoded)\n"
   ]
  },
  {
   "cell_type": "code",
   "execution_count": 18,
   "metadata": {},
   "outputs": [
    {
     "data": {
      "text/plain": [
       "array([[-0.3740114 , -1.16465296],\n",
       "       [-0.17762736, -1.81556678],\n",
       "       [-1.39219975, -0.28572133],\n",
       "       [-0.85180037, -0.55625216],\n",
       "       [-2.08632779, -0.1325515 ],\n",
       "       [-1.39219975, -0.28572133],\n",
       "       [-2.51275225, -0.08451799],\n",
       "       [-0.56299457, -0.84281051],\n",
       "       [-1.60313711, -0.22472497],\n",
       "       [-1.92853145, -0.15707672],\n",
       "       [-0.88267412, -0.5338814 ],\n",
       "       [-1.15050228, -0.3804961 ],\n",
       "       [-2.65525755, -0.0728726 ],\n",
       "       [-0.4548527 , -1.00660235]])"
      ]
     },
     "execution_count": 18,
     "metadata": {},
     "output_type": "execute_result"
    }
   ],
   "source": [
    "model_cat.predict_log_proba(X_golf_encoded)\n"
   ]
  },
  {
   "cell_type": "markdown",
   "metadata": {},
   "source": [
    "### MultinomialNaiveBayes"
   ]
  },
  {
   "cell_type": "code",
   "execution_count": 19,
   "metadata": {},
   "outputs": [],
   "source": [
    "class MultinomialNaiveBayes(NaiveBayes):\n",
    "    def __init__(self, alpha=1):\n",
    "        super().__init__(alpha)\n",
    "        self.feature_log_prob_ = []\n",
    "\n",
    "    def calcular_likelihood_log(self, X):\n",
    "        # todo\n",
    "        output = X.dot(self.feature_log_prob_.T)\n",
    "             \n",
    "        return output\n",
    "\n",
    "    def calcular_conditional(self, X, y):\n",
    "        # todo\n",
    "        self.feature_log_prob_ = []\n",
    "        for j in range(len(self.classes_)):\n",
    "            Nyi = np.sum(X[y==self.classes_[j],:], axis=0)\n",
    "            totalNy = np.sum(Nyi)\n",
    "            Nyi = np.squeeze(np.asarray(Nyi))\n",
    "            self.feature_log_prob_.append(np.log((Nyi+self.alpha)/(totalNy+self.alpha*X.shape[1])))  \n",
    "        self.feature_log_prob_ = np.asarray(self.feature_log_prob_)\n"
   ]
  },
  {
   "cell_type": "code",
   "execution_count": 20,
   "metadata": {},
   "outputs": [],
   "source": [
    "if 0:\n",
    "    from sklearn.datasets import fetch_20newsgroups\n",
    "\n",
    "    categories = ['talk.religion.misc', 'soc.religion.christian',\n",
    "                 'sci.space', 'comp.graphics']\n",
    "    train = fetch_20newsgroups(subset='train', categories=categories)\n",
    "    test = fetch_20newsgroups(subset='test', categories=categories)\n",
    "\n",
    "    from sklearn.feature_extraction.text import TfidfVectorizer\n",
    "    from sklearn.naive_bayes import MultinomialNB\n",
    "    from sklearn.pipeline import make_pipeline\n",
    "\n",
    "    model = make_pipeline(TfidfVectorizer(max_features=100), MultinomialNB())\n",
    "    model.fit(train.data, train.target)\n",
    "    labels = model.predict(test.data)\n",
    "    model.score(test.data, test.target)\n",
    "    \n"
   ]
  },
  {
   "cell_type": "code",
   "execution_count": 21,
   "metadata": {},
   "outputs": [],
   "source": [
    "if 0:\n",
    "    my_model = make_pipeline(TfidfVectorizer(max_features=100), MultinomialNaiveBayes())\n",
    "    my_model.fit(train.data, train.target)\n",
    "    labels = my_model.predict(test.data)\n",
    "    my_model.score(test.data, test.target)\n"
   ]
  },
  {
   "cell_type": "markdown",
   "metadata": {},
   "source": [
    "### BernoulliNaiveBayes"
   ]
  },
  {
   "cell_type": "code",
   "execution_count": 22,
   "metadata": {},
   "outputs": [],
   "source": [
    "class BernoulliNaiveBayes(NaiveBayes):\n",
    "    def __init__(self, alpha=1):\n",
    "        super().__init__(alpha)\n",
    "        self.feature_count_ = []\n",
    "        \n",
    "    def calcular_likelihood_log(self, X):\n",
    "        \n",
    "        # todo\n",
    "        return np.zeros((X.shape[0], len(self.classes_)))\n",
    "\n",
    "    def calcular_conditional(self, X, y):\n",
    "        # todo\n",
    "        pass"
   ]
  },
  {
   "cell_type": "markdown",
   "metadata": {},
   "source": [
    "#### Preguntes\n",
    "1. Implementa $P(x_i|y)$ per dades categoriques (Categorical Naive Bayes)\n",
    "2. Implementa $P(x_i|y)$ per dades continues (Gaussian Naive Bayes)\n",
    "3. Implementa $P(x_i|y)$ per dades ordinals (Multinomial Naive Bayes)\n",
    "4. Implementa $P(x_i|y)$ per dades binaries (Bernoulli Naive Bayes)\n",
    "5. Compara els resultats obtinguts amb els de sklearn. S'assemblen?\n"
   ]
  },
  {
   "cell_type": "code",
   "execution_count": 23,
   "metadata": {},
   "outputs": [
    {
     "name": "stdout",
     "output_type": "stream",
     "text": [
      "iris + CategoricalNB()      = 0.933\n",
      "iris + CategoricalNaiveBayes() = 0.933\n",
      "iris + GaussianNB()         = 0.960\n",
      "iris + GaussianNaiveBayes() = 0.960\n",
      "iris + MultinomialNB()      = 0.953\n",
      "iris + MultinomialNaiveBayes() = 0.953\n",
      "iris + BernoulliNB()        = 0.333\n",
      "iris + BernoulliNaiveBayes() = 0.333\n",
      "playgolf + CategoricalNB()      = 0.929\n",
      "playgolf + CategoricalNaiveBayes() = 0.929\n",
      "playgolf + GaussianNB()         = 0.857\n",
      "playgolf + GaussianNaiveBayes() = 0.857\n",
      "playgolf + MultinomialNB()      = 0.786\n",
      "playgolf + MultinomialNaiveBayes() = 0.786\n",
      "playgolf + BernoulliNB()        = 0.857\n",
      "playgolf + BernoulliNaiveBayes() = 0.643\n",
      "zoo + CategoricalNB()      = 1.000\n",
      "zoo + CategoricalNaiveBayes() = 1.000\n",
      "zoo + GaussianNB()         = 1.000\n",
      "zoo + GaussianNaiveBayes() = 0.406\n",
      "zoo + MultinomialNB()      = 0.921\n",
      "zoo + MultinomialNaiveBayes() = 0.921\n",
      "zoo + BernoulliNB()        = 0.990\n",
      "zoo + BernoulliNaiveBayes() = 0.406\n",
      "heart-disease-uci + CategoricalNB()      = 0.911\n",
      "heart-disease-uci + CategoricalNaiveBayes() = 0.911\n",
      "heart-disease-uci + GaussianNB()         = 0.842\n",
      "heart-disease-uci + GaussianNaiveBayes() = 0.842\n",
      "heart-disease-uci + MultinomialNB()      = 0.752\n",
      "heart-disease-uci + MultinomialNaiveBayes() = 0.538\n",
      "heart-disease-uci + BernoulliNB()        = 0.832\n",
      "heart-disease-uci + BernoulliNaiveBayes() = 0.545\n"
     ]
    },
    {
     "name": "stderr",
     "output_type": "stream",
     "text": [
      "<ipython-input-11-c9f1e466f60f>:22: RuntimeWarning: divide by zero encountered in log\n",
      "  n_ij = - 0.5 * np.sum(np.log(2. * np.pi * self.sigma_[i, :]))\n",
      "<ipython-input-11-c9f1e466f60f>:23: RuntimeWarning: divide by zero encountered in true_divide\n",
      "  n_ij -= 0.5 * np.sum(((X - self.theta_[i, :]) ** 2) /\n",
      "<ipython-input-11-c9f1e466f60f>:23: RuntimeWarning: invalid value encountered in true_divide\n",
      "  n_ij -= 0.5 * np.sum(((X - self.theta_[i, :]) ** 2) /\n",
      "<ipython-input-10-a1421901f25d>:40: RuntimeWarning: invalid value encountered in true_divide\n",
      "  probs[:,i] /= total_sum\n"
     ]
    },
    {
     "name": "stdout",
     "output_type": "stream",
     "text": [
      "20newsgroups + CategoricalNB()      = 0.278\n",
      "20newsgroups + CategoricalNaiveBayes() = 0.278\n",
      "20newsgroups + GaussianNB()         = 0.653\n"
     ]
    },
    {
     "name": "stderr",
     "output_type": "stream",
     "text": [
      "<ipython-input-11-c9f1e466f60f>:22: RuntimeWarning: divide by zero encountered in log\n",
      "  n_ij = - 0.5 * np.sum(np.log(2. * np.pi * self.sigma_[i, :]))\n",
      "<ipython-input-11-c9f1e466f60f>:23: RuntimeWarning: divide by zero encountered in true_divide\n",
      "  n_ij -= 0.5 * np.sum(((X - self.theta_[i, :]) ** 2) /\n",
      "<ipython-input-11-c9f1e466f60f>:23: RuntimeWarning: invalid value encountered in true_divide\n",
      "  n_ij -= 0.5 * np.sum(((X - self.theta_[i, :]) ** 2) /\n",
      "<ipython-input-11-c9f1e466f60f>:23: RuntimeWarning: invalid value encountered in subtract\n",
      "  n_ij -= 0.5 * np.sum(((X - self.theta_[i, :]) ** 2) /\n"
     ]
    },
    {
     "name": "stdout",
     "output_type": "stream",
     "text": [
      "20newsgroups + GaussianNaiveBayes() = 0.271\n",
      "20newsgroups + MultinomialNB()      = 0.698\n",
      "20newsgroups + MultinomialNaiveBayes() = 0.698\n",
      "20newsgroups + BernoulliNB()        = 0.592\n",
      "20newsgroups + BernoulliNaiveBayes() = 0.278\n",
      "DONE\n"
     ]
    }
   ],
   "source": [
    "from sklearn.naive_bayes import GaussianNB, MultinomialNB, BernoulliNB, CategoricalNB\n",
    "\n",
    "models = [CategoricalNB(), CategoricalNaiveBayes(),\n",
    "          GaussianNB(), GaussianNaiveBayes(), \n",
    "          MultinomialNB(),MultinomialNaiveBayes(), \n",
    "          BernoulliNB(), BernoulliNaiveBayes()]\n",
    "datasets = ['iris', 'playgolf', 'zoo', 'heart-disease-uci', '20newsgroups']\n",
    "\n",
    "for d in datasets:\n",
    "    for m in models:\n",
    "        result = experiment(d, m)\n",
    "        print('{} + {:20} = {:.3f}'.format(d, str(m), result))\n",
    "\n",
    "print(\"DONE\")"
   ]
  },
  {
   "cell_type": "code",
   "execution_count": 24,
   "metadata": {},
   "outputs": [
    {
     "name": "stderr",
     "output_type": "stream",
     "text": [
      "ERROR:root:No traceback has been produced, nothing to debug.\n"
     ]
    }
   ],
   "source": [
    "%debug"
   ]
  },
  {
   "cell_type": "markdown",
   "metadata": {},
   "source": [
    "## Appendix"
   ]
  },
  {
   "cell_type": "markdown",
   "metadata": {},
   "source": [
    "<!--BOOK_INFORMATION-->\n",
    "<img align=\"left\" style=\"padding-right:10px;\" src=\"https://github.com/jakevdp/PythonDataScienceHandbook/blob/master/notebooks/figures/PDSH-cover-small.png?raw=1\">\n",
    "\n",
    "*Aquesta subsecció conté parts extretes de [Python Data Science Handbook](http://shop.oreilly.com/product/0636920034919.do) by Jake VanderPlas; i està disponible a [GitHub](https://github.com/jakevdp/PythonDataScienceHandbook).*\n",
    "\n",
    "\n",
    "\n",
    "Naive Bayes models are a group of extremely fast and simple classification algorithms that are often suitable for very high-dimensional datasets.\n",
    "\n",
    "Because they are so fast and have so few tunable parameters, they end up being very useful as a quick-and-dirty baseline for a classification problem.\n",
    "\n",
    "This section will focus on an intuitive explanation of how naive Bayes classifiers work, followed by a couple examples of them in action on some datasets."
   ]
  },
  {
   "cell_type": "markdown",
   "metadata": {},
   "source": [
    "### Bayesian Classification\n",
    "\n",
    "Naive Bayes classifiers are built on Bayesian classification methods.\n",
    "\n",
    "These rely on Bayes's theorem, which is an equation describing the relationship of conditional probabilities of statistical quantities.\n",
    "\n",
    "In Bayesian classification, we're interested in finding the probability of a label given some observed features, which we can write as $P(L~|~{\\rm features})$.\n",
    "\n",
    "Bayes's theorem tells us how to express this in terms of quantities we can compute more directly:\n",
    "\n",
    "$$\n",
    "P(L~|~{\\rm features}) = \\frac{P({\\rm features}~|~L)P(L)}{P({\\rm features})}\n",
    "$$\n",
    "\n",
    "If we are trying to decide between two labels—let's call them $L_1$ and $L_2$—then one way to make this decision is to compute the ratio of the posterior probabilities for each label:\n",
    "\n",
    "$$\n",
    "\\frac{P(L_1~|~{\\rm features})}{P(L_2~|~{\\rm features})} = \\frac{P({\\rm features}~|~L_1)}{P({\\rm features}~|~L_2)}\\frac{P(L_1)}{P(L_2)}\n",
    "$$\n",
    "\n",
    "All we need now is some model by which we can compute $P({\\rm features}~|~L_i)$ for each label.\n",
    "\n",
    "Such a model is called a *generative model* because it specifies the hypothetical random process that generates the data.\n",
    "\n",
    "Specifying this generative model for each label is the main piece of the training of such a Bayesian classifier.\n",
    "\n",
    "The general version of such a training step is a very difficult task, but we can make it simpler through the use of some simplifying assumptions about the form of this model.\n",
    "\n",
    "This is where the \"naive\" in \"naive Bayes\" comes in: if we make very naive assumptions about the generative model for each label, we can find a rough approximation of the generative model for each class, and then proceed with the Bayesian classification.\n",
    "\n",
    "Different types of naive Bayes classifiers rest on different naive assumptions about the data, and we will examine a few of these in the following sections.\n",
    "\n",
    "We begin with the standard imports:"
   ]
  },
  {
   "cell_type": "code",
   "execution_count": 25,
   "metadata": {
    "pycharm": {
     "name": "#%%\n"
    }
   },
   "outputs": [],
   "source": [
    "%matplotlib inline\n",
    "import numpy as np\n",
    "import matplotlib.pyplot as plt\n",
    "import seaborn as sns"
   ]
  },
  {
   "cell_type": "markdown",
   "metadata": {},
   "source": [
    "### Gaussian Naive Bayes\n",
    "\n",
    "Perhaps the easiest naive Bayes classifier to understand is Gaussian naive Bayes.\n",
    "In this classifier, the assumption is that *data from each label is drawn from a simple Gaussian distribution*.\n",
    "Imagine that you have the following data:"
   ]
  },
  {
   "cell_type": "code",
   "execution_count": 26,
   "metadata": {
    "pycharm": {
     "name": "#%%\n"
    }
   },
   "outputs": [
    {
     "data": {
      "image/png": "[encoded data removed]",
      "text/plain": [
       "<Figure size 432x288 with 1 Axes>"
      ]
     },
     "metadata": {
      "needs_background": "light"
     },
     "output_type": "display_data"
    }
   ],
   "source": [
    "from sklearn.datasets import make_blobs\n",
    "X, y = make_blobs(100, 2, centers=2, random_state=2, cluster_std=1.5)\n",
    "plt.scatter(X[:, 0], X[:, 1], c=y, s=50, cmap='RdBu');"
   ]
  },
  {
   "cell_type": "markdown",
   "metadata": {},
   "source": [
    "One extremely fast way to create a simple model is to assume that the data is described by a Gaussian distribution with no covariance between dimensions.\n",
    "\n",
    "This model can be fit by simply finding the mean and standard deviation of the points within each label, which is all you need to define such a distribution.\n",
    "\n",
    "The result of this naive Gaussian assumption is shown in the following figure:"
   ]
  },
  {
   "cell_type": "markdown",
   "metadata": {},
   "source": [
    "The ellipses here represent the Gaussian generative model for each label, with larger probability toward the center of the ellipses.\n",
    "\n",
    "With this generative model in place for each class, we have a simple recipe to compute the likelihood $P({\\rm features}~|~L_1)$ for any data point, and thus we can quickly compute the posterior ratio and determine which label is the most probable for a given point.\n",
    "\n",
    "This procedure is implemented in Scikit-Learn's ``sklearn.naive_bayes.GaussianNB`` estimator:"
   ]
  },
  {
   "cell_type": "code",
   "execution_count": 27,
   "metadata": {
    "pycharm": {
     "name": "#%%\n"
    }
   },
   "outputs": [
    {
     "data": {
      "text/plain": [
       "GaussianNB()"
      ]
     },
     "execution_count": 27,
     "metadata": {},
     "output_type": "execute_result"
    }
   ],
   "source": [
    "from sklearn.naive_bayes import GaussianNB\n",
    "model = GaussianNB()\n",
    "model.fit(X, y)"
   ]
  },
  {
   "cell_type": "markdown",
   "metadata": {},
   "source": [
    "Now let's generate some new data and predict the label:"
   ]
  },
  {
   "cell_type": "code",
   "execution_count": 28,
   "metadata": {
    "pycharm": {
     "name": "#%%\n"
    }
   },
   "outputs": [],
   "source": [
    "rng = np.random.RandomState(0)\n",
    "Xnew = [-6, -14] + [14, 18] * rng.rand(2000, 2)\n",
    "ynew = model.predict(Xnew)"
   ]
  },
  {
   "cell_type": "markdown",
   "metadata": {},
   "source": [
    "Now we can plot this new data to get an idea of where the decision boundary is:"
   ]
  },
  {
   "cell_type": "code",
   "execution_count": 29,
   "metadata": {
    "pycharm": {
     "name": "#%%\n"
    }
   },
   "outputs": [
    {
     "data": {
      "image/png": "[encoded data removed]",
      "text/plain": [
       "<Figure size 432x288 with 1 Axes>"
      ]
     },
     "metadata": {
      "needs_background": "light"
     },
     "output_type": "display_data"
    }
   ],
   "source": [
    "plt.scatter(X[:, 0], X[:, 1], c=y, s=50, cmap='RdBu')\n",
    "lim = plt.axis()\n",
    "plt.scatter(Xnew[:, 0], Xnew[:, 1], c=ynew, s=20, cmap='RdBu', alpha=0.1)\n",
    "plt.axis(lim);"
   ]
  },
  {
   "cell_type": "markdown",
   "metadata": {},
   "source": [
    "We see a slightly curved boundary in the classifications—in general, the boundary in Gaussian naive Bayes is quadratic.\n",
    "\n",
    "A nice piece of this Bayesian formalism is that it naturally allows for probabilistic classification, which we can compute using the ``predict_proba`` method:"
   ]
  },
  {
   "cell_type": "code",
   "execution_count": 30,
   "metadata": {
    "pycharm": {
     "name": "#%%\n"
    }
   },
   "outputs": [
    {
     "data": {
      "text/plain": [
       "array([[0.89, 0.11],\n",
       "       [1.  , 0.  ],\n",
       "       [1.  , 0.  ],\n",
       "       [1.  , 0.  ],\n",
       "       [1.  , 0.  ],\n",
       "       [1.  , 0.  ],\n",
       "       [0.  , 1.  ],\n",
       "       [0.15, 0.85]])"
      ]
     },
     "execution_count": 30,
     "metadata": {},
     "output_type": "execute_result"
    }
   ],
   "source": [
    "yprob = model.predict_proba(Xnew)\n",
    "yprob[-8:].round(2)"
   ]
  },
  {
   "cell_type": "code",
   "execution_count": 31,
   "metadata": {},
   "outputs": [
    {
     "data": {
      "text/plain": [
       "array([0, 1])"
      ]
     },
     "execution_count": 31,
     "metadata": {},
     "output_type": "execute_result"
    }
   ],
   "source": [
    "model.classes_"
   ]
  },
  {
   "cell_type": "markdown",
   "metadata": {},
   "source": [
    "The columns give the posterior probabilities of the first and second label, respectively.\n",
    "If you are looking for estimates of uncertainty in your classification, Bayesian approaches like this can be a useful approach.\n",
    "\n",
    "Of course, the final classification will only be as good as the model assumptions that lead to it, which is why Gaussian naive Bayes often does not produce very good results.\n",
    "Still, in many cases—especially as the number of features becomes large—this assumption is not detrimental enough to prevent Gaussian naive Bayes from being a useful method."
   ]
  },
  {
   "cell_type": "markdown",
   "metadata": {},
   "source": [
    "## Multinomial Naive Bayes\n",
    "\n",
    "The Gaussian assumption just described is by no means the only simple assumption that could be used to specify the generative distribution for each label.\n",
    "Another useful example is multinomial naive Bayes, where the features are assumed to be generated from a simple multinomial distribution.\n",
    "The multinomial distribution describes the probability of observing counts among a number of categories, and thus multinomial naive Bayes is most appropriate for features that represent counts or count rates.\n",
    "\n",
    "The idea is precisely the same as before, except that instead of modeling the data distribution with the best-fit Gaussian, we model the data distribution with a best-fit multinomial distribution."
   ]
  },
  {
   "cell_type": "markdown",
   "metadata": {},
   "source": [
    "### Example: Classifying Text\n",
    "\n",
    "One place where multinomial naive Bayes is often used is in text classification, where the features are related to word counts or frequencies within the documents to be classified.\n",
    "We discussed the extraction of such features from text in [Feature Engineering](05.04-Feature-Engineering.ipynb); here we will use the sparse word count features from the 20 Newsgroups corpus to show how we might classify these short documents into categories.\n",
    "\n",
    "Let's download the data and take a look at the target names:"
   ]
  },
  {
   "cell_type": "code",
   "execution_count": 32,
   "metadata": {
    "pycharm": {
     "name": "#%%\n"
    }
   },
   "outputs": [
    {
     "data": {
      "text/plain": [
       "['alt.atheism',\n",
       " 'comp.graphics',\n",
       " 'comp.os.ms-windows.misc',\n",
       " 'comp.sys.ibm.pc.hardware',\n",
       " 'comp.sys.mac.hardware',\n",
       " 'comp.windows.x',\n",
       " 'misc.forsale',\n",
       " 'rec.autos',\n",
       " 'rec.motorcycles',\n",
       " 'rec.sport.baseball',\n",
       " 'rec.sport.hockey',\n",
       " 'sci.crypt',\n",
       " 'sci.electronics',\n",
       " 'sci.med',\n",
       " 'sci.space',\n",
       " 'soc.religion.christian',\n",
       " 'talk.politics.guns',\n",
       " 'talk.politics.mideast',\n",
       " 'talk.politics.misc',\n",
       " 'talk.religion.misc']"
      ]
     },
     "execution_count": 32,
     "metadata": {},
     "output_type": "execute_result"
    }
   ],
   "source": [
    "from sklearn.datasets import fetch_20newsgroups\n",
    "\n",
    "data = fetch_20newsgroups()\n",
    "data.target_names"
   ]
  },
  {
   "cell_type": "markdown",
   "metadata": {},
   "source": [
    "For simplicity here, we will select just a few of these categories, and download the training and testing set:"
   ]
  },
  {
   "cell_type": "code",
   "execution_count": 33,
   "metadata": {
    "pycharm": {
     "name": "#%%\n"
    }
   },
   "outputs": [],
   "source": [
    "categories = ['talk.religion.misc', 'soc.religion.christian',\n",
    "             'sci.space', 'comp.graphics']\n",
    "train = fetch_20newsgroups(subset='train', categories=categories)\n",
    "test = fetch_20newsgroups(subset='test', categories=categories)"
   ]
  },
  {
   "cell_type": "markdown",
   "metadata": {},
   "source": [
    "Here is a representative entry from the data:"
   ]
  },
  {
   "cell_type": "code",
   "execution_count": 34,
   "metadata": {
    "pycharm": {
     "name": "#%%\n"
    }
   },
   "outputs": [
    {
     "name": "stdout",
     "output_type": "stream",
     "text": [
      "From: dmcgee@uluhe.soest.hawaii.edu (Don McGee)\n",
      "Subject: Federal Hearing\n",
      "Originator: dmcgee@uluhe\n",
      "Organization: School of Ocean and Earth Science and Technology\n",
      "Distribution: usa\n",
      "Lines: 10\n",
      "\n",
      "\n",
      "Fact or rumor....?  Madalyn Murray O'Hare an atheist who eliminated the\n",
      "use of the bible reading and prayer in public schools 15 years ago is now\n",
      "going to appear before the FCC with a petition to stop the reading of the\n",
      "Gospel on the airways of America.  And she is also campaigning to remove\n",
      "Christmas programs, songs, etc from the public schools.  If it is true\n",
      "then mail to Federal Communications Commission 1919 H Street Washington DC\n",
      "20054 expressing your opposition to her request.  Reference Petition number\n",
      "\n",
      "2493.\n",
      "\n"
     ]
    }
   ],
   "source": [
    "print(train.data[5])"
   ]
  },
  {
   "cell_type": "markdown",
   "metadata": {},
   "source": [
    "Show the distributions of lengths of the emails"
   ]
  },
  {
   "cell_type": "code",
   "execution_count": 35,
   "metadata": {
    "pycharm": {
     "name": "#%%\n"
    }
   },
   "outputs": [
    {
     "data": {
      "image/png": "[encoded data removed]",
      "text/plain": [
       "<Figure size 432x288 with 1 Axes>"
      ]
     },
     "metadata": {
      "needs_background": "light"
     },
     "output_type": "display_data"
    }
   ],
   "source": [
    "lens = [len(d) for d in train.data]\n",
    "\n",
    "def plot_loghist(x, bins):\n",
    "  hist, bins = np.histogram(x, bins=bins)\n",
    "  logbins = np.logspace(np.log10(bins[0]),np.log10(bins[-1]),len(bins))\n",
    "  plt.hist(x, bins=logbins)\n",
    "  plt.xscale('log')\n",
    "\n",
    "plot_loghist(lens, 10)\n"
   ]
  },
  {
   "cell_type": "markdown",
   "metadata": {},
   "source": [
    "In order to use this data for machine learning, we need to be able to convert the content of each string into a vector of numbers.\n",
    "For this we will use the TF-IDF vectorizer, and create a pipeline that attaches it to a multinomial naive Bayes classifier:"
   ]
  },
  {
   "cell_type": "code",
   "execution_count": 36,
   "metadata": {
    "pycharm": {
     "name": "#%%\n"
    }
   },
   "outputs": [],
   "source": [
    "from sklearn.feature_extraction.text import TfidfVectorizer\n",
    "from sklearn.naive_bayes import MultinomialNB\n",
    "from sklearn.pipeline import make_pipeline\n",
    "\n",
    "model = make_pipeline(TfidfVectorizer(), MultinomialNB())"
   ]
  },
  {
   "cell_type": "markdown",
   "metadata": {},
   "source": [
    "With this pipeline, we can apply the model to the training data, and predict labels for the test data:"
   ]
  },
  {
   "cell_type": "code",
   "execution_count": 37,
   "metadata": {
    "pycharm": {
     "name": "#%%\n"
    }
   },
   "outputs": [],
   "source": [
    "model.fit(train.data, train.target)\n",
    "labels = model.predict(test.data)"
   ]
  },
  {
   "cell_type": "markdown",
   "metadata": {},
   "source": [
    "Now that we have predicted the labels for the test data, we can evaluate them to learn about the performance of the estimator.\n",
    "For example, here is the confusion matrix between the true and predicted labels for the test data:"
   ]
  },
  {
   "cell_type": "code",
   "execution_count": 38,
   "metadata": {
    "pycharm": {
     "name": "#%%\n"
    }
   },
   "outputs": [
    {
     "data": {
      "image/png": "[encoded data removed]",
      "text/plain": [
       "<Figure size 1440x1008 with 1 Axes>"
      ]
     },
     "metadata": {
      "needs_background": "light"
     },
     "output_type": "display_data"
    }
   ],
   "source": [
    "from sklearn.metrics import confusion_matrix\n",
    "mat = confusion_matrix(test.target, labels)\n",
    "plt.figure(figsize=(20,14))\n",
    "sns.heatmap(mat.T, square=True, annot=True, fmt='d', cbar=False,\n",
    "            xticklabels=train.target_names, yticklabels=train.target_names)\n",
    "plt.xlabel('true label')\n",
    "plt.ylabel('predicted label');"
   ]
  },
  {
   "cell_type": "markdown",
   "metadata": {},
   "source": [
    "Evidently, even this very simple classifier can successfully separate space talk from computer talk, but it gets confused between talk about religion and talk about Christianity.\n",
    "This is perhaps an expected area of confusion!\n",
    "\n",
    "The very cool thing here is that we now have the tools to determine the category for *any* string, using the ``predict()`` method of this pipeline.\n",
    "Here's a quick utility function that will return the prediction for a single string:"
   ]
  },
  {
   "cell_type": "code",
   "execution_count": 39,
   "metadata": {
    "pycharm": {
     "name": "#%%\n"
    }
   },
   "outputs": [
    {
     "name": "stdout",
     "output_type": "stream",
     "text": [
      "              precision    recall  f1-score   support\n",
      "\n",
      "           0       0.97      0.88      0.92       389\n",
      "           1       0.92      0.92      0.92       394\n",
      "           2       0.62      0.98      0.76       398\n",
      "           3       1.00      0.19      0.32       251\n",
      "\n",
      "    accuracy                           0.80      1432\n",
      "   macro avg       0.88      0.75      0.73      1432\n",
      "weighted avg       0.86      0.80      0.77      1432\n",
      "\n"
     ]
    }
   ],
   "source": [
    "from sklearn.metrics import classification_report\n",
    "print(classification_report(test.target, labels))\n"
   ]
  },
  {
   "cell_type": "code",
   "execution_count": 40,
   "metadata": {
    "pycharm": {
     "name": "#%%\n"
    }
   },
   "outputs": [],
   "source": [
    "def predict_category(s, train=train, model=model):\n",
    "    pred = model.predict([s])\n",
    "    return train.target_names[pred[0]]"
   ]
  },
  {
   "cell_type": "markdown",
   "metadata": {},
   "source": [
    "Let's try it out:"
   ]
  },
  {
   "cell_type": "code",
   "execution_count": 41,
   "metadata": {
    "pycharm": {
     "name": "#%%\n"
    }
   },
   "outputs": [
    {
     "data": {
      "text/plain": [
       "'sci.space'"
      ]
     },
     "execution_count": 41,
     "metadata": {},
     "output_type": "execute_result"
    }
   ],
   "source": [
    "predict_category('sending a payload to the ISS')"
   ]
  },
  {
   "cell_type": "code",
   "execution_count": 42,
   "metadata": {
    "pycharm": {
     "name": "#%%\n"
    }
   },
   "outputs": [
    {
     "data": {
      "text/plain": [
       "'comp.graphics'"
      ]
     },
     "execution_count": 42,
     "metadata": {},
     "output_type": "execute_result"
    }
   ],
   "source": [
    "predict_category('sending bytes to the network')"
   ]
  },
  {
   "cell_type": "code",
   "execution_count": 43,
   "metadata": {
    "pycharm": {
     "name": "#%%\n"
    }
   },
   "outputs": [
    {
     "data": {
      "text/plain": [
       "'sci.space'"
      ]
     },
     "execution_count": 43,
     "metadata": {},
     "output_type": "execute_result"
    }
   ],
   "source": [
    "predict_category('sending chocolate')"
   ]
  },
  {
   "cell_type": "code",
   "execution_count": 44,
   "metadata": {
    "pycharm": {
     "name": "#%%\n"
    }
   },
   "outputs": [
    {
     "data": {
      "text/plain": [
       "'soc.religion.christian'"
      ]
     },
     "execution_count": 44,
     "metadata": {},
     "output_type": "execute_result"
    }
   ],
   "source": [
    "predict_category('discussing islam vs atheism')"
   ]
  },
  {
   "cell_type": "code",
   "execution_count": 45,
   "metadata": {
    "pycharm": {
     "name": "#%%\n"
    }
   },
   "outputs": [
    {
     "data": {
      "text/plain": [
       "'comp.graphics'"
      ]
     },
     "execution_count": 45,
     "metadata": {},
     "output_type": "execute_result"
    }
   ],
   "source": [
    "predict_category('determining the screen resolution')"
   ]
  },
  {
   "cell_type": "markdown",
   "metadata": {},
   "source": [
    "Remember that this is nothing more sophisticated than a simple probability model for the (weighted) frequency of each word in the string; nevertheless, the result is striking.\n",
    "Even a very naive algorithm, when used carefully and trained on a large set of high-dimensional data, can be surprisingly effective."
   ]
  },
  {
   "cell_type": "markdown",
   "metadata": {},
   "source": [
    "## When to Use Naive Bayes\n",
    "\n",
    "Because naive Bayesian classifiers make such stringent assumptions about data, they will generally not perform as well as a more complicated model.\n",
    "That said, they have several advantages:\n",
    "\n",
    "- They are extremely fast for both training and prediction\n",
    "- They provide straightforward probabilistic prediction\n",
    "- They are often very easily interpretable\n",
    "- They have very few (if any) tunable parameters\n",
    "\n",
    "These advantages mean a naive Bayesian classifier is often a good choice as an initial baseline classification.\n",
    "If it performs suitably, then congratulations: you have a very fast, very interpretable classifier for your problem.\n",
    "If it does not perform well, then you can begin exploring more sophisticated models, with some baseline knowledge of how well they should perform.\n",
    "\n",
    "Naive Bayes classifiers tend to perform especially well in one of the following situations:\n",
    "\n",
    "- When the naive assumptions actually match the data (very rare in practice)\n",
    "- For very well-separated categories, when model complexity is less important\n",
    "- For very high-dimensional data, when model complexity is less important\n",
    "\n",
    "The last two points seem distinct, but they actually are related: as the dimension of a dataset grows, it is much less likely for any two points to be found close together (after all, they must be close in *every single dimension* to be close overall).\n",
    "This means that clusters in high dimensions tend to be more separated, on average, than clusters in low dimensions, assuming the new dimensions actually add information.\n",
    "For this reason, simplistic classifiers like naive Bayes tend to work as well or better than more complicated classifiers as the dimensionality grows: once you have enough data, even a simple model can be very powerful.\n",
    "\n",
    "\n"
   ]
  }
 ],
 "metadata": {
  "kernelspec": {
   "display_name": "Python 3 (ipykernel)",
   "language": "python",
   "name": "python3"
  },
  "language_info": {
   "codemirror_mode": {
    "name": "ipython",
    "version": 3
   },
   "file_extension": ".py",
   "mimetype": "text/x-python",
   "name": "python",
   "nbconvert_exporter": "python",
   "pygments_lexer": "ipython3",
   "version": "3.8.5"
  }
 },
 "nbformat": 4,
 "nbformat_minor": 2
}
